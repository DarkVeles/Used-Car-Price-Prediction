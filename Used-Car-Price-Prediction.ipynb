{
 "cells": [
  {
   "cell_type": "markdown",
   "id": "20c0c059-0da5-469c-98e0-584b478c05f5",
   "metadata": {},
   "source": [
    "# Определение стоимости автомобилей"
   ]
  },
  {
   "cell_type": "markdown",
   "id": "e55236af-d335-4963-936e-49df9f4e9e9e",
   "metadata": {},
   "source": [
    "## Описание проекта\n",
    "Сервис по продаже автомобилей с пробегом «Не бит, не крашен» разрабатывает приложение, чтобы привлечь новых клиентов. В нём можно будет узнать рыночную стоимость своего автомобиля. \n",
    "Постройте модель, которая умеет её определять. В вашем распоряжении данные о технических характеристиках, комплектации и ценах других автомобилей.\n",
    "\n",
    "\n",
    "Критерии, которые важны заказчику:\n",
    "\n",
    "\n",
    "- качество предсказания;\n",
    "- время обучения модели;\n",
    "- время предсказания модели.одели."
   ]
  },
  {
   "cell_type": "markdown",
   "id": "35c6b607-c665-4a79-8534-75cebf261f5e",
   "metadata": {},
   "source": [
    "## Описание данных\n",
    "\n",
    "- **DateCrawled** — дата скачивания анкеты из базы\n",
    "- **VehicleType** — тип автомобильного кузова\n",
    "- **RegistrationYear** — год регистрации автомобиля\n",
    "- **Gearbox** — тип коробки передач\n",
    "- **Power** — мощность (л. с.)\n",
    "- **Model** — модель автомобиля\n",
    "- **Kilometer** — пробег (км)\n",
    "- **RegistrationMonth** — месяц регистрации автомобиля\n",
    "- **FuelType** — тип топлива\n",
    "- **Brand** — марка автомобиля\n",
    "- **Repaired** — была машина в ремонте или нет\n",
    "- **DateCreated** — дата создания анкеты\n",
    "- **NumberOfPictures** — количество фотографий автомобиля\n",
    "- **PostalCode** — почтовый индекс владельца анкеты (пользователя)\n",
    "- **LastSeen** — дата последней активности пользователя\n",
    "\n",
    "  \n",
    "**Целевой признак**\n",
    "Price — цена (евро)"
   ]
  },
  {
   "cell_type": "code",
   "execution_count": 1,
   "id": "f0463576-3071-4a0f-9a97-2fa2c6335d10",
   "metadata": {},
   "outputs": [],
   "source": [
    "!pip install catboost -q"
   ]
  },
  {
   "cell_type": "code",
   "execution_count": 2,
   "id": "00e23193-93d4-4656-8cb1-f63fe0f547d8",
   "metadata": {},
   "outputs": [],
   "source": [
    "!pip install lightgbm -q"
   ]
  },
  {
   "cell_type": "code",
   "execution_count": 3,
   "id": "8d47556b",
   "metadata": {},
   "outputs": [],
   "source": [
    "!pip install phik statsmodels lightgbm -q"
   ]
  },
  {
   "cell_type": "code",
   "execution_count": 4,
   "id": "82ed99dc",
   "metadata": {},
   "outputs": [],
   "source": [
    "!pip install optuna -q "
   ]
  },
  {
   "cell_type": "code",
   "execution_count": 5,
   "id": "5c14c2f3",
   "metadata": {},
   "outputs": [],
   "source": [
    "!pip install optuna-integration[lightgbm] -q"
   ]
  },
  {
   "cell_type": "code",
   "execution_count": 6,
   "id": "a885abaf-23c6-49ed-8b98-b27b6f6ea1e6",
   "metadata": {},
   "outputs": [],
   "source": [
    "import seaborn as sns\n",
    "import numpy as np\n",
    "import pandas as pd\n",
    "import matplotlib.pyplot as plt\n",
    "from sklearn.model_selection import train_test_split, GridSearchCV, RandomizedSearchCV\n",
    "from sklearn.metrics import mean_squared_error\n",
    "from sklearn.ensemble import RandomForestRegressor\n",
    "import lightgbm as lgb\n",
    "from sklearn.preprocessing import OrdinalEncoder\n",
    "from phik import report\n",
    "from phik.report import plot_correlation_matrix\n",
    "import statsmodels.api as sm\n",
    "from statsmodels.stats.outliers_influence import variance_inflation_factor\n",
    "import optuna\n",
    "from optuna.integration import LightGBMPruningCallback"
   ]
  },
  {
   "cell_type": "markdown",
   "id": "eaff2be5-3e30-48c2-8c97-417530fa8fb2",
   "metadata": {},
   "source": [
    "# 1. Загрузка данных"
   ]
  },
  {
   "cell_type": "code",
   "execution_count": 7,
   "id": "89ec008b-3ad7-4ce5-b195-9d68cd411629",
   "metadata": {},
   "outputs": [],
   "source": [
    "# Подключение и загрузка данных с преобразованием столбцов с датами\n",
    "try:\n",
    "    data = pd.read_csv('/datasets/autos.csv', sep=',', decimal='.', parse_dates=['DateCrawled', 'LastSeen', 'DateCreated', 'RegistrationMonth'])\n",
    "except:\n",
    "    data = pd.read_csv('https://code.s3.yandex.net/datasets/autos.csv', sep=',', decimal='.', parse_dates=['DateCrawled', 'LastSeen', 'DateCreated', 'RegistrationMonth'])"
   ]
  },
  {
   "cell_type": "code",
   "execution_count": 8,
   "id": "558b494e-9eca-447c-b974-ab2553b38ce7",
   "metadata": {},
   "outputs": [
    {
     "data": {
      "text/html": [
       "<div>\n",
       "<style scoped>\n",
       "    .dataframe tbody tr th:only-of-type {\n",
       "        vertical-align: middle;\n",
       "    }\n",
       "\n",
       "    .dataframe tbody tr th {\n",
       "        vertical-align: top;\n",
       "    }\n",
       "\n",
       "    .dataframe thead th {\n",
       "        text-align: right;\n",
       "    }\n",
       "</style>\n",
       "<table border=\"1\" class=\"dataframe\">\n",
       "  <thead>\n",
       "    <tr style=\"text-align: right;\">\n",
       "      <th></th>\n",
       "      <th>DateCrawled</th>\n",
       "      <th>Price</th>\n",
       "      <th>VehicleType</th>\n",
       "      <th>RegistrationYear</th>\n",
       "      <th>Gearbox</th>\n",
       "      <th>Power</th>\n",
       "      <th>Model</th>\n",
       "      <th>Kilometer</th>\n",
       "      <th>RegistrationMonth</th>\n",
       "      <th>FuelType</th>\n",
       "      <th>Brand</th>\n",
       "      <th>Repaired</th>\n",
       "      <th>DateCreated</th>\n",
       "      <th>NumberOfPictures</th>\n",
       "      <th>PostalCode</th>\n",
       "      <th>LastSeen</th>\n",
       "    </tr>\n",
       "  </thead>\n",
       "  <tbody>\n",
       "    <tr>\n",
       "      <th>0</th>\n",
       "      <td>2016-03-24 11:52:17</td>\n",
       "      <td>480</td>\n",
       "      <td>NaN</td>\n",
       "      <td>1993</td>\n",
       "      <td>manual</td>\n",
       "      <td>0</td>\n",
       "      <td>golf</td>\n",
       "      <td>150000</td>\n",
       "      <td>0</td>\n",
       "      <td>petrol</td>\n",
       "      <td>volkswagen</td>\n",
       "      <td>NaN</td>\n",
       "      <td>2016-03-24</td>\n",
       "      <td>0</td>\n",
       "      <td>70435</td>\n",
       "      <td>2016-04-07 03:16:57</td>\n",
       "    </tr>\n",
       "    <tr>\n",
       "      <th>1</th>\n",
       "      <td>2016-03-24 10:58:45</td>\n",
       "      <td>18300</td>\n",
       "      <td>coupe</td>\n",
       "      <td>2011</td>\n",
       "      <td>manual</td>\n",
       "      <td>190</td>\n",
       "      <td>NaN</td>\n",
       "      <td>125000</td>\n",
       "      <td>5</td>\n",
       "      <td>gasoline</td>\n",
       "      <td>audi</td>\n",
       "      <td>yes</td>\n",
       "      <td>2016-03-24</td>\n",
       "      <td>0</td>\n",
       "      <td>66954</td>\n",
       "      <td>2016-04-07 01:46:50</td>\n",
       "    </tr>\n",
       "    <tr>\n",
       "      <th>2</th>\n",
       "      <td>2016-03-14 12:52:21</td>\n",
       "      <td>9800</td>\n",
       "      <td>suv</td>\n",
       "      <td>2004</td>\n",
       "      <td>auto</td>\n",
       "      <td>163</td>\n",
       "      <td>grand</td>\n",
       "      <td>125000</td>\n",
       "      <td>8</td>\n",
       "      <td>gasoline</td>\n",
       "      <td>jeep</td>\n",
       "      <td>NaN</td>\n",
       "      <td>2016-03-14</td>\n",
       "      <td>0</td>\n",
       "      <td>90480</td>\n",
       "      <td>2016-04-05 12:47:46</td>\n",
       "    </tr>\n",
       "    <tr>\n",
       "      <th>3</th>\n",
       "      <td>2016-03-17 16:54:04</td>\n",
       "      <td>1500</td>\n",
       "      <td>small</td>\n",
       "      <td>2001</td>\n",
       "      <td>manual</td>\n",
       "      <td>75</td>\n",
       "      <td>golf</td>\n",
       "      <td>150000</td>\n",
       "      <td>6</td>\n",
       "      <td>petrol</td>\n",
       "      <td>volkswagen</td>\n",
       "      <td>no</td>\n",
       "      <td>2016-03-17</td>\n",
       "      <td>0</td>\n",
       "      <td>91074</td>\n",
       "      <td>2016-03-17 17:40:17</td>\n",
       "    </tr>\n",
       "    <tr>\n",
       "      <th>4</th>\n",
       "      <td>2016-03-31 17:25:20</td>\n",
       "      <td>3600</td>\n",
       "      <td>small</td>\n",
       "      <td>2008</td>\n",
       "      <td>manual</td>\n",
       "      <td>69</td>\n",
       "      <td>fabia</td>\n",
       "      <td>90000</td>\n",
       "      <td>7</td>\n",
       "      <td>gasoline</td>\n",
       "      <td>skoda</td>\n",
       "      <td>no</td>\n",
       "      <td>2016-03-31</td>\n",
       "      <td>0</td>\n",
       "      <td>60437</td>\n",
       "      <td>2016-04-06 10:17:21</td>\n",
       "    </tr>\n",
       "  </tbody>\n",
       "</table>\n",
       "</div>"
      ],
      "text/plain": [
       "          DateCrawled  Price VehicleType  RegistrationYear Gearbox  Power  \\\n",
       "0 2016-03-24 11:52:17    480         NaN              1993  manual      0   \n",
       "1 2016-03-24 10:58:45  18300       coupe              2011  manual    190   \n",
       "2 2016-03-14 12:52:21   9800         suv              2004    auto    163   \n",
       "3 2016-03-17 16:54:04   1500       small              2001  manual     75   \n",
       "4 2016-03-31 17:25:20   3600       small              2008  manual     69   \n",
       "\n",
       "   Model  Kilometer RegistrationMonth  FuelType       Brand Repaired  \\\n",
       "0   golf     150000                 0    petrol  volkswagen      NaN   \n",
       "1    NaN     125000                 5  gasoline        audi      yes   \n",
       "2  grand     125000                 8  gasoline        jeep      NaN   \n",
       "3   golf     150000                 6    petrol  volkswagen       no   \n",
       "4  fabia      90000                 7  gasoline       skoda       no   \n",
       "\n",
       "  DateCreated  NumberOfPictures  PostalCode            LastSeen  \n",
       "0  2016-03-24                 0       70435 2016-04-07 03:16:57  \n",
       "1  2016-03-24                 0       66954 2016-04-07 01:46:50  \n",
       "2  2016-03-14                 0       90480 2016-04-05 12:47:46  \n",
       "3  2016-03-17                 0       91074 2016-03-17 17:40:17  \n",
       "4  2016-03-31                 0       60437 2016-04-06 10:17:21  "
      ]
     },
     "metadata": {},
     "output_type": "display_data"
    }
   ],
   "source": [
    "# Просмотр первых нескольких строк\n",
    "display(data.head())"
   ]
  },
  {
   "cell_type": "markdown",
   "id": "ea822180-fb5b-458c-a1a8-a494e4279fa7",
   "metadata": {},
   "source": [
    "# 2.Изучение данных"
   ]
  },
  {
   "cell_type": "markdown",
   "id": "caefd227-497d-4a65-89cd-0254a2e841da",
   "metadata": {},
   "source": [
    "Все мои работы наследуют эту функцию, я чуть переделываю её под каждое задание. Это удобно. "
   ]
  },
  {
   "cell_type": "code",
   "execution_count": 9,
   "id": "6bfa9c6b-1158-4525-8a8b-4be67c1eeeee",
   "metadata": {},
   "outputs": [],
   "source": [
    "def check_data(df, name):\n",
    "    print(f\"Проверка данных: {name}\")\n",
    "    print(\"=\"*30)\n",
    "    \n",
    "    # Основная информация\n",
    "    print(f\"Размер датасета: {df.shape}\")\n",
    "    print(df.info())\n",
    "    \n",
    "    # Проверка пропусков\n",
    "    print(\"\\nПропуски в данных:\")\n",
    "    print(df.isnull().sum())\n",
    "    \n",
    "    # Проверка дубликатов\n",
    "    print(f\"\\nКоличество дубликатов: {df.duplicated().sum()}\")\n",
    "    \n",
    "    # Описание данных\n",
    "    print(\"\\nОписание числовых данных:\")\n",
    "    print(df.describe(include=[np.number]))\n",
    "    \n",
    "    # Проверка аномалий (например, отрицательные цены и мощности)\n",
    "    if 'Price' in df.columns:\n",
    "        print(f\"\\nКоличество аномальных значений цены (<= 0): {df[df['Price'] <= 0].shape[0]}\")\n",
    "    if 'Power' in df.columns:\n",
    "        print(f\"\\nКоличество аномальных значений мощности (<= 0): {df[df['Power'] <= 0].shape[0]}\")\n",
    "    if 'RegistrationYear' in df.columns:\n",
    "        print(f\"\\nКоличество аномальных значений года регистрации (до 1900 или в будущем): {df[(df['RegistrationYear'] < 1900) | (df['RegistrationYear'] > pd.Timestamp.now().year)].shape[0]}\")\n",
    "    \n",
    "    # Уникальные значения в категориальных признаках\n",
    "    print(\"\\nУникальные значения в категориальных признаках:\")\n",
    "    for column in df.select_dtypes(include='object').columns:\n",
    "        unique_values = df[column].nunique()\n",
    "        print(f\"{column}: {unique_values} уникальных значений\")\n",
    "        if unique_values < 20:  # Если меньше 20 уникальных значений, вывести их\n",
    "            print(df[column].unique())\n",
    "    \n",
    "    print(\"=\"*30)\n",
    "    print(\"\\n\")"
   ]
  },
  {
   "cell_type": "code",
   "execution_count": 10,
   "id": "4ed15d89-b28d-492b-b1c5-71e103c998c6",
   "metadata": {},
   "outputs": [
    {
     "name": "stdout",
     "output_type": "stream",
     "text": [
      "Проверка данных: car_base\n",
      "==============================\n",
      "Размер датасета: (354369, 16)\n",
      "<class 'pandas.core.frame.DataFrame'>\n",
      "RangeIndex: 354369 entries, 0 to 354368\n",
      "Data columns (total 16 columns):\n",
      " #   Column             Non-Null Count   Dtype         \n",
      "---  ------             --------------   -----         \n",
      " 0   DateCrawled        354369 non-null  datetime64[ns]\n",
      " 1   Price              354369 non-null  int64         \n",
      " 2   VehicleType        316879 non-null  object        \n",
      " 3   RegistrationYear   354369 non-null  int64         \n",
      " 4   Gearbox            334536 non-null  object        \n",
      " 5   Power              354369 non-null  int64         \n",
      " 6   Model              334664 non-null  object        \n",
      " 7   Kilometer          354369 non-null  int64         \n",
      " 8   RegistrationMonth  354369 non-null  object        \n",
      " 9   FuelType           321474 non-null  object        \n",
      " 10  Brand              354369 non-null  object        \n",
      " 11  Repaired           283215 non-null  object        \n",
      " 12  DateCreated        354369 non-null  datetime64[ns]\n",
      " 13  NumberOfPictures   354369 non-null  int64         \n",
      " 14  PostalCode         354369 non-null  int64         \n",
      " 15  LastSeen           354369 non-null  datetime64[ns]\n",
      "dtypes: datetime64[ns](3), int64(6), object(7)\n",
      "memory usage: 43.3+ MB\n",
      "None\n",
      "\n",
      "Пропуски в данных:\n",
      "DateCrawled              0\n",
      "Price                    0\n",
      "VehicleType          37490\n",
      "RegistrationYear         0\n",
      "Gearbox              19833\n",
      "Power                    0\n",
      "Model                19705\n",
      "Kilometer                0\n",
      "RegistrationMonth        0\n",
      "FuelType             32895\n",
      "Brand                    0\n",
      "Repaired             71154\n",
      "DateCreated              0\n",
      "NumberOfPictures         0\n",
      "PostalCode               0\n",
      "LastSeen                 0\n",
      "dtype: int64\n",
      "\n",
      "Количество дубликатов: 4\n",
      "\n",
      "Описание числовых данных:\n",
      "               Price  RegistrationYear          Power      Kilometer  \\\n",
      "count  354369.000000     354369.000000  354369.000000  354369.000000   \n",
      "mean     4416.656776       2004.234448     110.094337  128211.172535   \n",
      "std      4514.158514         90.227958     189.850405   37905.341530   \n",
      "min         0.000000       1000.000000       0.000000    5000.000000   \n",
      "25%      1050.000000       1999.000000      69.000000  125000.000000   \n",
      "50%      2700.000000       2003.000000     105.000000  150000.000000   \n",
      "75%      6400.000000       2008.000000     143.000000  150000.000000   \n",
      "max     20000.000000       9999.000000   20000.000000  150000.000000   \n",
      "\n",
      "       NumberOfPictures     PostalCode  \n",
      "count          354369.0  354369.000000  \n",
      "mean                0.0   50508.689087  \n",
      "std                 0.0   25783.096248  \n",
      "min                 0.0    1067.000000  \n",
      "25%                 0.0   30165.000000  \n",
      "50%                 0.0   49413.000000  \n",
      "75%                 0.0   71083.000000  \n",
      "max                 0.0   99998.000000  \n",
      "\n",
      "Количество аномальных значений цены (<= 0): 10772\n",
      "\n",
      "Количество аномальных значений мощности (<= 0): 40225\n",
      "\n",
      "Количество аномальных значений года регистрации (до 1900 или в будущем): 171\n",
      "\n",
      "Уникальные значения в категориальных признаках:\n",
      "VehicleType: 8 уникальных значений\n",
      "[nan 'coupe' 'suv' 'small' 'sedan' 'convertible' 'bus' 'wagon' 'other']\n",
      "Gearbox: 2 уникальных значений\n",
      "['manual' 'auto' nan]\n",
      "Model: 250 уникальных значений\n",
      "RegistrationMonth: 13 уникальных значений\n",
      "['0' '5' '8' '6' '7' '10' '12' '11' '2' '3' '1' '4' '9']\n",
      "FuelType: 7 уникальных значений\n",
      "['petrol' 'gasoline' nan 'lpg' 'other' 'hybrid' 'cng' 'electric']\n",
      "Brand: 40 уникальных значений\n",
      "Repaired: 2 уникальных значений\n",
      "[nan 'yes' 'no']\n",
      "==============================\n",
      "\n",
      "\n"
     ]
    }
   ],
   "source": [
    "check_data(data, \"car_base\")"
   ]
  },
  {
   "cell_type": "markdown",
   "id": "da3ca0d4-c565-4443-b11f-5e9d42b671ca",
   "metadata": {},
   "source": [
    "### Основные выводы по данным\n",
    "\n",
    "1. **Пропуски в данных:**\n",
    "   - Столбцы `VehicleType`, `Gearbox`, `Model`, `FuelType` и `Repaired` содержат пропуски.\n",
    "   - Наибольшее количество пропусков наблюдается в столбце `Repaired` (71,154), что составляет примерно 20% данных.\n",
    "\n",
    "2. **Аномальные значения:**\n",
    "   - В столбце `Price` есть 10,772 значения, равные или меньше нуля, что является некорректным для целевой переменной.\n",
    "   - Столбец `Power` содержит 40,225 значений, равных или меньше нуля, что также не соответствует реальности.\n",
    "   - В столбце `RegistrationYear` присутствуют 171 запись с невалидными значениями (меньше 1900 или в будущем).\n",
    "\n",
    "3. **Неинформативные признаки:**\n",
    "   - Столбцы `number_of_pictures`,`postal_code`,`date_created`,`last_seen`,`registration_month`,`date_crawled` не несут полезной информации для модели, поэтому его можно удалить.\n",
    "\n",
    "4. **Дубликаты:**\n",
    "   - Найдено 4 полных дубликата, которые следует удалить из данных.\n",
    "\n",
    "5. **Категориальные признаки:**\n",
    "   - Присутствуют столбцы с большим количеством уникальных значений, такие как `DateCrawled` и `LastSeen`. Их необходимо обработать, либо преобразовать в более подходящий формат.\n",
    "   - Признаки `VehicleType`, `Gearbox`, `FuelType`, и `Repaired` содержат приемлемое количество уникальных значений, и их можно использовать в модели после обработки пропусков.\n",
    "\n",
    "## Следующие шаги\n",
    "\n",
    "1. **Удаление дубликатов:**\n",
    "   - Удалить 4 найденных дубликата\n",
    "\n",
    "2. **Приведение названий столбцов к змеиному регистру:**\n",
    "   - Преобразовать все названия столбцов в нижний регистр и использовать snake_case для повышения удобства использования данных.\n",
    "\n",
    "3. **Удаление ненужных для модели столбцов:**\n",
    "   - Удалить столбцы, которые вряд ли будут полезны для обучения модели:\n",
    "     - `number_of_pictures`\n",
    "     - `postal_code`\n",
    "     - `date_created`\n",
    "     - `last_seen`\n",
    "     - `registration_month`\n",
    "     - `date_crawled`\n",
    "\n",
    "4. **Проверка уникальных значений в категориальных столбцах:**\n",
    "   - Проанализировать уникальные значения в признаках `vehicle_type`, `gearbox`, `model`, `fuel_type`, `brand` и `repaired` для лучшего понимания данных и их дальнейшей обработки.\n"
   ]
  },
  {
   "cell_type": "code",
   "execution_count": 11,
   "id": "b744e803-927c-4516-bbde-d35082bf283f",
   "metadata": {},
   "outputs": [
    {
     "name": "stdout",
     "output_type": "stream",
     "text": [
      "Количество строк до удаления дубликатов: 354369\n",
      "Количество строк после удаления дубликатов: 354365\n",
      "Количество удаленных дубликатов: 4\n"
     ]
    }
   ],
   "source": [
    "# Количество строк до удаления дубликатов\n",
    "rows_before = data.shape[0]\n",
    "print(f\"Количество строк до удаления дубликатов: {rows_before}\")\n",
    "\n",
    "# Удаление дубликатов\n",
    "data = data.drop_duplicates()\n",
    "\n",
    "# Количество строк после удаления дубликатов\n",
    "rows_after = data.shape[0]\n",
    "print(f\"Количество строк после удаления дубликатов: {rows_after}\")\n",
    "\n",
    "# Проверка количества удаленных дубликатов\n",
    "print(f\"Количество удаленных дубликатов: {rows_before - rows_after}\")\n"
   ]
  },
  {
   "cell_type": "code",
   "execution_count": 12,
   "id": "6563f3dd-2caa-4741-8db7-df2933687ba9",
   "metadata": {},
   "outputs": [
    {
     "name": "stdout",
     "output_type": "stream",
     "text": [
      "Index(['date_crawled', 'price', 'vehicle_type', 'registration_year', 'gearbox',\n",
      "       'power', 'model', 'kilometer', 'registration_month', 'fuel_type',\n",
      "       'brand', 'repaired', 'date_created', 'number_of_pictures',\n",
      "       'postal_code', 'last_seen'],\n",
      "      dtype='object')\n"
     ]
    }
   ],
   "source": [
    "# Приведение названий столбцов к змеиному регистру\n",
    "data.columns = data.columns.str.replace(r'(?<!^)(?=[A-Z])', '_', regex=True).str.lower()\n",
    "\n",
    "# Проверка результата\n",
    "print(data.columns)"
   ]
  },
  {
   "cell_type": "code",
   "execution_count": 13,
   "id": "a1307acb-54f2-433e-85f4-903f68f25413",
   "metadata": {},
   "outputs": [
    {
     "name": "stdout",
     "output_type": "stream",
     "text": [
      "Количество строк после восстановления 'postal_code': 354365\n",
      "Количество строк после повторного удаления дубликатов: 330858\n",
      "Новый процент потерянных данных: 6.63%\n"
     ]
    }
   ],
   "source": [
    "# Удаления неинформативных столбцов, но без 'postal_code'\n",
    "columns_to_drop = ['number_of_pictures', 'date_created', 'last_seen', 'registration_month', 'date_crawled']\n",
    "data = data.drop(columns=columns_to_drop)\n",
    "\n",
    "# Повторная проверка количества строк\n",
    "rows_before = data.shape[0]\n",
    "print(f\"Количество строк после восстановления 'postal_code': {rows_before}\")\n",
    "\n",
    "# Удаление дубликатов\n",
    "data = data.drop_duplicates()\n",
    "rows_after = data.shape[0]\n",
    "print(f\"Количество строк после повторного удаления дубликатов: {rows_after}\")\n",
    "\n",
    "# Проверка нового процента потерянных данных\n",
    "lost_percentage = (rows_before - rows_after) / rows_before * 100\n",
    "print(f\"Новый процент потерянных данных: {lost_percentage:.2f}%\")\n"
   ]
  },
  {
   "cell_type": "markdown",
   "id": "906f3e35-e71a-4eba-9650-78690085d5e8",
   "metadata": {},
   "source": [
    "Добавлю пару слов, изначально я хотел и \"postal_code\" удалить, но тогда процент потерянных данны был почти 13%, обычно рекомендуемым порогом потери данных, при котором влияние на модель остаётся минимальным, считается до 10%."
   ]
  },
  {
   "cell_type": "code",
   "execution_count": 14,
   "id": "4b54be8b-460f-4ff7-8e23-5e913b736ec4",
   "metadata": {},
   "outputs": [
    {
     "name": "stdout",
     "output_type": "stream",
     "text": [
      "Уникальные значения в 'vehicle_type': [nan 'coupe' 'suv' 'small' 'sedan' 'convertible' 'bus' 'wagon' 'other']\n",
      "Уникальные значения в 'gearbox': ['manual' 'auto' nan]\n",
      "Уникальные значения в 'model': ['golf' nan 'grand' 'fabia' '3er' '2_reihe' 'other' 'c_max' '3_reihe'\n",
      " 'passat' 'navara' 'ka' 'polo' 'twingo' 'a_klasse' 'scirocco' '5er'\n",
      " 'meriva' 'arosa' 'c4' 'civic' 'transporter' 'punto' 'e_klasse' 'clio'\n",
      " 'kadett' 'kangoo' 'corsa' 'one' 'fortwo' '1er' 'b_klasse' 'signum'\n",
      " 'astra' 'a8' 'jetta' 'fiesta' 'c_klasse' 'micra' 'vito' 'sprinter' '156'\n",
      " 'escort' 'forester' 'xc_reihe' 'scenic' 'a4' 'a1' 'insignia' 'combo'\n",
      " 'focus' 'tt' 'a6' 'jazz' 'omega' 'slk' '7er' '80' '147' '100' 'z_reihe'\n",
      " 'sportage' 'sorento' 'v40' 'ibiza' 'mustang' 'eos' 'touran' 'getz' 'a3'\n",
      " 'almera' 'megane' 'lupo' 'r19' 'zafira' 'caddy' 'mondeo' 'cordoba' 'colt'\n",
      " 'impreza' 'vectra' 'berlingo' 'tiguan' 'i_reihe' 'espace' 'sharan'\n",
      " '6_reihe' 'panda' 'up' 'seicento' 'ceed' '5_reihe' 'yeti' 'octavia' 'mii'\n",
      " 'rx_reihe' '6er' 'modus' 'fox' 'matiz' 'beetle' 'c1' 'rio' 'touareg'\n",
      " 'logan' 'spider' 'cuore' 's_max' 'a2' 'galaxy' 'c3' 'viano' 's_klasse'\n",
      " '1_reihe' 'avensis' 'roomster' 'sl' 'kaefer' 'santa' 'cooper' 'leon'\n",
      " '4_reihe' 'a5' '500' 'laguna' 'ptcruiser' 'clk' 'primera' 'x_reihe'\n",
      " 'exeo' '159' 'transit' 'juke' 'qashqai' 'carisma' 'accord' 'corolla'\n",
      " 'lanos' 'phaeton' 'verso' 'swift' 'rav' 'picanto' 'boxster' 'kalos'\n",
      " 'superb' 'stilo' 'alhambra' 'mx_reihe' 'roadster' 'ypsilon' 'cayenne'\n",
      " 'galant' 'justy' '90' 'sirion' 'crossfire' 'agila' 'duster' 'cr_reihe'\n",
      " 'v50' 'c_reihe' 'v_klasse' 'm_klasse' 'yaris' 'c5' 'aygo' 'cc' 'carnival'\n",
      " 'fusion' '911' 'bora' 'forfour' 'm_reihe' 'cl' 'tigra' '300c' 'spark'\n",
      " 'v70' 'kuga' 'x_type' 'ducato' 's_type' 'x_trail' 'toledo' 'altea'\n",
      " 'voyager' 'calibra' 'bravo' 'antara' 'tucson' 'citigo' 'jimny' 'wrangler'\n",
      " 'lybra' 'q7' 'lancer' 'captiva' 'c2' 'discovery' 'freelander' 'sandero'\n",
      " 'note' '900' 'cherokee' 'clubman' 'samara' 'defender' '601' 'cx_reihe'\n",
      " 'legacy' 'pajero' 'auris' 'niva' 's60' 'nubira' 'vivaro' 'g_klasse'\n",
      " 'lodgy' '850' 'range_rover' 'q3' 'serie_2' 'glk' 'charade' 'croma'\n",
      " 'outlander' 'doblo' 'musa' 'move' '9000' 'v60' '145' 'aveo' '200' 'b_max'\n",
      " 'range_rover_sport' 'terios' 'rangerover' 'q5' 'range_rover_evoque'\n",
      " 'materia' 'delta' 'gl' 'kalina' 'amarok' 'elefantino' 'i3' 'kappa'\n",
      " 'serie_3' 'serie_1']\n",
      "Уникальные значения в 'fuel_type': ['petrol' 'gasoline' nan 'lpg' 'other' 'hybrid' 'cng' 'electric']\n",
      "Уникальные значения в 'brand': ['volkswagen' 'audi' 'jeep' 'skoda' 'bmw' 'peugeot' 'ford' 'mazda'\n",
      " 'nissan' 'renault' 'mercedes_benz' 'opel' 'seat' 'citroen' 'honda' 'fiat'\n",
      " 'mini' 'smart' 'hyundai' 'sonstige_autos' 'alfa_romeo' 'subaru' 'volvo'\n",
      " 'mitsubishi' 'kia' 'suzuki' 'lancia' 'toyota' 'chevrolet' 'dacia'\n",
      " 'daihatsu' 'trabant' 'saab' 'chrysler' 'jaguar' 'daewoo' 'porsche'\n",
      " 'rover' 'land_rover' 'lada']\n",
      "Уникальные значения в 'repaired': [nan 'yes' 'no']\n"
     ]
    }
   ],
   "source": [
    "# Проверка уникальных значений в категориальных столбцах\n",
    "categorical_columns = ['vehicle_type', 'gearbox', 'model', 'fuel_type', 'brand', 'repaired']\n",
    "for column in categorical_columns:\n",
    "    unique_values = data[column].unique()\n",
    "    print(f\"Уникальные значения в '{column}': {unique_values}\")"
   ]
  },
  {
   "cell_type": "markdown",
   "id": "fd03ebcf-5b4f-40c4-843f-037f4308db70",
   "metadata": {},
   "source": [
    "### Признак vehicle_type:\n",
    "\n",
    "**Проблема:** Присутствует 37,490 пропусков (NaN), что может означать, что данные о типе кузова отсутствуют. \n",
    "\n",
    "\n",
    "**Решение:** После анализа столбцов `model` и `brand` была выдвинута гипотеза, что при известных модели и производителе автомобиля можно автоматически заполнить пропуски в типе кузова. Для этого мы создали словарь соответствий на основе записей, где `vehicle_type` уже заполнен, и использовали его для заполнения пропусков.\n"
   ]
  },
  {
   "cell_type": "code",
   "execution_count": 15,
   "id": "c658d506-5c63-4483-941b-d160f81816c8",
   "metadata": {},
   "outputs": [
    {
     "data": {
      "text/html": [
       "<div>\n",
       "<style scoped>\n",
       "    .dataframe tbody tr th:only-of-type {\n",
       "        vertical-align: middle;\n",
       "    }\n",
       "\n",
       "    .dataframe tbody tr th {\n",
       "        vertical-align: top;\n",
       "    }\n",
       "\n",
       "    .dataframe thead th {\n",
       "        text-align: right;\n",
       "    }\n",
       "</style>\n",
       "<table border=\"1\" class=\"dataframe\">\n",
       "  <thead>\n",
       "    <tr style=\"text-align: right;\">\n",
       "      <th></th>\n",
       "      <th>price</th>\n",
       "      <th>vehicle_type</th>\n",
       "      <th>registration_year</th>\n",
       "      <th>gearbox</th>\n",
       "      <th>power</th>\n",
       "      <th>model</th>\n",
       "      <th>kilometer</th>\n",
       "      <th>fuel_type</th>\n",
       "      <th>brand</th>\n",
       "      <th>repaired</th>\n",
       "      <th>postal_code</th>\n",
       "    </tr>\n",
       "  </thead>\n",
       "  <tbody>\n",
       "    <tr>\n",
       "      <th>0</th>\n",
       "      <td>480</td>\n",
       "      <td>NaN</td>\n",
       "      <td>1993</td>\n",
       "      <td>manual</td>\n",
       "      <td>0</td>\n",
       "      <td>golf</td>\n",
       "      <td>150000</td>\n",
       "      <td>petrol</td>\n",
       "      <td>volkswagen</td>\n",
       "      <td>NaN</td>\n",
       "      <td>70435</td>\n",
       "    </tr>\n",
       "    <tr>\n",
       "      <th>16</th>\n",
       "      <td>300</td>\n",
       "      <td>NaN</td>\n",
       "      <td>2016</td>\n",
       "      <td>NaN</td>\n",
       "      <td>60</td>\n",
       "      <td>polo</td>\n",
       "      <td>150000</td>\n",
       "      <td>petrol</td>\n",
       "      <td>volkswagen</td>\n",
       "      <td>NaN</td>\n",
       "      <td>38871</td>\n",
       "    </tr>\n",
       "    <tr>\n",
       "      <th>22</th>\n",
       "      <td>2900</td>\n",
       "      <td>NaN</td>\n",
       "      <td>2018</td>\n",
       "      <td>manual</td>\n",
       "      <td>90</td>\n",
       "      <td>meriva</td>\n",
       "      <td>150000</td>\n",
       "      <td>petrol</td>\n",
       "      <td>opel</td>\n",
       "      <td>no</td>\n",
       "      <td>49716</td>\n",
       "    </tr>\n",
       "    <tr>\n",
       "      <th>26</th>\n",
       "      <td>5555</td>\n",
       "      <td>NaN</td>\n",
       "      <td>2017</td>\n",
       "      <td>manual</td>\n",
       "      <td>125</td>\n",
       "      <td>c4</td>\n",
       "      <td>125000</td>\n",
       "      <td>NaN</td>\n",
       "      <td>citroen</td>\n",
       "      <td>no</td>\n",
       "      <td>31139</td>\n",
       "    </tr>\n",
       "    <tr>\n",
       "      <th>31</th>\n",
       "      <td>899</td>\n",
       "      <td>NaN</td>\n",
       "      <td>2016</td>\n",
       "      <td>manual</td>\n",
       "      <td>60</td>\n",
       "      <td>clio</td>\n",
       "      <td>150000</td>\n",
       "      <td>petrol</td>\n",
       "      <td>renault</td>\n",
       "      <td>NaN</td>\n",
       "      <td>37075</td>\n",
       "    </tr>\n",
       "  </tbody>\n",
       "</table>\n",
       "</div>"
      ],
      "text/plain": [
       "    price vehicle_type  registration_year gearbox  power   model  kilometer  \\\n",
       "0     480          NaN               1993  manual      0    golf     150000   \n",
       "16    300          NaN               2016     NaN     60    polo     150000   \n",
       "22   2900          NaN               2018  manual     90  meriva     150000   \n",
       "26   5555          NaN               2017  manual    125      c4     125000   \n",
       "31    899          NaN               2016  manual     60    clio     150000   \n",
       "\n",
       "   fuel_type       brand repaired  postal_code  \n",
       "0     petrol  volkswagen      NaN        70435  \n",
       "16    petrol  volkswagen      NaN        38871  \n",
       "22    petrol        opel       no        49716  \n",
       "26       NaN     citroen       no        31139  \n",
       "31    petrol     renault      NaN        37075  "
      ]
     },
     "metadata": {},
     "output_type": "display_data"
    }
   ],
   "source": [
    "# Фильтрация данных с пропусками в столбцах 'vehicle_type', 'model' и 'brand'\n",
    "data_missing_all = data[data['vehicle_type'].isna()]\n",
    "\n",
    "# Просмотр первых нескольких строк\n",
    "display(data_missing_all.head())\n"
   ]
  },
  {
   "cell_type": "code",
   "execution_count": 16,
   "id": "fea2fb5c-9a86-405c-9f18-4243ae1f5fe6",
   "metadata": {},
   "outputs": [
    {
     "name": "stdout",
     "output_type": "stream",
     "text": [
      "Количество строк с пропусками: 36019\n",
      "Процент потерянных данных: 10.89%\n"
     ]
    }
   ],
   "source": [
    "# Подсчёт количества строк с пропусками в этих столбцах\n",
    "missing_count = data_missing_all.shape[0]\n",
    "total_count = data.shape[0]\n",
    "\n",
    "# Рассчёт процента потерянных данных\n",
    "lost_percentage = (missing_count / total_count) * 100\n",
    "print(f\"Количество строк с пропусками: {missing_count}\")\n",
    "print(f\"Процент потерянных данных: {lost_percentage:.2f}%\")"
   ]
  },
  {
   "cell_type": "code",
   "execution_count": 17,
   "id": "40f0a583-d50e-45fa-b2a1-b8fb193b326a",
   "metadata": {},
   "outputs": [
    {
     "data": {
      "text/html": [
       "<div>\n",
       "<style scoped>\n",
       "    .dataframe tbody tr th:only-of-type {\n",
       "        vertical-align: middle;\n",
       "    }\n",
       "\n",
       "    .dataframe tbody tr th {\n",
       "        vertical-align: top;\n",
       "    }\n",
       "\n",
       "    .dataframe thead th {\n",
       "        text-align: right;\n",
       "    }\n",
       "</style>\n",
       "<table border=\"1\" class=\"dataframe\">\n",
       "  <thead>\n",
       "    <tr style=\"text-align: right;\">\n",
       "      <th></th>\n",
       "      <th>price</th>\n",
       "      <th>vehicle_type</th>\n",
       "      <th>registration_year</th>\n",
       "      <th>gearbox</th>\n",
       "      <th>power</th>\n",
       "      <th>model</th>\n",
       "      <th>kilometer</th>\n",
       "      <th>fuel_type</th>\n",
       "      <th>brand</th>\n",
       "      <th>repaired</th>\n",
       "      <th>postal_code</th>\n",
       "    </tr>\n",
       "  </thead>\n",
       "  <tbody>\n",
       "    <tr>\n",
       "      <th>0</th>\n",
       "      <td>480</td>\n",
       "      <td>small</td>\n",
       "      <td>1993</td>\n",
       "      <td>manual</td>\n",
       "      <td>0</td>\n",
       "      <td>golf</td>\n",
       "      <td>150000</td>\n",
       "      <td>petrol</td>\n",
       "      <td>volkswagen</td>\n",
       "      <td>NaN</td>\n",
       "      <td>70435</td>\n",
       "    </tr>\n",
       "    <tr>\n",
       "      <th>1</th>\n",
       "      <td>18300</td>\n",
       "      <td>coupe</td>\n",
       "      <td>2011</td>\n",
       "      <td>manual</td>\n",
       "      <td>190</td>\n",
       "      <td>NaN</td>\n",
       "      <td>125000</td>\n",
       "      <td>gasoline</td>\n",
       "      <td>audi</td>\n",
       "      <td>yes</td>\n",
       "      <td>66954</td>\n",
       "    </tr>\n",
       "    <tr>\n",
       "      <th>2</th>\n",
       "      <td>9800</td>\n",
       "      <td>suv</td>\n",
       "      <td>2004</td>\n",
       "      <td>auto</td>\n",
       "      <td>163</td>\n",
       "      <td>grand</td>\n",
       "      <td>125000</td>\n",
       "      <td>gasoline</td>\n",
       "      <td>jeep</td>\n",
       "      <td>NaN</td>\n",
       "      <td>90480</td>\n",
       "    </tr>\n",
       "    <tr>\n",
       "      <th>3</th>\n",
       "      <td>1500</td>\n",
       "      <td>small</td>\n",
       "      <td>2001</td>\n",
       "      <td>manual</td>\n",
       "      <td>75</td>\n",
       "      <td>golf</td>\n",
       "      <td>150000</td>\n",
       "      <td>petrol</td>\n",
       "      <td>volkswagen</td>\n",
       "      <td>no</td>\n",
       "      <td>91074</td>\n",
       "    </tr>\n",
       "    <tr>\n",
       "      <th>4</th>\n",
       "      <td>3600</td>\n",
       "      <td>small</td>\n",
       "      <td>2008</td>\n",
       "      <td>manual</td>\n",
       "      <td>69</td>\n",
       "      <td>fabia</td>\n",
       "      <td>90000</td>\n",
       "      <td>gasoline</td>\n",
       "      <td>skoda</td>\n",
       "      <td>no</td>\n",
       "      <td>60437</td>\n",
       "    </tr>\n",
       "  </tbody>\n",
       "</table>\n",
       "</div>"
      ],
      "text/plain": [
       "   price vehicle_type  registration_year gearbox  power  model  kilometer  \\\n",
       "0    480        small               1993  manual      0   golf     150000   \n",
       "1  18300        coupe               2011  manual    190    NaN     125000   \n",
       "2   9800          suv               2004    auto    163  grand     125000   \n",
       "3   1500        small               2001  manual     75   golf     150000   \n",
       "4   3600        small               2008  manual     69  fabia      90000   \n",
       "\n",
       "  fuel_type       brand repaired  postal_code  \n",
       "0    petrol  volkswagen      NaN        70435  \n",
       "1  gasoline        audi      yes        66954  \n",
       "2  gasoline        jeep      NaN        90480  \n",
       "3    petrol  volkswagen       no        91074  \n",
       "4  gasoline       skoda       no        60437  "
      ]
     },
     "metadata": {},
     "output_type": "display_data"
    }
   ],
   "source": [
    "# Создание словаря соответствий на основе заполненных строк\n",
    "filled_vehicle_types = data.dropna(subset=['vehicle_type'])[['brand', 'model', 'vehicle_type']]\n",
    "brand_model_to_vehicle_type = filled_vehicle_types.drop_duplicates(subset=['brand', 'model']).set_index(['brand', 'model'])['vehicle_type'].to_dict()\n",
    "\n",
    "# Функция для заполнения типа кузова на основе словаря\n",
    "def fill_vehicle_type(row):\n",
    "    return brand_model_to_vehicle_type.get((row['brand'], row['model']), 'unknown')\n",
    "\n",
    "# Заполнение пропусков в vehicle_type\n",
    "data['vehicle_type'] = data.apply(\n",
    "    lambda row: fill_vehicle_type(row) if pd.isna(row['vehicle_type']) else row['vehicle_type'], axis=1)\n",
    "\n",
    "# Проверка результата\n",
    "display(data.head())"
   ]
  },
  {
   "cell_type": "code",
   "execution_count": 18,
   "id": "79b44a90-c1d0-4afa-b24f-3875cbfbd3fb",
   "metadata": {},
   "outputs": [
    {
     "name": "stdout",
     "output_type": "stream",
     "text": [
      "Количество оставшихся пропусков в 'vehicle_type': 0\n"
     ]
    }
   ],
   "source": [
    "# Проверка количества оставшихся пропусков в 'vehicle_type'\n",
    "missing_vehicle_type = data['vehicle_type'].isna().sum()\n",
    "print(f\"Количество оставшихся пропусков в 'vehicle_type': {missing_vehicle_type}\")"
   ]
  },
  {
   "cell_type": "markdown",
   "id": "74dae3f7-b6f9-4ee9-b27e-4dbbeaff8f2e",
   "metadata": {},
   "source": [
    "### Признак gearbox:\n",
    "**Проблема:** Имеет 19,833 пропуска (NaN).\n",
    "\n",
    "\n",
    "**Почему это решение:**\n",
    "\n",
    "\n",
    "- Простота: Замена на моду (наиболее часто встречающееся значение) — это быстрый способ заполнить пропуски.\n",
    "- Надежность: Мы не полагаемся на другие сомнительные данные (например, registration_year), что снижает риск ошибочного заполнения.\n",
    "- Универсальность: Этот подход подходит для большинства моделей машин, поскольку он сохраняет доминирующее распределение коробок передач."
   ]
  },
  {
   "cell_type": "code",
   "execution_count": 19,
   "id": "0e8d082e-2ce8-41cc-a60d-77c15211ace4",
   "metadata": {},
   "outputs": [
    {
     "name": "stdout",
     "output_type": "stream",
     "text": [
      "Количество оставшихся пропусков в 'gearbox': 0\n"
     ]
    }
   ],
   "source": [
    "# Находим модальное значение (самое часто встречающееся)\n",
    "gearbox_mode = data['gearbox'].mode()[0]\n",
    "\n",
    "# Заполняем пропуски модальным значением\n",
    "data['gearbox'].fillna(gearbox_mode, inplace=True)\n",
    "\n",
    "# Проверка количества оставшихся пропусков\n",
    "missing_gearbox = data['gearbox'].isna().sum()\n",
    "print(f\"Количество оставшихся пропусков в 'gearbox': {missing_gearbox}\")"
   ]
  },
  {
   "cell_type": "markdown",
   "id": "20f83855-f445-4d34-894d-119d2c377026",
   "metadata": {},
   "source": [
    "### Признак model:\n",
    "\n",
    "\n",
    "**Проблема:** Содержит 19,705 пропусков (NaN), также присутствуют значения вроде other.\n",
    "\n",
    "\n",
    "**Решение:** Заполнить пропуски значением \"unknown\" или \"other\".\n",
    "Также стоит проверить распределение данных по бренду (brand) и попытаться заменить пропуски наиболее вероятной моделью в рамках каждого бренда."
   ]
  },
  {
   "cell_type": "code",
   "execution_count": 20,
   "id": "a6c22463-ff75-434b-8315-4cb0bcc5d1e3",
   "metadata": {},
   "outputs": [],
   "source": [
    "# Добавление нового столбца для отслеживания, была ли модель изначально пропущена (это понадобиться дальше при заполнение типа топлива) \n",
    "data['model_was_missing'] = data['model'].isna()"
   ]
  },
  {
   "cell_type": "code",
   "execution_count": 21,
   "id": "6e2da97e-c61e-4c87-9f05-6e24c2dac0eb",
   "metadata": {},
   "outputs": [
    {
     "data": {
      "text/html": [
       "<div>\n",
       "<style scoped>\n",
       "    .dataframe tbody tr th:only-of-type {\n",
       "        vertical-align: middle;\n",
       "    }\n",
       "\n",
       "    .dataframe tbody tr th {\n",
       "        vertical-align: top;\n",
       "    }\n",
       "\n",
       "    .dataframe thead th {\n",
       "        text-align: right;\n",
       "    }\n",
       "</style>\n",
       "<table border=\"1\" class=\"dataframe\">\n",
       "  <thead>\n",
       "    <tr style=\"text-align: right;\">\n",
       "      <th></th>\n",
       "      <th>brand</th>\n",
       "      <th>missing_count</th>\n",
       "    </tr>\n",
       "  </thead>\n",
       "  <tbody>\n",
       "    <tr>\n",
       "      <th>38</th>\n",
       "      <td>volkswagen</td>\n",
       "      <td>3378</td>\n",
       "    </tr>\n",
       "    <tr>\n",
       "      <th>33</th>\n",
       "      <td>sonstige_autos</td>\n",
       "      <td>3220</td>\n",
       "    </tr>\n",
       "    <tr>\n",
       "      <th>2</th>\n",
       "      <td>bmw</td>\n",
       "      <td>1878</td>\n",
       "    </tr>\n",
       "    <tr>\n",
       "      <th>24</th>\n",
       "      <td>opel</td>\n",
       "      <td>1805</td>\n",
       "    </tr>\n",
       "    <tr>\n",
       "      <th>1</th>\n",
       "      <td>audi</td>\n",
       "      <td>1237</td>\n",
       "    </tr>\n",
       "    <tr>\n",
       "      <th>20</th>\n",
       "      <td>mercedes_benz</td>\n",
       "      <td>1164</td>\n",
       "    </tr>\n",
       "    <tr>\n",
       "      <th>10</th>\n",
       "      <td>ford</td>\n",
       "      <td>988</td>\n",
       "    </tr>\n",
       "    <tr>\n",
       "      <th>25</th>\n",
       "      <td>peugeot</td>\n",
       "      <td>859</td>\n",
       "    </tr>\n",
       "    <tr>\n",
       "      <th>27</th>\n",
       "      <td>renault</td>\n",
       "      <td>710</td>\n",
       "    </tr>\n",
       "    <tr>\n",
       "      <th>9</th>\n",
       "      <td>fiat</td>\n",
       "      <td>478</td>\n",
       "    </tr>\n",
       "    <tr>\n",
       "      <th>19</th>\n",
       "      <td>mazda</td>\n",
       "      <td>331</td>\n",
       "    </tr>\n",
       "    <tr>\n",
       "      <th>32</th>\n",
       "      <td>smart</td>\n",
       "      <td>258</td>\n",
       "    </tr>\n",
       "    <tr>\n",
       "      <th>5</th>\n",
       "      <td>citroen</td>\n",
       "      <td>239</td>\n",
       "    </tr>\n",
       "    <tr>\n",
       "      <th>30</th>\n",
       "      <td>seat</td>\n",
       "      <td>227</td>\n",
       "    </tr>\n",
       "    <tr>\n",
       "      <th>12</th>\n",
       "      <td>hyundai</td>\n",
       "      <td>222</td>\n",
       "    </tr>\n",
       "    <tr>\n",
       "      <th>23</th>\n",
       "      <td>nissan</td>\n",
       "      <td>200</td>\n",
       "    </tr>\n",
       "    <tr>\n",
       "      <th>36</th>\n",
       "      <td>toyota</td>\n",
       "      <td>152</td>\n",
       "    </tr>\n",
       "    <tr>\n",
       "      <th>22</th>\n",
       "      <td>mitsubishi</td>\n",
       "      <td>149</td>\n",
       "    </tr>\n",
       "    <tr>\n",
       "      <th>11</th>\n",
       "      <td>honda</td>\n",
       "      <td>146</td>\n",
       "    </tr>\n",
       "    <tr>\n",
       "      <th>31</th>\n",
       "      <td>skoda</td>\n",
       "      <td>136</td>\n",
       "    </tr>\n",
       "    <tr>\n",
       "      <th>0</th>\n",
       "      <td>alfa_romeo</td>\n",
       "      <td>135</td>\n",
       "    </tr>\n",
       "    <tr>\n",
       "      <th>35</th>\n",
       "      <td>suzuki</td>\n",
       "      <td>132</td>\n",
       "    </tr>\n",
       "    <tr>\n",
       "      <th>15</th>\n",
       "      <td>kia</td>\n",
       "      <td>109</td>\n",
       "    </tr>\n",
       "    <tr>\n",
       "      <th>3</th>\n",
       "      <td>chevrolet</td>\n",
       "      <td>108</td>\n",
       "    </tr>\n",
       "    <tr>\n",
       "      <th>39</th>\n",
       "      <td>volvo</td>\n",
       "      <td>103</td>\n",
       "    </tr>\n",
       "    <tr>\n",
       "      <th>37</th>\n",
       "      <td>trabant</td>\n",
       "      <td>91</td>\n",
       "    </tr>\n",
       "    <tr>\n",
       "      <th>4</th>\n",
       "      <td>chrysler</td>\n",
       "      <td>84</td>\n",
       "    </tr>\n",
       "    <tr>\n",
       "      <th>28</th>\n",
       "      <td>rover</td>\n",
       "      <td>74</td>\n",
       "    </tr>\n",
       "    <tr>\n",
       "      <th>21</th>\n",
       "      <td>mini</td>\n",
       "      <td>61</td>\n",
       "    </tr>\n",
       "    <tr>\n",
       "      <th>7</th>\n",
       "      <td>daewoo</td>\n",
       "      <td>44</td>\n",
       "    </tr>\n",
       "    <tr>\n",
       "      <th>34</th>\n",
       "      <td>subaru</td>\n",
       "      <td>42</td>\n",
       "    </tr>\n",
       "    <tr>\n",
       "      <th>8</th>\n",
       "      <td>daihatsu</td>\n",
       "      <td>39</td>\n",
       "    </tr>\n",
       "    <tr>\n",
       "      <th>26</th>\n",
       "      <td>porsche</td>\n",
       "      <td>39</td>\n",
       "    </tr>\n",
       "    <tr>\n",
       "      <th>14</th>\n",
       "      <td>jeep</td>\n",
       "      <td>25</td>\n",
       "    </tr>\n",
       "    <tr>\n",
       "      <th>6</th>\n",
       "      <td>dacia</td>\n",
       "      <td>22</td>\n",
       "    </tr>\n",
       "    <tr>\n",
       "      <th>17</th>\n",
       "      <td>lancia</td>\n",
       "      <td>22</td>\n",
       "    </tr>\n",
       "    <tr>\n",
       "      <th>29</th>\n",
       "      <td>saab</td>\n",
       "      <td>15</td>\n",
       "    </tr>\n",
       "    <tr>\n",
       "      <th>16</th>\n",
       "      <td>lada</td>\n",
       "      <td>15</td>\n",
       "    </tr>\n",
       "    <tr>\n",
       "      <th>13</th>\n",
       "      <td>jaguar</td>\n",
       "      <td>14</td>\n",
       "    </tr>\n",
       "    <tr>\n",
       "      <th>18</th>\n",
       "      <td>land_rover</td>\n",
       "      <td>13</td>\n",
       "    </tr>\n",
       "  </tbody>\n",
       "</table>\n",
       "</div>"
      ],
      "text/plain": [
       "             brand  missing_count\n",
       "38      volkswagen           3378\n",
       "33  sonstige_autos           3220\n",
       "2              bmw           1878\n",
       "24            opel           1805\n",
       "1             audi           1237\n",
       "20   mercedes_benz           1164\n",
       "10            ford            988\n",
       "25         peugeot            859\n",
       "27         renault            710\n",
       "9             fiat            478\n",
       "19           mazda            331\n",
       "32           smart            258\n",
       "5          citroen            239\n",
       "30            seat            227\n",
       "12         hyundai            222\n",
       "23          nissan            200\n",
       "36          toyota            152\n",
       "22      mitsubishi            149\n",
       "11           honda            146\n",
       "31           skoda            136\n",
       "0       alfa_romeo            135\n",
       "35          suzuki            132\n",
       "15             kia            109\n",
       "3        chevrolet            108\n",
       "39           volvo            103\n",
       "37         trabant             91\n",
       "4         chrysler             84\n",
       "28           rover             74\n",
       "21            mini             61\n",
       "7           daewoo             44\n",
       "34          subaru             42\n",
       "8         daihatsu             39\n",
       "26         porsche             39\n",
       "14            jeep             25\n",
       "6            dacia             22\n",
       "17          lancia             22\n",
       "29            saab             15\n",
       "16            lada             15\n",
       "13          jaguar             14\n",
       "18      land_rover             13"
      ]
     },
     "metadata": {},
     "output_type": "display_data"
    }
   ],
   "source": [
    "# Подсчёт количества пропусков в 'model' по каждому бренду\n",
    "missing_models_by_brand = data[data['model'].isna()].groupby('brand').size().reset_index(name='missing_count')\n",
    "\n",
    "# Сортировка по убыванию количества пропусков\n",
    "missing_models_by_brand = missing_models_by_brand.sort_values(by='missing_count', ascending=False)\n",
    "\n",
    "# Вывод количества пропусков по каждому бренду\n",
    "display(missing_models_by_brand)\n"
   ]
  },
  {
   "cell_type": "code",
   "execution_count": 22,
   "id": "387c9de4-b575-45cb-b8bc-d73de40b8070",
   "metadata": {},
   "outputs": [
    {
     "data": {
      "image/png": "[encoded data removed]",
      "text/plain": [
       "<Figure size 864x576 with 1 Axes>"
      ]
     },
     "metadata": {
      "needs_background": "light"
     },
     "output_type": "display_data"
    }
   ],
   "source": [
    "# Для наглядности возьмем 10 самых популярных брендов и моделей\n",
    "top_brands = data['brand'].value_counts().index[:10]\n",
    "top_models = data[data['brand'].isin(top_brands)].groupby(['brand', 'model']).size().reset_index(name='counts')\n",
    "\n",
    "# Визуализация данных с помощью горизонтальной столбчатой диаграммы\n",
    "plt.figure(figsize=(12, 8))\n",
    "for brand in top_brands:\n",
    "    brand_data = top_models[top_models['brand'] == brand].sort_values(by='counts', ascending=False).head(5)\n",
    "    plt.barh(brand_data['model'] + \" (\" + brand_data['brand'] + \")\", brand_data['counts'], label=brand)\n",
    "\n",
    "plt.xlabel('Количество автомобилей')\n",
    "plt.ylabel('Модель (бренд)')\n",
    "plt.title('Топ 5 моделей по брендам')\n",
    "plt.legend(top_brands)\n",
    "plt.tight_layout()\n",
    "plt.show()\n"
   ]
  },
  {
   "cell_type": "code",
   "execution_count": 23,
   "id": "50a89c17-e981-4fdd-81c6-f95918adb7cb",
   "metadata": {},
   "outputs": [
    {
     "name": "stdout",
     "output_type": "stream",
     "text": [
      "Количество оставшихся пропусков в 'model': 0\n"
     ]
    }
   ],
   "source": [
    "# Находим модальные значения моделей для каждого бренда\n",
    "most_common_models = data.groupby('brand')['model'].agg(lambda x: x.mode()[0] if not x.mode().empty else 'unknown')\n",
    "\n",
    "# Заполняем пропуски в model на основе модальных значений по каждому бренду\n",
    "data['model'] = data.apply(lambda row: most_common_models[row['brand']] if pd.isna(row['model']) else row['model'], axis=1)\n",
    "\n",
    "# Проверка количества оставшихся пропусков\n",
    "missing_model = data['model'].isna().sum()\n",
    "print(f\"Количество оставшихся пропусков в 'model': {missing_model}\")\n"
   ]
  },
  {
   "cell_type": "markdown",
   "id": "7cc89271-5911-4391-85fa-cd8f2e3e9ec9",
   "metadata": {},
   "source": [
    "### Признак fuel_type:\n",
    "\n",
    "\n",
    "**Проблема:** Содержит 32,895 пропусков (NaN).\n",
    "\n",
    "\n",
    "**Решение:** \n",
    "\n",
    "Заполнить пропуски значением \"unknown\" или на основе наиболее часто встречающегося значения для каждого бренда или модели.\n",
    "\n",
    "\n",
    "Убедиться, что значения, такие как \"petrol\" и \"gasoline\", являются синонимами и возможно объединить их в одно значение."
   ]
  },
  {
   "cell_type": "code",
   "execution_count": 24,
   "id": "c0601bad-2ab9-4550-959e-934547252978",
   "metadata": {},
   "outputs": [
    {
     "name": "stdout",
     "output_type": "stream",
     "text": [
      "petrol      293061\n",
      "lpg           4924\n",
      "cng            531\n",
      "hybrid         224\n",
      "other          200\n",
      "electric        89\n",
      "Name: fuel_type, dtype: int64\n"
     ]
    }
   ],
   "source": [
    "# Замена значения 'gasoline' на 'petrol'\n",
    "data['fuel_type'].replace('gasoline', 'petrol', inplace=True)\n",
    "\n",
    "# Проверка замены\n",
    "print(data['fuel_type'].value_counts())"
   ]
  },
  {
   "cell_type": "code",
   "execution_count": 25,
   "id": "6d4b53de-2eac-4b64-b0a5-ddf515f32f05",
   "metadata": {},
   "outputs": [
    {
     "data": {
      "text/html": [
       "<div>\n",
       "<style scoped>\n",
       "    .dataframe tbody tr th:only-of-type {\n",
       "        vertical-align: middle;\n",
       "    }\n",
       "\n",
       "    .dataframe tbody tr th {\n",
       "        vertical-align: top;\n",
       "    }\n",
       "\n",
       "    .dataframe thead th {\n",
       "        text-align: right;\n",
       "    }\n",
       "</style>\n",
       "<table border=\"1\" class=\"dataframe\">\n",
       "  <thead>\n",
       "    <tr style=\"text-align: right;\">\n",
       "      <th></th>\n",
       "      <th>price</th>\n",
       "      <th>vehicle_type</th>\n",
       "      <th>registration_year</th>\n",
       "      <th>gearbox</th>\n",
       "      <th>power</th>\n",
       "      <th>model</th>\n",
       "      <th>kilometer</th>\n",
       "      <th>fuel_type</th>\n",
       "      <th>brand</th>\n",
       "      <th>repaired</th>\n",
       "      <th>postal_code</th>\n",
       "      <th>model_was_missing</th>\n",
       "    </tr>\n",
       "  </thead>\n",
       "  <tbody>\n",
       "    <tr>\n",
       "      <th>9</th>\n",
       "      <td>999</td>\n",
       "      <td>small</td>\n",
       "      <td>1998</td>\n",
       "      <td>manual</td>\n",
       "      <td>101</td>\n",
       "      <td>golf</td>\n",
       "      <td>150000</td>\n",
       "      <td>NaN</td>\n",
       "      <td>volkswagen</td>\n",
       "      <td>NaN</td>\n",
       "      <td>27472</td>\n",
       "      <td>False</td>\n",
       "    </tr>\n",
       "    <tr>\n",
       "      <th>13</th>\n",
       "      <td>2500</td>\n",
       "      <td>wagon</td>\n",
       "      <td>2004</td>\n",
       "      <td>manual</td>\n",
       "      <td>131</td>\n",
       "      <td>passat</td>\n",
       "      <td>150000</td>\n",
       "      <td>NaN</td>\n",
       "      <td>volkswagen</td>\n",
       "      <td>no</td>\n",
       "      <td>90762</td>\n",
       "      <td>False</td>\n",
       "    </tr>\n",
       "    <tr>\n",
       "      <th>26</th>\n",
       "      <td>5555</td>\n",
       "      <td>coupe</td>\n",
       "      <td>2017</td>\n",
       "      <td>manual</td>\n",
       "      <td>125</td>\n",
       "      <td>c4</td>\n",
       "      <td>125000</td>\n",
       "      <td>NaN</td>\n",
       "      <td>citroen</td>\n",
       "      <td>no</td>\n",
       "      <td>31139</td>\n",
       "      <td>False</td>\n",
       "    </tr>\n",
       "    <tr>\n",
       "      <th>36</th>\n",
       "      <td>1600</td>\n",
       "      <td>other</td>\n",
       "      <td>1991</td>\n",
       "      <td>manual</td>\n",
       "      <td>75</td>\n",
       "      <td>kadett</td>\n",
       "      <td>70000</td>\n",
       "      <td>NaN</td>\n",
       "      <td>opel</td>\n",
       "      <td>NaN</td>\n",
       "      <td>2943</td>\n",
       "      <td>False</td>\n",
       "    </tr>\n",
       "    <tr>\n",
       "      <th>41</th>\n",
       "      <td>7500</td>\n",
       "      <td>sedan</td>\n",
       "      <td>2002</td>\n",
       "      <td>auto</td>\n",
       "      <td>306</td>\n",
       "      <td>e_klasse</td>\n",
       "      <td>150000</td>\n",
       "      <td>NaN</td>\n",
       "      <td>mercedes_benz</td>\n",
       "      <td>NaN</td>\n",
       "      <td>33649</td>\n",
       "      <td>False</td>\n",
       "    </tr>\n",
       "  </tbody>\n",
       "</table>\n",
       "</div>"
      ],
      "text/plain": [
       "    price vehicle_type  registration_year gearbox  power     model  kilometer  \\\n",
       "9     999        small               1998  manual    101      golf     150000   \n",
       "13   2500        wagon               2004  manual    131    passat     150000   \n",
       "26   5555        coupe               2017  manual    125        c4     125000   \n",
       "36   1600        other               1991  manual     75    kadett      70000   \n",
       "41   7500        sedan               2002    auto    306  e_klasse     150000   \n",
       "\n",
       "   fuel_type          brand repaired  postal_code  model_was_missing  \n",
       "9        NaN     volkswagen      NaN        27472              False  \n",
       "13       NaN     volkswagen       no        90762              False  \n",
       "26       NaN        citroen       no        31139              False  \n",
       "36       NaN           opel      NaN         2943              False  \n",
       "41       NaN  mercedes_benz      NaN        33649              False  "
      ]
     },
     "metadata": {},
     "output_type": "display_data"
    }
   ],
   "source": [
    "# Выделение строк, где fuel_type имеет пропуски (NaN)\n",
    "data_missing_fuel_type = data[data['fuel_type'].isna()]\n",
    "\n",
    "# Просмотр первых нескольких строк\n",
    "display(data_missing_fuel_type.head())"
   ]
  },
  {
   "cell_type": "code",
   "execution_count": 26,
   "id": "96acc212-cb86-4ea7-9c07-86bda3a150ae",
   "metadata": {},
   "outputs": [
    {
     "name": "stdout",
     "output_type": "stream",
     "text": [
      "Количество оставшихся пропусков в 'fuel_type': 6927\n"
     ]
    }
   ],
   "source": [
    "# Создание словаря соответствий fuel_type на основе строк с известной моделью\n",
    "fuel_type_dict = data[~data['model_was_missing']].groupby(['brand', 'model'])['fuel_type'].agg(lambda x: x.mode()[0] if not x.mode().empty else 'unknown').to_dict()\n",
    "\n",
    "# Заполнение пропусков в fuel_type\n",
    "def fill_fuel_type(row):\n",
    "    if pd.isna(row['fuel_type']) and not row['model_was_missing']:\n",
    "        return fuel_type_dict.get((row['brand'], row['model']), 'unknown')\n",
    "    else:\n",
    "        return row['fuel_type']\n",
    "\n",
    "# Применение функции к столбцу fuel_type\n",
    "data['fuel_type'] = data.apply(fill_fuel_type, axis=1)\n",
    "\n",
    "# Проверка количества оставшихся пропусков\n",
    "missing_fuel_type = data['fuel_type'].isna().sum()\n",
    "print(f\"Количество оставшихся пропусков в 'fuel_type': {missing_fuel_type}\")\n"
   ]
  },
  {
   "cell_type": "code",
   "execution_count": 27,
   "id": "5e2863a8-bf6b-485a-95c1-21960723deee",
   "metadata": {},
   "outputs": [
    {
     "name": "stdout",
     "output_type": "stream",
     "text": [
      "Количество оставшихся пропусков в 'fuel_type': 0\n"
     ]
    }
   ],
   "source": [
    "# Замена оставшихся пропусков в fuel_type на 'other'\n",
    "data['fuel_type'].fillna('other', inplace=True)\n",
    "\n",
    "# Проверка количества оставшихся пропусков\n",
    "missing_fuel_type = data['fuel_type'].isna().sum()\n",
    "print(f\"Количество оставшихся пропусков в 'fuel_type': {missing_fuel_type}\")\n"
   ]
  },
  {
   "cell_type": "markdown",
   "id": "30629a2b-86d2-478e-8c05-ab4427b50824",
   "metadata": {},
   "source": [
    "### Признак repaired:\n",
    "\n",
    "**Проблема:** Содержит 71,154 пропуска (NaN).\n",
    "\n",
    "\n",
    "**Решение:** Заменить пропуски на \"unknown\"."
   ]
  },
  {
   "cell_type": "code",
   "execution_count": 28,
   "id": "4ba69b48-5047-4b31-9ce7-8d07082313cc",
   "metadata": {},
   "outputs": [
    {
     "name": "stdout",
     "output_type": "stream",
     "text": [
      "Количество оставшихся пропусков в 'repaired': 0\n"
     ]
    }
   ],
   "source": [
    "# Замена пропусков в столбце repaired на 'unknown'\n",
    "data['repaired'].fillna('unknown', inplace=True)\n",
    "\n",
    "# Проверка количества оставшихся пропусков\n",
    "missing_repaired = data['repaired'].isna().sum()\n",
    "print(f\"Количество оставшихся пропусков в 'repaired': {missing_repaired}\")\n"
   ]
  },
  {
   "cell_type": "markdown",
   "id": "bb81edd8-2aa9-4acd-b94c-2dc0cba491fa",
   "metadata": {},
   "source": [
    "### Признак registration_year:"
   ]
  },
  {
   "cell_type": "code",
   "execution_count": 29,
   "id": "4733de28-d6d7-4c7e-ae48-150b95333ab3",
   "metadata": {},
   "outputs": [
    {
     "name": "stdout",
     "output_type": "stream",
     "text": [
      "Количество строк с аномальными значениями: 163\n",
      "Процент потерянных данных: 0.05%\n"
     ]
    }
   ],
   "source": [
    "# Определим текущий год\n",
    "current_year = pd.Timestamp.now().year\n",
    "\n",
    "# Подсчитаем количество строк с аномальными значениями\n",
    "anomalies = data[(data['registration_year'] < 1900) | (data['registration_year'] > current_year)]\n",
    "anomalies_count = anomalies.shape[0]\n",
    "\n",
    "# Подсчитаем процент потерянных данных\n",
    "total_rows = data.shape[0]\n",
    "lost_percentage = (anomalies_count / total_rows) * 100\n",
    "\n",
    "# Вывод результатов\n",
    "print(f\"Количество строк с аномальными значениями: {anomalies_count}\")\n",
    "print(f\"Процент потерянных данных: {lost_percentage:.2f}%\")\n"
   ]
  },
  {
   "cell_type": "code",
   "execution_count": 30,
   "id": "61e1530f-f436-4481-a777-8a64f9c55fbd",
   "metadata": {},
   "outputs": [
    {
     "name": "stdout",
     "output_type": "stream",
     "text": [
      "Оставшееся количество строк: 316944\n"
     ]
    }
   ],
   "source": [
    "# Удаление строк с аномальными значениями в 'registration_year'\n",
    "data = data[(data['registration_year'] >= 1900) & (data['registration_year'] <= 2016)]\n",
    "\n",
    "# Проверка результата\n",
    "print(f\"Оставшееся количество строк: {data.shape[0]}\")\n"
   ]
  },
  {
   "cell_type": "markdown",
   "id": "4df2afa2-113a-45aa-bf22-c56a7dda80a5",
   "metadata": {},
   "source": [
    "### Признак power:"
   ]
  },
  {
   "cell_type": "code",
   "execution_count": 31,
   "id": "9fa56ae3-1a3f-449c-bb0f-0340e79d69ce",
   "metadata": {},
   "outputs": [
    {
     "name": "stdout",
     "output_type": "stream",
     "text": [
      "count    316944.000000\n",
      "mean        110.718711\n",
      "std         191.817737\n",
      "min           0.000000\n",
      "25%          69.000000\n",
      "50%         105.000000\n",
      "75%         143.000000\n",
      "max       20000.000000\n",
      "Name: power, dtype: float64\n"
     ]
    },
    {
     "data": {
      "image/png": "[encoded data removed]",
      "text/plain": [
       "<Figure size 720x432 with 1 Axes>"
      ]
     },
     "metadata": {
      "needs_background": "light"
     },
     "output_type": "display_data"
    }
   ],
   "source": [
    "# Анализ распределения значений в столбце 'power'\n",
    "print(data['power'].describe())\n",
    "\n",
    "# Визуализация распределения значений мощности\n",
    "plt.figure(figsize=(10, 6))\n",
    "data['power'].hist(bins=50, range=(0, 500))\n",
    "plt.title('Распределение мощности автомобилей')\n",
    "plt.xlabel('Мощность (л.с.)')\n",
    "plt.ylabel('Количество')\n",
    "plt.show()"
   ]
  },
  {
   "cell_type": "code",
   "execution_count": 32,
   "id": "00102618-209b-4365-ab7d-609c06e048af",
   "metadata": {},
   "outputs": [
    {
     "name": "stdout",
     "output_type": "stream",
     "text": [
      "count    316944.000000\n",
      "mean        121.740522\n",
      "std         188.249510\n",
      "min           1.000000\n",
      "25%          80.000000\n",
      "50%         109.000000\n",
      "75%         143.000000\n",
      "max       20000.000000\n",
      "Name: power, dtype: float64\n"
     ]
    }
   ],
   "source": [
    "# Вычисление медианного значения мощности по каждой марке\n",
    "median_power_by_brand = data.groupby('brand')['power'].median()\n",
    "\n",
    "# Замена нулевых и отрицательных значений на медианное значение для соответствующего бренда\n",
    "data['power'] = data.apply(lambda row: median_power_by_brand[row['brand']] if row['power'] <= 0 else row['power'], axis=1)\n",
    "\n",
    "# Проверка результата\n",
    "print(data['power'].describe())\n"
   ]
  },
  {
   "cell_type": "code",
   "execution_count": 33,
   "id": "da33ebd2-ca5f-4614-8a6e-bc8e739685e4",
   "metadata": {},
   "outputs": [
    {
     "name": "stdout",
     "output_type": "stream",
     "text": [
      "count    316944.000000\n",
      "mean        118.507572\n",
      "std          53.571450\n",
      "min           1.000000\n",
      "25%          80.000000\n",
      "50%         109.000000\n",
      "75%         143.000000\n",
      "max         500.000000\n",
      "Name: power, dtype: float64\n"
     ]
    }
   ],
   "source": [
    "# Установка верхнего предела мощности (например, 500 л.с.)\n",
    "data['power'] = data['power'].apply(lambda x: 500 if x > 500 else x)\n",
    "\n",
    "# Проверка результата\n",
    "print(data['power'].describe())\n"
   ]
  },
  {
   "cell_type": "markdown",
   "id": "74bcb651-8231-41fe-8deb-e07e4b20abcf",
   "metadata": {},
   "source": [
    "### Признак kilometer:"
   ]
  },
  {
   "cell_type": "code",
   "execution_count": 34,
   "id": "c5a6ce93-c57d-4d64-b3a2-ebaa275925c0",
   "metadata": {},
   "outputs": [
    {
     "name": "stdout",
     "output_type": "stream",
     "text": [
      "count    316944.000000\n",
      "mean     128128.975466\n",
      "std       37933.668433\n",
      "min        5000.000000\n",
      "25%      125000.000000\n",
      "50%      150000.000000\n",
      "75%      150000.000000\n",
      "max      150000.000000\n",
      "Name: kilometer, dtype: float64\n"
     ]
    },
    {
     "data": {
      "image/png": "[encoded data removed]",
      "text/plain": [
       "<Figure size 720x432 with 1 Axes>"
      ]
     },
     "metadata": {
      "needs_background": "light"
     },
     "output_type": "display_data"
    }
   ],
   "source": [
    "# Анализ распределения значений в столбце 'kilometer'\n",
    "print(data['kilometer'].describe())\n",
    "\n",
    "# Визуализация распределения пробега\n",
    "plt.figure(figsize=(10, 6))\n",
    "data['kilometer'].hist(bins=50)\n",
    "plt.title('Распределение пробега автомобилей')\n",
    "plt.xlabel('Пробег (км)')\n",
    "plt.ylabel('Количество')\n",
    "plt.show()\n"
   ]
  },
  {
   "cell_type": "markdown",
   "id": "bdb45ca4-8121-466c-9b39-2146c3aa4451",
   "metadata": {},
   "source": [
    "Оставляем все как есть, это учебное задание, возможно это сделано специально. В целом данные выглядят реалистично"
   ]
  },
  {
   "cell_type": "markdown",
   "id": "58d19780-0c0b-49f4-8acf-44651468632e",
   "metadata": {},
   "source": [
    "### Целевой признак price:"
   ]
  },
  {
   "cell_type": "markdown",
   "id": "196bfec6-cba2-4af1-a5bb-93decec9585c",
   "metadata": {},
   "source": [
    "- **Описание**: Цена автомобиля в евро — это наш целевой признак, по которому мы будем строить модель.\n",
    "- **Проблема**: Включает 10,772 аномальных значения (цена <= 0).\n",
    "\n",
    "\n",
    "**Решение**:\n",
    "   - Удалить или заменить аномальные значения (цены меньше или равные нулю).\n",
    "   - Провести анализ распределения цен."
   ]
  },
  {
   "cell_type": "code",
   "execution_count": 35,
   "id": "1b78ea83-e00b-40fc-ab97-9027b6aa671a",
   "metadata": {},
   "outputs": [
    {
     "name": "stdout",
     "output_type": "stream",
     "text": [
      "count    316944.000000\n",
      "mean       4437.099191\n",
      "std        4539.384926\n",
      "min           0.000000\n",
      "25%        1000.000000\n",
      "50%        2750.000000\n",
      "75%        6450.000000\n",
      "max       20000.000000\n",
      "Name: price, dtype: float64\n"
     ]
    },
    {
     "data": {
      "image/png": "[encoded data removed]",
      "text/plain": [
       "<Figure size 720x432 with 1 Axes>"
      ]
     },
     "metadata": {
      "needs_background": "light"
     },
     "output_type": "display_data"
    }
   ],
   "source": [
    "# Анализ распределения значений в столбце 'price'\n",
    "print(data['price'].describe())\n",
    "\n",
    "# Визуализация распределения цен\n",
    "plt.figure(figsize=(10, 6))\n",
    "data['price'].hist(bins=50, range=(0, 50000))\n",
    "plt.title('Распределение цен автомобилей')\n",
    "plt.xlabel('Цена (евро)')\n",
    "plt.ylabel('Количество')\n",
    "plt.show()\n"
   ]
  },
  {
   "cell_type": "code",
   "execution_count": 36,
   "id": "bb3f312b-261a-4204-88e4-ce90f05d5ff2",
   "metadata": {},
   "outputs": [
    {
     "name": "stdout",
     "output_type": "stream",
     "text": [
      "Количество строк после удаления аномальных значений цены: 307746\n"
     ]
    }
   ],
   "source": [
    "# Удаление записей с ценой <= 0\n",
    "data = data[data['price'] > 0]\n",
    "\n",
    "# Проверка, сколько строк осталось\n",
    "print(f\"Количество строк после удаления аномальных значений цены: {data.shape[0]}\")"
   ]
  },
  {
   "cell_type": "markdown",
   "id": "4108f130-8866-4959-8b3f-00361b414926",
   "metadata": {},
   "source": [
    "Мы потеряли около 2.99% данных после удаления строк с аномальными значениями цены. Это относительно небольшой процент, так что можно продолжать работу, не опасаясь значительного влияния на модель."
   ]
  },
  {
   "cell_type": "code",
   "execution_count": 37,
   "id": "18781d0e",
   "metadata": {},
   "outputs": [],
   "source": [
    "# Вычисление корреляционной матрицы phik для набора данных\n",
    "phik_matrix = data.phik_matrix(interval_cols=['price', 'registration_year', 'power', 'kilometer', 'postal_code'])\n"
   ]
  },
  {
   "cell_type": "code",
   "execution_count": 38,
   "id": "142a1ccf",
   "metadata": {},
   "outputs": [
    {
     "data": {
      "image/png": "[encoded data removed]",
      "text/plain": [
       "<Figure size 720x576 with 2 Axes>"
      ]
     },
     "metadata": {
      "needs_background": "light"
     },
     "output_type": "display_data"
    }
   ],
   "source": [
    "# Функция для отображения треугольной матрицы корреляций\n",
    "def plot_upper_triangle_correlation_matrix(corr_matrix, labels):\n",
    "    mask = np.triu(np.ones_like(corr_matrix, dtype=bool))\n",
    "    fig, ax = plt.subplots(figsize=(10, 8))\n",
    "    sns.heatmap(corr_matrix, mask=mask, annot=True, fmt=\".2f\", cmap=\"coolwarm\", \n",
    "                vmin=-1, vmax=1, square=True, linewidths=0.5, cbar_kws={\"shrink\": 0.8}, \n",
    "                xticklabels=labels, yticklabels=labels)\n",
    "    plt.title('Корреляционная матрица')\n",
    "    plt.show()\n",
    "\n",
    "# Отображение верхней треугольной части матрицы корреляций phik\n",
    "plot_upper_triangle_correlation_matrix(phik_matrix.values, phik_matrix.columns)"
   ]
  },
  {
   "cell_type": "markdown",
   "id": "844a13ab",
   "metadata": {},
   "source": [
    "### Выводы по корреляционной матрице Phik:\n",
    "\n",
    "1. **Высокая корреляция между `brand` и `model` (0.91):**\n",
    "   - Эта высокая корреляция объяснима, так как у одного бренда может быть несколько моделей. Мы можем рассмотреть удаление одного из этих признаков, так как они сильно связаны. В данном случае **лучше оставить признак `model`**, так как он более специфичен для описания автомобиля и может лучше влиять на предсказание цены.\n",
    "\n",
    "2. **Корреляция между `model` и `vehicle_type` (0.64):**\n",
    "   - Эта корреляция может быть вызвана тем, что мы заполняли пропуски в `vehicle_type` на основе модели и бренда. Это также объяснимо, так как у каждой модели обычно есть стандартные типы кузовов. **Можно удалить признак `vehicle_type`,** так как информация о кузове уже содержится в модели.\n",
    "\n",
    "3. **Корреляция между `model` и `power` (0.58):**\n",
    "   - Мощность двигателя тесно связана с моделью автомобиля, что и объясняет данную корреляцию. Однако в данном случае **оставим оба признака,** так как `power` имеет сильное влияние на предсказание цены автомобиля, даже при наличии модели.\n",
    "\n",
    "4. **Корреляция между `fuel_type` и `model_was_missing` (0.74):**\n",
    "   - Эта корреляция показывает связь между типом топлива и тем, была ли модель изначально пропущена. Это может быть связано с тем, что определенные типы автомобилей (например, электромобили или гибриды) могли иметь неполные данные. **Признак `model_was_missing` можно оставить,** так как он может улучшить прогностическую силу модели.\n"
   ]
  },
  {
   "cell_type": "code",
   "execution_count": 39,
   "id": "e2220d10",
   "metadata": {},
   "outputs": [],
   "source": [
    "# Удаление признаков brand и vehicle_type\n",
    "data = data.drop(columns=['brand', 'vehicle_type'])"
   ]
  },
  {
   "cell_type": "code",
   "execution_count": 40,
   "id": "11ab00f3",
   "metadata": {},
   "outputs": [
    {
     "data": {
      "text/html": [
       "<div>\n",
       "<style scoped>\n",
       "    .dataframe tbody tr th:only-of-type {\n",
       "        vertical-align: middle;\n",
       "    }\n",
       "\n",
       "    .dataframe tbody tr th {\n",
       "        vertical-align: top;\n",
       "    }\n",
       "\n",
       "    .dataframe thead th {\n",
       "        text-align: right;\n",
       "    }\n",
       "</style>\n",
       "<table border=\"1\" class=\"dataframe\">\n",
       "  <thead>\n",
       "    <tr style=\"text-align: right;\">\n",
       "      <th></th>\n",
       "      <th>feature</th>\n",
       "      <th>VIF</th>\n",
       "    </tr>\n",
       "  </thead>\n",
       "  <tbody>\n",
       "    <tr>\n",
       "      <th>0</th>\n",
       "      <td>const</td>\n",
       "      <td>102034.897185</td>\n",
       "    </tr>\n",
       "    <tr>\n",
       "      <th>1</th>\n",
       "      <td>price</td>\n",
       "      <td>1.925189</td>\n",
       "    </tr>\n",
       "    <tr>\n",
       "      <th>2</th>\n",
       "      <td>registration_year</td>\n",
       "      <td>1.241766</td>\n",
       "    </tr>\n",
       "    <tr>\n",
       "      <th>3</th>\n",
       "      <td>power</td>\n",
       "      <td>1.484311</td>\n",
       "    </tr>\n",
       "    <tr>\n",
       "      <th>4</th>\n",
       "      <td>kilometer</td>\n",
       "      <td>1.284388</td>\n",
       "    </tr>\n",
       "  </tbody>\n",
       "</table>\n",
       "</div>"
      ],
      "text/plain": [
       "             feature            VIF\n",
       "0              const  102034.897185\n",
       "1              price       1.925189\n",
       "2  registration_year       1.241766\n",
       "3              power       1.484311\n",
       "4          kilometer       1.284388"
      ]
     },
     "execution_count": 40,
     "metadata": {},
     "output_type": "execute_result"
    }
   ],
   "source": [
    "# Выбираем только числовые признаки\n",
    "numeric_columns = ['price', 'registration_year', 'power', 'kilometer']\n",
    "X_vif = data[numeric_columns]\n",
    "\n",
    "# Добавляем константу для корректной работы VIF\n",
    "X_vif = sm.add_constant(X_vif)\n",
    "\n",
    "# Рассчет VIF для каждого признака\n",
    "vif_data = pd.DataFrame()\n",
    "vif_data['feature'] = X_vif.columns\n",
    "vif_data['VIF'] = [variance_inflation_factor(X_vif.values, i) for i in range(X_vif.shape[1])]\n",
    "\n",
    "# Выводим результаты\n",
    "vif_data"
   ]
  },
  {
   "cell_type": "markdown",
   "id": "389441f6",
   "metadata": {},
   "source": [
    "Мы можем оставить все эти признаки в модели, и они не будут мешать корректному обучению."
   ]
  },
  {
   "cell_type": "markdown",
   "id": "0c77aa29",
   "metadata": {},
   "source": [
    "# Итог обработки данных\n",
    "\n",
    "### Удаление дубликатов:\n",
    "Мы обнаружили и удалили 4 дубликата из набора данных. Это позволило избежать повторяющейся информации и повысить качество данных.\n",
    "\n",
    "### Приведение названий столбцов к змеиному регистру:\n",
    "Все названия столбцов были преобразованы в нижний регистр и приведены к формату snake_case. Это сделало работу с данными более удобной и стандартизированной.\n",
    "\n",
    "### Удаление ненужных столбцов:\n",
    "Мы удалили следующие столбцы, которые не несут полезной информации для модели:\n",
    "- `number_of_pictures`: Все значения были равны 0.\n",
    "- `date_created`, `last_seen`, `registration_month`, `date_crawled`: Эти временные метки не полезны для нашей задачи.\n",
    "\n",
    "### Анализ уникальных значений категориальных признаков:\n",
    "Мы проанализировали уникальные значения в категориальных признаках: `vehicle_type`, `gearbox`, `model`, `fuel_type`, `brand`, `repaired`. Пропуски в этих признаках были заполнены на основе наиболее вероятных значений, что позволило нам улучшить качество данных для дальнейшего моделирования.\n"
   ]
  },
  {
   "cell_type": "markdown",
   "id": "24436b7d-293b-469f-ba1a-3f44bca79202",
   "metadata": {},
   "source": [
    "# 4.Подготовьте выборки для обучения моделей."
   ]
  },
  {
   "cell_type": "markdown",
   "id": "9c1b79fd-8ea5-4324-ac10-936a5bc0a982",
   "metadata": {},
   "source": [
    "Теперь, когда данные очищены и готовы к использованию, нам нужно разделить данные на обучающую и тестовую выборки для обучения моделей."
   ]
  },
  {
   "cell_type": "code",
   "execution_count": 41,
   "id": "7b5e48e7-80e4-453e-a175-115f1ebf3ad2",
   "metadata": {},
   "outputs": [
    {
     "name": "stdout",
     "output_type": "stream",
     "text": [
      "Размер обучающей выборки: 184647\n",
      "Размер валидационной выборки: 61549\n",
      "Размер тестовой выборки: 61550\n"
     ]
    }
   ],
   "source": [
    "# Перезадаем категориальные столбцы после удаления ненужных\n",
    "categorical_columns = ['gearbox', 'model', 'fuel_type', 'repaired']\n",
    "\n",
    "# Преобразование категориальных признаков в тип 'category'\n",
    "for column in categorical_columns:\n",
    "    data[column] = data[column].astype('category')\n",
    "\n",
    "# Разделение данных на обучающую, валидационную и тестовую выборки\n",
    "X = data.drop(columns=['price'])\n",
    "y = data['price']\n",
    "\n",
    "# Разделение на обучающую и валидационную выборки (например, 60% обучение, 20% валидация, 20% тест)\n",
    "X_train, X_temp, y_train, y_temp = train_test_split(X, y, test_size=0.4, random_state=42)\n",
    "\n",
    "# Разделение временной выборки на валидационную и тестовую (20% тест и 20% валидация)\n",
    "X_valid, X_test, y_valid, y_test = train_test_split(X_temp, y_temp, test_size=0.5, random_state=42)\n",
    "\n",
    "# Проверка размеров выборок\n",
    "print(f\"Размер обучающей выборки: {X_train.shape[0]}\")\n",
    "print(f\"Размер валидационной выборки: {X_valid.shape[0]}\")\n",
    "print(f\"Размер тестовой выборки: {X_test.shape[0]}\")"
   ]
  },
  {
   "cell_type": "markdown",
   "id": "00f5f07f-9c8d-401d-a706-f0c7e945a060",
   "metadata": {},
   "source": [
    "Мы будем обучать несколько моделей для предсказания цены автомобилей, включая:\n",
    "\n",
    "1. **LightGBM** — модель градиентного бустинга.\n",
    "2. **Random Forest** — более простая модель, которая также может показать хорошие результаты."
   ]
  },
  {
   "cell_type": "markdown",
   "id": "fec56ac8-3769-4ab6-8078-a4a9e1008d41",
   "metadata": {},
   "source": [
    "# LightGBM "
   ]
  },
  {
   "cell_type": "code",
   "execution_count": 42,
   "id": "8a752470-9c6f-4ae8-9450-c4c43643cc26",
   "metadata": {},
   "outputs": [
    {
     "name": "stderr",
     "output_type": "stream",
     "text": [
      "/opt/conda/lib/python3.9/site-packages/lightgbm/basic.py:2065: UserWarning: Using categorical_feature in Dataset.\n",
      "  _log_warning('Using categorical_feature in Dataset.')\n"
     ]
    },
    {
     "name": "stdout",
     "output_type": "stream",
     "text": [
      "RMSE для модели LightGBM на валидационной выборке: 1754.258489148418\n",
      "CPU times: user 6.86 s, sys: 10.9 ms, total: 6.87 s\n",
      "Wall time: 6.89 s\n"
     ]
    }
   ],
   "source": [
    "%%time\n",
    "# Указание категориальных признаков для LightGBM\n",
    "categorical_feature_indices = [X_train.columns.get_loc(col) for col in categorical_columns]\n",
    "\n",
    "# Обучение модели LightGBM с указанием категориальных признаков и random_state\n",
    "model_lgb = lgb.LGBMRegressor(random_state=42)  # добавляем random_state\n",
    "model_lgb.fit(X_train, y_train, categorical_feature=categorical_feature_indices)\n",
    "\n",
    "# Предсказание на валидационной выборке\n",
    "y_pred_lgb = model_lgb.predict(X_valid)\n",
    "\n",
    "# Оценка модели с помощью RMSE\n",
    "rmse_lgb = mean_squared_error(y_valid, y_pred_lgb, squared=False)\n",
    "print(f\"RMSE для модели LightGBM на валидационной выборке: {rmse_lgb}\")"
   ]
  },
  {
   "cell_type": "markdown",
   "id": "6ff9bd61",
   "metadata": {},
   "source": [
    "### Код для GridSearchCV (отключён для ускорения выполнения проекта)\n",
    "\n",
    "**Результаты выполнения:**\n",
    "- Лучшие параметры для LightGBM: {'learning_rate': 0.1, 'max_depth': 20, 'n_estimators': 200, 'num_leaves': 100}\n",
    "- RMSE для LightGBM с лучшими параметрами на валидационной выборке: 1699.4764774801972\n",
    "- Лучший результат кросс-валидации: 0.8559848195001898\n",
    "- CPU times: user 37min 49s, sys: 15.3 s, total: 38min 4s\n",
    "- Wall time: 38min 20s\n",
    "\n",
    "```python\n",
    "%%time\n",
    "param_grid_lgb = {\n",
    "    'num_leaves': [31, 50, 100],\n",
    "    'max_depth': [-1, 10, 20],\n",
    "    'learning_rate': [0.01, 0.05, 0.1],\n",
    "    'n_estimators': [50, 100, 200]\n",
    "}\n",
    "\n",
    "# Создаем модель LightGBM и объект GridSearchCV\n",
    "lgbm = lgb.LGBMRegressor(random_state=42)\n",
    "grid_search_lgb = GridSearchCV(estimator=lgbm, param_grid=param_grid_lgb, cv=3, n_jobs=-1, verbose=2)\n",
    "\n",
    "# Выполняем подбор гиперпараметров\n",
    "grid_search_lgb.fit(X_train, y_train)\n",
    "\n",
    "# Получаем лучшие параметры\n",
    "best_params_lgb = grid_search_lgb.best_params_\n",
    "print(f\"Лучшие параметры для LightGBM: {best_params_lgb}\")\n",
    "\n",
    "# Оценка модели на валидационной выборке\n",
    "y_pred_lgb_valid = grid_search_lgb.predict(X_valid)\n",
    "rmse_lgb_valid = mean_squared_error(y_valid, y_pred_lgb_valid, squared=False)\n",
    "print(f\"RMSE для LightGBM с лучшими параметрами на валидационной выборке: {rmse_lgb_valid}\")\n",
    "```\n",
    "\n"
   ]
  },
  {
   "cell_type": "code",
   "execution_count": 43,
   "id": "a89c80a0",
   "metadata": {
    "collapsed": true
   },
   "outputs": [
    {
     "name": "stdout",
     "output_type": "stream",
     "text": [
      "Fitting 3 folds for each of 20 candidates, totalling 60 fits\n",
      "[CV] END learning_rate=0.05, max_depth=-1, n_estimators=100, num_leaves=31; total time=   6.2s\n",
      "[CV] END learning_rate=0.05, max_depth=-1, n_estimators=100, num_leaves=31; total time=   6.6s\n",
      "[CV] END learning_rate=0.05, max_depth=-1, n_estimators=100, num_leaves=31; total time=   5.6s\n",
      "[CV] END learning_rate=0.01, max_depth=-1, n_estimators=50, num_leaves=31; total time=   3.1s\n",
      "[CV] END learning_rate=0.01, max_depth=-1, n_estimators=50, num_leaves=31; total time=   3.2s\n",
      "[CV] END learning_rate=0.01, max_depth=-1, n_estimators=50, num_leaves=31; total time=   3.5s\n",
      "[CV] END learning_rate=0.01, max_depth=20, n_estimators=100, num_leaves=50; total time=   7.3s\n",
      "[CV] END learning_rate=0.01, max_depth=20, n_estimators=100, num_leaves=50; total time=   7.6s\n",
      "[CV] END learning_rate=0.01, max_depth=20, n_estimators=100, num_leaves=50; total time=   9.1s\n",
      "[CV] END learning_rate=0.05, max_depth=-1, n_estimators=100, num_leaves=50; total time=   9.0s\n",
      "[CV] END learning_rate=0.05, max_depth=-1, n_estimators=100, num_leaves=50; total time=   7.8s\n",
      "[CV] END learning_rate=0.05, max_depth=-1, n_estimators=100, num_leaves=50; total time=   8.1s\n",
      "[CV] END learning_rate=0.01, max_depth=20, n_estimators=50, num_leaves=31; total time=   3.3s\n",
      "[CV] END learning_rate=0.01, max_depth=20, n_estimators=50, num_leaves=31; total time=   3.1s\n",
      "[CV] END learning_rate=0.01, max_depth=20, n_estimators=50, num_leaves=31; total time=   2.8s\n",
      "[CV] END learning_rate=0.05, max_depth=-1, n_estimators=50, num_leaves=50; total time=   4.1s\n",
      "[CV] END learning_rate=0.05, max_depth=-1, n_estimators=50, num_leaves=50; total time=   4.1s\n",
      "[CV] END learning_rate=0.05, max_depth=-1, n_estimators=50, num_leaves=50; total time=   3.7s\n",
      "[CV] END learning_rate=0.01, max_depth=10, n_estimators=50, num_leaves=50; total time=   3.8s\n",
      "[CV] END learning_rate=0.01, max_depth=10, n_estimators=50, num_leaves=50; total time=   4.3s\n",
      "[CV] END learning_rate=0.01, max_depth=10, n_estimators=50, num_leaves=50; total time=   4.2s\n",
      "[CV] END learning_rate=0.1, max_depth=10, n_estimators=200, num_leaves=50; total time=  11.9s\n",
      "[CV] END learning_rate=0.1, max_depth=10, n_estimators=200, num_leaves=50; total time=  11.8s\n",
      "[CV] END learning_rate=0.1, max_depth=10, n_estimators=200, num_leaves=50; total time=  11.0s\n",
      "[CV] END learning_rate=0.01, max_depth=-1, n_estimators=100, num_leaves=50; total time=   8.1s\n",
      "[CV] END learning_rate=0.01, max_depth=-1, n_estimators=100, num_leaves=50; total time=   6.4s\n",
      "[CV] END learning_rate=0.01, max_depth=-1, n_estimators=100, num_leaves=50; total time=   7.2s\n",
      "[CV] END learning_rate=0.01, max_depth=10, n_estimators=100, num_leaves=31; total time=   6.0s\n",
      "[CV] END learning_rate=0.01, max_depth=10, n_estimators=100, num_leaves=31; total time=   6.1s\n",
      "[CV] END learning_rate=0.01, max_depth=10, n_estimators=100, num_leaves=31; total time=   6.1s\n",
      "[CV] END learning_rate=0.05, max_depth=20, n_estimators=100, num_leaves=50; total time=   7.0s\n",
      "[CV] END learning_rate=0.05, max_depth=20, n_estimators=100, num_leaves=50; total time=   7.6s\n",
      "[CV] END learning_rate=0.05, max_depth=20, n_estimators=100, num_leaves=50; total time=   8.2s\n",
      "[CV] END learning_rate=0.05, max_depth=-1, n_estimators=200, num_leaves=31; total time=  10.6s\n",
      "[CV] END learning_rate=0.05, max_depth=-1, n_estimators=200, num_leaves=31; total time=  11.3s\n",
      "[CV] END learning_rate=0.05, max_depth=-1, n_estimators=200, num_leaves=31; total time=  11.8s\n",
      "[CV] END learning_rate=0.1, max_depth=10, n_estimators=100, num_leaves=50; total time=   8.4s\n",
      "[CV] END learning_rate=0.1, max_depth=10, n_estimators=100, num_leaves=50; total time=   8.8s\n",
      "[CV] END learning_rate=0.1, max_depth=10, n_estimators=100, num_leaves=50; total time=   7.7s\n",
      "[CV] END learning_rate=0.05, max_depth=-1, n_estimators=200, num_leaves=100; total time=  23.6s\n",
      "[CV] END learning_rate=0.05, max_depth=-1, n_estimators=200, num_leaves=100; total time=  22.7s\n",
      "[CV] END learning_rate=0.05, max_depth=-1, n_estimators=200, num_leaves=100; total time=  22.7s\n",
      "[CV] END learning_rate=0.1, max_depth=10, n_estimators=100, num_leaves=100; total time=  10.6s\n",
      "[CV] END learning_rate=0.1, max_depth=10, n_estimators=100, num_leaves=100; total time=  10.7s\n",
      "[CV] END learning_rate=0.1, max_depth=10, n_estimators=100, num_leaves=100; total time=  29.2s\n",
      "[CV] END learning_rate=0.05, max_depth=20, n_estimators=50, num_leaves=31; total time=  14.4s\n",
      "[CV] END learning_rate=0.05, max_depth=20, n_estimators=50, num_leaves=31; total time=  19.1s\n",
      "[CV] END learning_rate=0.05, max_depth=20, n_estimators=50, num_leaves=31; total time=  11.1s\n",
      "[CV] END learning_rate=0.1, max_depth=20, n_estimators=50, num_leaves=50; total time=  21.4s\n",
      "[CV] END learning_rate=0.1, max_depth=20, n_estimators=50, num_leaves=50; total time=  24.4s\n",
      "[CV] END learning_rate=0.1, max_depth=20, n_estimators=50, num_leaves=50; total time=   6.1s\n",
      "[CV] END learning_rate=0.1, max_depth=-1, n_estimators=200, num_leaves=50; total time=  11.8s\n",
      "[CV] END learning_rate=0.1, max_depth=-1, n_estimators=200, num_leaves=50; total time=  15.2s\n",
      "[CV] END learning_rate=0.1, max_depth=-1, n_estimators=200, num_leaves=50; total time=  10.8s\n",
      "[CV] END learning_rate=0.1, max_depth=-1, n_estimators=50, num_leaves=50; total time=   4.0s\n",
      "[CV] END learning_rate=0.1, max_depth=-1, n_estimators=50, num_leaves=50; total time=   4.1s\n",
      "[CV] END learning_rate=0.1, max_depth=-1, n_estimators=50, num_leaves=50; total time=   4.4s\n",
      "[CV] END learning_rate=0.05, max_depth=10, n_estimators=100, num_leaves=50; total time=   7.7s\n",
      "[CV] END learning_rate=0.05, max_depth=10, n_estimators=100, num_leaves=50; total time=   7.4s\n",
      "[CV] END learning_rate=0.05, max_depth=10, n_estimators=100, num_leaves=50; total time=   7.5s\n",
      "Лучшие параметры для LightGBM (RandomizedSearchCV): {'num_leaves': 100, 'n_estimators': 200, 'max_depth': -1, 'learning_rate': 0.05}\n",
      "RMSE для LightGBM с RandomizedSearchCV: 1709.5273029925995\n",
      "CPU times: user 9min 30s, sys: 4.3 s, total: 9min 34s\n",
      "Wall time: 9min 38s\n"
     ]
    }
   ],
   "source": [
    "%%time\n",
    "\n",
    "# Параметры для случайного поиска\n",
    "param_dist_lgb = {\n",
    "    'num_leaves': [31, 50, 100],\n",
    "    'max_depth': [-1, 10, 20],\n",
    "    'learning_rate': [0.01, 0.05, 0.1],\n",
    "    'n_estimators': [50, 100, 200]\n",
    "}\n",
    "\n",
    "# Настройка RandomizedSearchCV\n",
    "random_search_lgb = RandomizedSearchCV(estimator=lgb.LGBMRegressor(random_state=42), \n",
    "                                       param_distributions=param_dist_lgb, \n",
    "                                       n_iter=20,  # Количество случайных комбинаций\n",
    "                                       cv=3, \n",
    "                                       n_jobs=-1, \n",
    "                                       verbose=2, \n",
    "                                       random_state=42)\n",
    "\n",
    "# Выполнение случайного поиска\n",
    "random_search_lgb.fit(X_train, y_train)\n",
    "\n",
    "# Получение лучших параметров\n",
    "best_params_lgb_random = random_search_lgb.best_params_\n",
    "print(f\"Лучшие параметры для LightGBM (RandomizedSearchCV): {best_params_lgb_random}\")\n",
    "\n",
    "# Оценка модели с лучшими параметрами на валидационной выборке\n",
    "y_pred_lgb_random = random_search_lgb.predict(X_valid)\n",
    "rmse_lgb_random = mean_squared_error(y_valid, y_pred_lgb_random, squared=False)\n",
    "print(f\"RMSE для LightGBM с RandomizedSearchCV: {rmse_lgb_random}\")\n"
   ]
  },
  {
   "cell_type": "code",
   "execution_count": 44,
   "id": "cb9430b3",
   "metadata": {},
   "outputs": [
    {
     "name": "stderr",
     "output_type": "stream",
     "text": [
      "/tmp/ipykernel_408/2892102281.py:6: SettingWithCopyWarning: \n",
      "A value is trying to be set on a copy of a slice from a DataFrame.\n",
      "Try using .loc[row_indexer,col_indexer] = value instead\n",
      "\n",
      "See the caveats in the documentation: https://pandas.pydata.org/pandas-docs/stable/user_guide/indexing.html#returning-a-view-versus-a-copy\n",
      "  X_train[column] = X_train[column].astype('category')\n",
      "/tmp/ipykernel_408/2892102281.py:7: SettingWithCopyWarning: \n",
      "A value is trying to be set on a copy of a slice from a DataFrame.\n",
      "Try using .loc[row_indexer,col_indexer] = value instead\n",
      "\n",
      "See the caveats in the documentation: https://pandas.pydata.org/pandas-docs/stable/user_guide/indexing.html#returning-a-view-versus-a-copy\n",
      "  X_valid[column] = X_valid[column].astype('category')\n",
      "[I 2024-10-04 12:51:14,536] A new study created in memory with name: no-name-1807ddef-65fd-4956-8da0-28d2b8520c9d\n",
      "/opt/conda/lib/python3.9/site-packages/lightgbm/sklearn.py:726: UserWarning: 'early_stopping_rounds' argument is deprecated and will be removed in a future release of LightGBM. Pass 'early_stopping()' callback via 'callbacks' argument instead.\n",
      "  _log_warning(\"'early_stopping_rounds' argument is deprecated and will be removed in a future release of LightGBM. \"\n",
      "/opt/conda/lib/python3.9/site-packages/lightgbm/sklearn.py:736: UserWarning: 'verbose' argument is deprecated and will be removed in a future release of LightGBM. Pass 'log_evaluation()' callback via 'callbacks' argument instead.\n",
      "  _log_warning(\"'verbose' argument is deprecated and will be removed in a future release of LightGBM. \"\n",
      "[I 2024-10-04 12:51:24,257] Trial 0 finished with value: 1773.857489378668 and parameters: {'num_leaves': 81, 'learning_rate': 0.21205730227221734, 'n_estimators': 90, 'max_depth': 10, 'min_child_samples': 83, 'subsample': 0.5384275276748736, 'colsample_bytree': 0.7193615008039453}. Best is trial 0 with value: 1773.857489378668.\n",
      "/opt/conda/lib/python3.9/site-packages/lightgbm/sklearn.py:726: UserWarning: 'early_stopping_rounds' argument is deprecated and will be removed in a future release of LightGBM. Pass 'early_stopping()' callback via 'callbacks' argument instead.\n",
      "  _log_warning(\"'early_stopping_rounds' argument is deprecated and will be removed in a future release of LightGBM. \"\n",
      "/opt/conda/lib/python3.9/site-packages/lightgbm/sklearn.py:736: UserWarning: 'verbose' argument is deprecated and will be removed in a future release of LightGBM. Pass 'log_evaluation()' callback via 'callbacks' argument instead.\n",
      "  _log_warning(\"'verbose' argument is deprecated and will be removed in a future release of LightGBM. \"\n",
      "[I 2024-10-04 12:51:48,280] Trial 1 finished with value: 1738.599900830934 and parameters: {'num_leaves': 56, 'learning_rate': 0.13363893410004996, 'n_estimators': 327, 'max_depth': 10, 'min_child_samples': 69, 'subsample': 0.6379813701549846, 'colsample_bytree': 0.912257783283394}. Best is trial 1 with value: 1738.599900830934.\n",
      "/opt/conda/lib/python3.9/site-packages/lightgbm/sklearn.py:726: UserWarning: 'early_stopping_rounds' argument is deprecated and will be removed in a future release of LightGBM. Pass 'early_stopping()' callback via 'callbacks' argument instead.\n",
      "  _log_warning(\"'early_stopping_rounds' argument is deprecated and will be removed in a future release of LightGBM. \"\n",
      "/opt/conda/lib/python3.9/site-packages/lightgbm/sklearn.py:736: UserWarning: 'verbose' argument is deprecated and will be removed in a future release of LightGBM. Pass 'log_evaluation()' callback via 'callbacks' argument instead.\n",
      "  _log_warning(\"'verbose' argument is deprecated and will be removed in a future release of LightGBM. \"\n",
      "[I 2024-10-04 12:52:08,469] Trial 2 finished with value: 1830.2166710917688 and parameters: {'num_leaves': 121, 'learning_rate': 0.10129098937840116, 'n_estimators': 492, 'max_depth': 4, 'min_child_samples': 87, 'subsample': 0.8140544504293157, 'colsample_bytree': 0.6223627394618338}. Best is trial 1 with value: 1738.599900830934.\n",
      "/opt/conda/lib/python3.9/site-packages/lightgbm/sklearn.py:726: UserWarning: 'early_stopping_rounds' argument is deprecated and will be removed in a future release of LightGBM. Pass 'early_stopping()' callback via 'callbacks' argument instead.\n",
      "  _log_warning(\"'early_stopping_rounds' argument is deprecated and will be removed in a future release of LightGBM. \"\n",
      "/opt/conda/lib/python3.9/site-packages/lightgbm/sklearn.py:736: UserWarning: 'verbose' argument is deprecated and will be removed in a future release of LightGBM. Pass 'log_evaluation()' callback via 'callbacks' argument instead.\n",
      "  _log_warning(\"'verbose' argument is deprecated and will be removed in a future release of LightGBM. \"\n",
      "[I 2024-10-04 12:52:14,156] Trial 3 finished with value: 2241.1627280747994 and parameters: {'num_leaves': 103, 'learning_rate': 0.03158179191403551, 'n_estimators': 86, 'max_depth': 4, 'min_child_samples': 14, 'subsample': 0.6971516569665015, 'colsample_bytree': 0.6170600866262241}. Best is trial 1 with value: 1738.599900830934.\n",
      "/opt/conda/lib/python3.9/site-packages/lightgbm/sklearn.py:726: UserWarning: 'early_stopping_rounds' argument is deprecated and will be removed in a future release of LightGBM. Pass 'early_stopping()' callback via 'callbacks' argument instead.\n",
      "  _log_warning(\"'early_stopping_rounds' argument is deprecated and will be removed in a future release of LightGBM. \"\n",
      "/opt/conda/lib/python3.9/site-packages/lightgbm/sklearn.py:736: UserWarning: 'verbose' argument is deprecated and will be removed in a future release of LightGBM. Pass 'log_evaluation()' callback via 'callbacks' argument instead.\n",
      "  _log_warning(\"'verbose' argument is deprecated and will be removed in a future release of LightGBM. \"\n",
      "[I 2024-10-04 12:52:31,263] Trial 4 finished with value: 1864.7618342540704 and parameters: {'num_leaves': 82, 'learning_rate': 0.17614297650863167, 'n_estimators': 425, 'max_depth': 3, 'min_child_samples': 76, 'subsample': 0.815412453632986, 'colsample_bytree': 0.5335592582781059}. Best is trial 1 with value: 1738.599900830934.\n",
      "/opt/conda/lib/python3.9/site-packages/lightgbm/sklearn.py:726: UserWarning: 'early_stopping_rounds' argument is deprecated and will be removed in a future release of LightGBM. Pass 'early_stopping()' callback via 'callbacks' argument instead.\n",
      "  _log_warning(\"'early_stopping_rounds' argument is deprecated and will be removed in a future release of LightGBM. \"\n",
      "/opt/conda/lib/python3.9/site-packages/lightgbm/sklearn.py:736: UserWarning: 'verbose' argument is deprecated and will be removed in a future release of LightGBM. Pass 'log_evaluation()' callback via 'callbacks' argument instead.\n",
      "  _log_warning(\"'verbose' argument is deprecated and will be removed in a future release of LightGBM. \"\n",
      "[I 2024-10-04 12:52:57,554] Trial 5 finished with value: 1738.8644110990301 and parameters: {'num_leaves': 106, 'learning_rate': 0.24796314962896948, 'n_estimators': 447, 'max_depth': 9, 'min_child_samples': 58, 'subsample': 0.7679670189009761, 'colsample_bytree': 0.9976280345773703}. Best is trial 1 with value: 1738.599900830934.\n",
      "/opt/conda/lib/python3.9/site-packages/lightgbm/sklearn.py:726: UserWarning: 'early_stopping_rounds' argument is deprecated and will be removed in a future release of LightGBM. Pass 'early_stopping()' callback via 'callbacks' argument instead.\n",
      "  _log_warning(\"'early_stopping_rounds' argument is deprecated and will be removed in a future release of LightGBM. \"\n",
      "/opt/conda/lib/python3.9/site-packages/lightgbm/sklearn.py:736: UserWarning: 'verbose' argument is deprecated and will be removed in a future release of LightGBM. Pass 'log_evaluation()' callback via 'callbacks' argument instead.\n",
      "  _log_warning(\"'verbose' argument is deprecated and will be removed in a future release of LightGBM. \"\n",
      "[I 2024-10-04 12:53:23,881] Trial 6 finished with value: 1727.5614126282492 and parameters: {'num_leaves': 58, 'learning_rate': 0.2348237474401009, 'n_estimators': 418, 'max_depth': 9, 'min_child_samples': 17, 'subsample': 0.970698712923341, 'colsample_bytree': 0.9477664431991824}. Best is trial 6 with value: 1727.5614126282492.\n",
      "/opt/conda/lib/python3.9/site-packages/lightgbm/sklearn.py:726: UserWarning: 'early_stopping_rounds' argument is deprecated and will be removed in a future release of LightGBM. Pass 'early_stopping()' callback via 'callbacks' argument instead.\n",
      "  _log_warning(\"'early_stopping_rounds' argument is deprecated and will be removed in a future release of LightGBM. \"\n",
      "/opt/conda/lib/python3.9/site-packages/lightgbm/sklearn.py:736: UserWarning: 'verbose' argument is deprecated and will be removed in a future release of LightGBM. Pass 'log_evaluation()' callback via 'callbacks' argument instead.\n",
      "  _log_warning(\"'verbose' argument is deprecated and will be removed in a future release of LightGBM. \"\n",
      "[I 2024-10-04 12:53:57,775] Trial 7 finished with value: 1732.2319561912893 and parameters: {'num_leaves': 103, 'learning_rate': 0.16079213702699197, 'n_estimators': 322, 'max_depth': 15, 'min_child_samples': 100, 'subsample': 0.7434998813173586, 'colsample_bytree': 0.9848584107637481}. Best is trial 6 with value: 1727.5614126282492.\n",
      "/opt/conda/lib/python3.9/site-packages/lightgbm/sklearn.py:726: UserWarning: 'early_stopping_rounds' argument is deprecated and will be removed in a future release of LightGBM. Pass 'early_stopping()' callback via 'callbacks' argument instead.\n",
      "  _log_warning(\"'early_stopping_rounds' argument is deprecated and will be removed in a future release of LightGBM. \"\n",
      "/opt/conda/lib/python3.9/site-packages/lightgbm/sklearn.py:736: UserWarning: 'verbose' argument is deprecated and will be removed in a future release of LightGBM. Pass 'log_evaluation()' callback via 'callbacks' argument instead.\n",
      "  _log_warning(\"'verbose' argument is deprecated and will be removed in a future release of LightGBM. \"\n",
      "[I 2024-10-04 12:54:04,265] Trial 8 finished with value: 2031.0643734614753 and parameters: {'num_leaves': 21, 'learning_rate': 0.0766622397000865, 'n_estimators': 170, 'max_depth': 3, 'min_child_samples': 85, 'subsample': 0.8480322321129765, 'colsample_bytree': 0.9166172147577427}. Best is trial 6 with value: 1727.5614126282492.\n",
      "/opt/conda/lib/python3.9/site-packages/lightgbm/sklearn.py:726: UserWarning: 'early_stopping_rounds' argument is deprecated and will be removed in a future release of LightGBM. Pass 'early_stopping()' callback via 'callbacks' argument instead.\n",
      "  _log_warning(\"'early_stopping_rounds' argument is deprecated and will be removed in a future release of LightGBM. \"\n",
      "/opt/conda/lib/python3.9/site-packages/lightgbm/sklearn.py:736: UserWarning: 'verbose' argument is deprecated and will be removed in a future release of LightGBM. Pass 'log_evaluation()' callback via 'callbacks' argument instead.\n",
      "  _log_warning(\"'verbose' argument is deprecated and will be removed in a future release of LightGBM. \"\n",
      "[I 2024-10-04 12:54:21,273] Trial 9 finished with value: 1751.1732259119574 and parameters: {'num_leaves': 63, 'learning_rate': 0.13104291135246582, 'n_estimators': 221, 'max_depth': 9, 'min_child_samples': 17, 'subsample': 0.9944435097667955, 'colsample_bytree': 0.8719788505235201}. Best is trial 6 with value: 1727.5614126282492.\n",
      "/opt/conda/lib/python3.9/site-packages/lightgbm/sklearn.py:726: UserWarning: 'early_stopping_rounds' argument is deprecated and will be removed in a future release of LightGBM. Pass 'early_stopping()' callback via 'callbacks' argument instead.\n",
      "  _log_warning(\"'early_stopping_rounds' argument is deprecated and will be removed in a future release of LightGBM. \"\n",
      "/opt/conda/lib/python3.9/site-packages/lightgbm/sklearn.py:736: UserWarning: 'verbose' argument is deprecated and will be removed in a future release of LightGBM. Pass 'log_evaluation()' callback via 'callbacks' argument instead.\n",
      "  _log_warning(\"'verbose' argument is deprecated and will be removed in a future release of LightGBM. \"\n",
      "[I 2024-10-04 12:54:38,373] Trial 10 finished with value: 1741.1545971160378 and parameters: {'num_leaves': 24, 'learning_rate': 0.2849780282665846, 'n_estimators': 375, 'max_depth': 13, 'min_child_samples': 35, 'subsample': 0.9703445732063081, 'colsample_bytree': 0.7643824087573166}. Best is trial 6 with value: 1727.5614126282492.\n",
      "/opt/conda/lib/python3.9/site-packages/lightgbm/sklearn.py:726: UserWarning: 'early_stopping_rounds' argument is deprecated and will be removed in a future release of LightGBM. Pass 'early_stopping()' callback via 'callbacks' argument instead.\n",
      "  _log_warning(\"'early_stopping_rounds' argument is deprecated and will be removed in a future release of LightGBM. \"\n",
      "/opt/conda/lib/python3.9/site-packages/lightgbm/sklearn.py:736: UserWarning: 'verbose' argument is deprecated and will be removed in a future release of LightGBM. Pass 'log_evaluation()' callback via 'callbacks' argument instead.\n",
      "  _log_warning(\"'verbose' argument is deprecated and will be removed in a future release of LightGBM. \"\n",
      "[I 2024-10-04 12:55:14,959] Trial 11 finished with value: 1729.8102724603793 and parameters: {'num_leaves': 149, 'learning_rate': 0.18955002586293612, 'n_estimators': 289, 'max_depth': 15, 'min_child_samples': 99, 'subsample': 0.9002151557298068, 'colsample_bytree': 0.9957863695712319}. Best is trial 6 with value: 1727.5614126282492.\n",
      "/opt/conda/lib/python3.9/site-packages/lightgbm/sklearn.py:726: UserWarning: 'early_stopping_rounds' argument is deprecated and will be removed in a future release of LightGBM. Pass 'early_stopping()' callback via 'callbacks' argument instead.\n",
      "  _log_warning(\"'early_stopping_rounds' argument is deprecated and will be removed in a future release of LightGBM. \"\n",
      "/opt/conda/lib/python3.9/site-packages/lightgbm/sklearn.py:736: UserWarning: 'verbose' argument is deprecated and will be removed in a future release of LightGBM. Pass 'log_evaluation()' callback via 'callbacks' argument instead.\n",
      "  _log_warning(\"'verbose' argument is deprecated and will be removed in a future release of LightGBM. \"\n",
      "[I 2024-10-04 12:55:31,970] Trial 12 finished with value: 1745.293723525962 and parameters: {'num_leaves': 149, 'learning_rate': 0.21782649395407555, 'n_estimators': 236, 'max_depth': 7, 'min_child_samples': 38, 'subsample': 0.9046448099369293, 'colsample_bytree': 0.8139483563650004}. Best is trial 6 with value: 1727.5614126282492.\n",
      "/opt/conda/lib/python3.9/site-packages/lightgbm/sklearn.py:726: UserWarning: 'early_stopping_rounds' argument is deprecated and will be removed in a future release of LightGBM. Pass 'early_stopping()' callback via 'callbacks' argument instead.\n",
      "  _log_warning(\"'early_stopping_rounds' argument is deprecated and will be removed in a future release of LightGBM. \"\n",
      "/opt/conda/lib/python3.9/site-packages/lightgbm/sklearn.py:736: UserWarning: 'verbose' argument is deprecated and will be removed in a future release of LightGBM. Pass 'log_evaluation()' callback via 'callbacks' argument instead.\n",
      "  _log_warning(\"'verbose' argument is deprecated and will be removed in a future release of LightGBM. \"\n",
      "[I 2024-10-04 12:56:07,275] Trial 13 finished with value: 1736.5199230020582 and parameters: {'num_leaves': 149, 'learning_rate': 0.28843131364558366, 'n_estimators': 303, 'max_depth': 13, 'min_child_samples': 37, 'subsample': 0.9374131010683118, 'colsample_bytree': 0.9416262621933184}. Best is trial 6 with value: 1727.5614126282492.\n",
      "/opt/conda/lib/python3.9/site-packages/lightgbm/sklearn.py:726: UserWarning: 'early_stopping_rounds' argument is deprecated and will be removed in a future release of LightGBM. Pass 'early_stopping()' callback via 'callbacks' argument instead.\n",
      "  _log_warning(\"'early_stopping_rounds' argument is deprecated and will be removed in a future release of LightGBM. \"\n",
      "/opt/conda/lib/python3.9/site-packages/lightgbm/sklearn.py:736: UserWarning: 'verbose' argument is deprecated and will be removed in a future release of LightGBM. Pass 'log_evaluation()' callback via 'callbacks' argument instead.\n",
      "  _log_warning(\"'verbose' argument is deprecated and will be removed in a future release of LightGBM. \"\n",
      "[I 2024-10-04 12:56:31,068] Trial 14 finished with value: 1739.5833851543043 and parameters: {'num_leaves': 43, 'learning_rate': 0.20445594883090643, 'n_estimators': 383, 'max_depth': 7, 'min_child_samples': 54, 'subsample': 0.8845378676612224, 'colsample_bytree': 0.8465545807677359}. Best is trial 6 with value: 1727.5614126282492.\n",
      "/opt/conda/lib/python3.9/site-packages/lightgbm/sklearn.py:726: UserWarning: 'early_stopping_rounds' argument is deprecated and will be removed in a future release of LightGBM. Pass 'early_stopping()' callback via 'callbacks' argument instead.\n",
      "  _log_warning(\"'early_stopping_rounds' argument is deprecated and will be removed in a future release of LightGBM. \"\n",
      "/opt/conda/lib/python3.9/site-packages/lightgbm/sklearn.py:736: UserWarning: 'verbose' argument is deprecated and will be removed in a future release of LightGBM. Pass 'log_evaluation()' callback via 'callbacks' argument instead.\n",
      "  _log_warning(\"'verbose' argument is deprecated and will be removed in a future release of LightGBM. \"\n",
      "[I 2024-10-04 12:56:48,284] Trial 15 finished with value: 1736.32331329567 and parameters: {'num_leaves': 132, 'learning_rate': 0.24992363454836045, 'n_estimators': 163, 'max_depth': 13, 'min_child_samples': 27, 'subsample': 0.9182181864253112, 'colsample_bytree': 0.9980501297376123}. Best is trial 6 with value: 1727.5614126282492.\n",
      "/opt/conda/lib/python3.9/site-packages/lightgbm/sklearn.py:726: UserWarning: 'early_stopping_rounds' argument is deprecated and will be removed in a future release of LightGBM. Pass 'early_stopping()' callback via 'callbacks' argument instead.\n",
      "  _log_warning(\"'early_stopping_rounds' argument is deprecated and will be removed in a future release of LightGBM. \"\n",
      "/opt/conda/lib/python3.9/site-packages/lightgbm/sklearn.py:736: UserWarning: 'verbose' argument is deprecated and will be removed in a future release of LightGBM. Pass 'log_evaluation()' callback via 'callbacks' argument instead.\n",
      "  _log_warning(\"'verbose' argument is deprecated and will be removed in a future release of LightGBM. \"\n",
      "[I 2024-10-04 12:57:25,373] Trial 16 finished with value: 1727.8158223546106 and parameters: {'num_leaves': 67, 'learning_rate': 0.18930339704353621, 'n_estimators': 495, 'max_depth': 15, 'min_child_samples': 56, 'subsample': 0.9601752278929302, 'colsample_bytree': 0.7965358716299843}. Best is trial 6 with value: 1727.5614126282492.\n",
      "/opt/conda/lib/python3.9/site-packages/lightgbm/sklearn.py:726: UserWarning: 'early_stopping_rounds' argument is deprecated and will be removed in a future release of LightGBM. Pass 'early_stopping()' callback via 'callbacks' argument instead.\n",
      "  _log_warning(\"'early_stopping_rounds' argument is deprecated and will be removed in a future release of LightGBM. \"\n",
      "/opt/conda/lib/python3.9/site-packages/lightgbm/sklearn.py:736: UserWarning: 'verbose' argument is deprecated and will be removed in a future release of LightGBM. Pass 'log_evaluation()' callback via 'callbacks' argument instead.\n",
      "  _log_warning(\"'verbose' argument is deprecated and will be removed in a future release of LightGBM. \"\n",
      "[I 2024-10-04 12:58:06,497] Trial 17 finished with value: 1730.0099886039147 and parameters: {'num_leaves': 67, 'learning_rate': 0.2573873340679868, 'n_estimators': 490, 'max_depth': 11, 'min_child_samples': 52, 'subsample': 0.9983781068778842, 'colsample_bytree': 0.7146361216624768}. Best is trial 6 with value: 1727.5614126282492.\n",
      "/opt/conda/lib/python3.9/site-packages/lightgbm/sklearn.py:726: UserWarning: 'early_stopping_rounds' argument is deprecated and will be removed in a future release of LightGBM. Pass 'early_stopping()' callback via 'callbacks' argument instead.\n",
      "  _log_warning(\"'early_stopping_rounds' argument is deprecated and will be removed in a future release of LightGBM. \"\n",
      "/opt/conda/lib/python3.9/site-packages/lightgbm/sklearn.py:736: UserWarning: 'verbose' argument is deprecated and will be removed in a future release of LightGBM. Pass 'log_evaluation()' callback via 'callbacks' argument instead.\n",
      "  _log_warning(\"'verbose' argument is deprecated and will be removed in a future release of LightGBM. \"\n",
      "[I 2024-10-04 12:58:44,257] Trial 18 finished with value: 1736.2281801559493 and parameters: {'num_leaves': 42, 'learning_rate': 0.23055745663267263, 'n_estimators': 420, 'max_depth': 7, 'min_child_samples': 46, 'subsample': 0.507571385454279, 'colsample_bytree': 0.7817849611321817}. Best is trial 6 with value: 1727.5614126282492.\n",
      "/opt/conda/lib/python3.9/site-packages/lightgbm/sklearn.py:726: UserWarning: 'early_stopping_rounds' argument is deprecated and will be removed in a future release of LightGBM. Pass 'early_stopping()' callback via 'callbacks' argument instead.\n",
      "  _log_warning(\"'early_stopping_rounds' argument is deprecated and will be removed in a future release of LightGBM. \"\n",
      "/opt/conda/lib/python3.9/site-packages/lightgbm/sklearn.py:736: UserWarning: 'verbose' argument is deprecated and will be removed in a future release of LightGBM. Pass 'log_evaluation()' callback via 'callbacks' argument instead.\n",
      "  _log_warning(\"'verbose' argument is deprecated and will be removed in a future release of LightGBM. \"\n",
      "[I 2024-10-04 12:59:07,568] Trial 19 finished with value: 1741.0485255585113 and parameters: {'num_leaves': 44, 'learning_rate': 0.14144334846630713, 'n_estimators': 372, 'max_depth': 12, 'min_child_samples': 65, 'subsample': 0.6140834279131755, 'colsample_bytree': 0.6579040887144594}. Best is trial 6 with value: 1727.5614126282492.\n",
      "/opt/conda/lib/python3.9/site-packages/lightgbm/sklearn.py:726: UserWarning: 'early_stopping_rounds' argument is deprecated and will be removed in a future release of LightGBM. Pass 'early_stopping()' callback via 'callbacks' argument instead.\n",
      "  _log_warning(\"'early_stopping_rounds' argument is deprecated and will be removed in a future release of LightGBM. \"\n",
      "/opt/conda/lib/python3.9/site-packages/lightgbm/sklearn.py:736: UserWarning: 'verbose' argument is deprecated and will be removed in a future release of LightGBM. Pass 'log_evaluation()' callback via 'callbacks' argument instead.\n",
      "  _log_warning(\"'verbose' argument is deprecated and will be removed in a future release of LightGBM. \"\n",
      "[I 2024-10-04 12:59:37,484] Trial 20 finished with value: 1736.1702344316523 and parameters: {'num_leaves': 74, 'learning_rate': 0.16959177912922213, 'n_estimators': 472, 'max_depth': 6, 'min_child_samples': 24, 'subsample': 0.8518640247334551, 'colsample_bytree': 0.8711325957558034}. Best is trial 6 with value: 1727.5614126282492.\n",
      "/opt/conda/lib/python3.9/site-packages/lightgbm/sklearn.py:726: UserWarning: 'early_stopping_rounds' argument is deprecated and will be removed in a future release of LightGBM. Pass 'early_stopping()' callback via 'callbacks' argument instead.\n",
      "  _log_warning(\"'early_stopping_rounds' argument is deprecated and will be removed in a future release of LightGBM. \"\n",
      "/opt/conda/lib/python3.9/site-packages/lightgbm/sklearn.py:736: UserWarning: 'verbose' argument is deprecated and will be removed in a future release of LightGBM. Pass 'log_evaluation()' callback via 'callbacks' argument instead.\n",
      "  _log_warning(\"'verbose' argument is deprecated and will be removed in a future release of LightGBM. \"\n",
      "[I 2024-10-04 13:00:04,892] Trial 21 finished with value: 1736.9182834695728 and parameters: {'num_leaves': 95, 'learning_rate': 0.19370071017642213, 'n_estimators': 265, 'max_depth': 15, 'min_child_samples': 96, 'subsample': 0.9482514795139768, 'colsample_bytree': 0.9636906040430211}. Best is trial 6 with value: 1727.5614126282492.\n",
      "/opt/conda/lib/python3.9/site-packages/lightgbm/sklearn.py:726: UserWarning: 'early_stopping_rounds' argument is deprecated and will be removed in a future release of LightGBM. Pass 'early_stopping()' callback via 'callbacks' argument instead.\n",
      "  _log_warning(\"'early_stopping_rounds' argument is deprecated and will be removed in a future release of LightGBM. \"\n",
      "/opt/conda/lib/python3.9/site-packages/lightgbm/sklearn.py:736: UserWarning: 'verbose' argument is deprecated and will be removed in a future release of LightGBM. Pass 'log_evaluation()' callback via 'callbacks' argument instead.\n",
      "  _log_warning(\"'verbose' argument is deprecated and will be removed in a future release of LightGBM. \"\n",
      "[I 2024-10-04 13:00:32,489] Trial 22 finished with value: 1731.4217547659557 and parameters: {'num_leaves': 51, 'learning_rate': 0.19079475552164502, 'n_estimators': 409, 'max_depth': 14, 'min_child_samples': 69, 'subsample': 0.9456091796734416, 'colsample_bytree': 0.9113166498132681}. Best is trial 6 with value: 1727.5614126282492.\n",
      "/opt/conda/lib/python3.9/site-packages/lightgbm/sklearn.py:726: UserWarning: 'early_stopping_rounds' argument is deprecated and will be removed in a future release of LightGBM. Pass 'early_stopping()' callback via 'callbacks' argument instead.\n",
      "  _log_warning(\"'early_stopping_rounds' argument is deprecated and will be removed in a future release of LightGBM. \"\n",
      "/opt/conda/lib/python3.9/site-packages/lightgbm/sklearn.py:736: UserWarning: 'verbose' argument is deprecated and will be removed in a future release of LightGBM. Pass 'log_evaluation()' callback via 'callbacks' argument instead.\n",
      "  _log_warning(\"'verbose' argument is deprecated and will be removed in a future release of LightGBM. \"\n",
      "[I 2024-10-04 13:01:05,960] Trial 23 finished with value: 1725.4858223810206 and parameters: {'num_leaves': 69, 'learning_rate': 0.2305950374521148, 'n_estimators': 450, 'max_depth': 15, 'min_child_samples': 45, 'subsample': 0.9097417020092796, 'colsample_bytree': 0.8130077265795463}. Best is trial 23 with value: 1725.4858223810206.\n",
      "/opt/conda/lib/python3.9/site-packages/lightgbm/sklearn.py:726: UserWarning: 'early_stopping_rounds' argument is deprecated and will be removed in a future release of LightGBM. Pass 'early_stopping()' callback via 'callbacks' argument instead.\n",
      "  _log_warning(\"'early_stopping_rounds' argument is deprecated and will be removed in a future release of LightGBM. \"\n",
      "/opt/conda/lib/python3.9/site-packages/lightgbm/sklearn.py:736: UserWarning: 'verbose' argument is deprecated and will be removed in a future release of LightGBM. Pass 'log_evaluation()' callback via 'callbacks' argument instead.\n",
      "  _log_warning(\"'verbose' argument is deprecated and will be removed in a future release of LightGBM. \"\n",
      "[I 2024-10-04 13:01:30,257] Trial 24 finished with value: 1733.8726957723104 and parameters: {'num_leaves': 32, 'learning_rate': 0.2681498779921009, 'n_estimators': 461, 'max_depth': 11, 'min_child_samples': 46, 'subsample': 0.8777515892480614, 'colsample_bytree': 0.8202248334951571}. Best is trial 23 with value: 1725.4858223810206.\n",
      "/opt/conda/lib/python3.9/site-packages/lightgbm/sklearn.py:726: UserWarning: 'early_stopping_rounds' argument is deprecated and will be removed in a future release of LightGBM. Pass 'early_stopping()' callback via 'callbacks' argument instead.\n",
      "  _log_warning(\"'early_stopping_rounds' argument is deprecated and will be removed in a future release of LightGBM. \"\n",
      "/opt/conda/lib/python3.9/site-packages/lightgbm/sklearn.py:736: UserWarning: 'verbose' argument is deprecated and will be removed in a future release of LightGBM. Pass 'log_evaluation()' callback via 'callbacks' argument instead.\n",
      "  _log_warning(\"'verbose' argument is deprecated and will be removed in a future release of LightGBM. \"\n",
      "[I 2024-10-04 13:01:56,668] Trial 25 finished with value: 1721.2601319388493 and parameters: {'num_leaves': 68, 'learning_rate': 0.22658178847942764, 'n_estimators': 345, 'max_depth': 14, 'min_child_samples': 10, 'subsample': 0.9781933376173872, 'colsample_bytree': 0.7128964429523892}. Best is trial 25 with value: 1721.2601319388493.\n",
      "/opt/conda/lib/python3.9/site-packages/lightgbm/sklearn.py:726: UserWarning: 'early_stopping_rounds' argument is deprecated and will be removed in a future release of LightGBM. Pass 'early_stopping()' callback via 'callbacks' argument instead.\n",
      "  _log_warning(\"'early_stopping_rounds' argument is deprecated and will be removed in a future release of LightGBM. \"\n",
      "/opt/conda/lib/python3.9/site-packages/lightgbm/sklearn.py:736: UserWarning: 'verbose' argument is deprecated and will be removed in a future release of LightGBM. Pass 'log_evaluation()' callback via 'callbacks' argument instead.\n",
      "  _log_warning(\"'verbose' argument is deprecated and will be removed in a future release of LightGBM. \"\n",
      "[I 2024-10-04 13:02:28,981] Trial 26 finished with value: 1724.251167278592 and parameters: {'num_leaves': 92, 'learning_rate': 0.23544571357548938, 'n_estimators': 344, 'max_depth': 12, 'min_child_samples': 12, 'subsample': 0.9996930477545581, 'colsample_bytree': 0.7104618616123134}. Best is trial 25 with value: 1721.2601319388493.\n",
      "/opt/conda/lib/python3.9/site-packages/lightgbm/sklearn.py:726: UserWarning: 'early_stopping_rounds' argument is deprecated and will be removed in a future release of LightGBM. Pass 'early_stopping()' callback via 'callbacks' argument instead.\n",
      "  _log_warning(\"'early_stopping_rounds' argument is deprecated and will be removed in a future release of LightGBM. \"\n",
      "/opt/conda/lib/python3.9/site-packages/lightgbm/sklearn.py:736: UserWarning: 'verbose' argument is deprecated and will be removed in a future release of LightGBM. Pass 'log_evaluation()' callback via 'callbacks' argument instead.\n",
      "  _log_warning(\"'verbose' argument is deprecated and will be removed in a future release of LightGBM. \"\n",
      "[I 2024-10-04 13:02:59,175] Trial 27 finished with value: 1741.558266944257 and parameters: {'num_leaves': 90, 'learning_rate': 0.299871006612513, 'n_estimators': 346, 'max_depth': 14, 'min_child_samples': 10, 'subsample': 0.9908388613998756, 'colsample_bytree': 0.720804696396686}. Best is trial 25 with value: 1721.2601319388493.\n",
      "/opt/conda/lib/python3.9/site-packages/lightgbm/sklearn.py:726: UserWarning: 'early_stopping_rounds' argument is deprecated and will be removed in a future release of LightGBM. Pass 'early_stopping()' callback via 'callbacks' argument instead.\n",
      "  _log_warning(\"'early_stopping_rounds' argument is deprecated and will be removed in a future release of LightGBM. \"\n",
      "/opt/conda/lib/python3.9/site-packages/lightgbm/sklearn.py:736: UserWarning: 'verbose' argument is deprecated and will be removed in a future release of LightGBM. Pass 'log_evaluation()' callback via 'callbacks' argument instead.\n",
      "  _log_warning(\"'verbose' argument is deprecated and will be removed in a future release of LightGBM. \"\n",
      "[I 2024-10-04 13:03:28,564] Trial 28 finished with value: 1726.495138792645 and parameters: {'num_leaves': 75, 'learning_rate': 0.26863347632484286, 'n_estimators': 350, 'max_depth': 12, 'min_child_samples': 26, 'subsample': 0.8514926107954992, 'colsample_bytree': 0.6751899171323635}. Best is trial 25 with value: 1721.2601319388493.\n",
      "/opt/conda/lib/python3.9/site-packages/lightgbm/sklearn.py:726: UserWarning: 'early_stopping_rounds' argument is deprecated and will be removed in a future release of LightGBM. Pass 'early_stopping()' callback via 'callbacks' argument instead.\n",
      "  _log_warning(\"'early_stopping_rounds' argument is deprecated and will be removed in a future release of LightGBM. \"\n",
      "/opt/conda/lib/python3.9/site-packages/lightgbm/sklearn.py:736: UserWarning: 'verbose' argument is deprecated and will be removed in a future release of LightGBM. Pass 'log_evaluation()' callback via 'callbacks' argument instead.\n",
      "  _log_warning(\"'verbose' argument is deprecated and will be removed in a future release of LightGBM. \"\n",
      "[I 2024-10-04 13:03:58,862] Trial 29 finished with value: 1726.8242281192015 and parameters: {'num_leaves': 116, 'learning_rate': 0.22637101970925866, 'n_estimators': 261, 'max_depth': 14, 'min_child_samples': 22, 'subsample': 0.9279350961639473, 'colsample_bytree': 0.7339840778903366}. Best is trial 25 with value: 1721.2601319388493.\n",
      "/opt/conda/lib/python3.9/site-packages/lightgbm/sklearn.py:726: UserWarning: 'early_stopping_rounds' argument is deprecated and will be removed in a future release of LightGBM. Pass 'early_stopping()' callback via 'callbacks' argument instead.\n",
      "  _log_warning(\"'early_stopping_rounds' argument is deprecated and will be removed in a future release of LightGBM. \"\n",
      "/opt/conda/lib/python3.9/site-packages/lightgbm/sklearn.py:736: UserWarning: 'verbose' argument is deprecated and will be removed in a future release of LightGBM. Pass 'log_evaluation()' callback via 'callbacks' argument instead.\n",
      "  _log_warning(\"'verbose' argument is deprecated and will be removed in a future release of LightGBM. \"\n",
      "[I 2024-10-04 13:04:18,074] Trial 30 finished with value: 1736.4037919982059 and parameters: {'num_leaves': 91, 'learning_rate': 0.2158775762757852, 'n_estimators': 181, 'max_depth': 12, 'min_child_samples': 33, 'subsample': 0.7702865387344743, 'colsample_bytree': 0.6992575610354481}. Best is trial 25 with value: 1721.2601319388493.\n",
      "/opt/conda/lib/python3.9/site-packages/lightgbm/sklearn.py:726: UserWarning: 'early_stopping_rounds' argument is deprecated and will be removed in a future release of LightGBM. Pass 'early_stopping()' callback via 'callbacks' argument instead.\n",
      "  _log_warning(\"'early_stopping_rounds' argument is deprecated and will be removed in a future release of LightGBM. \"\n",
      "/opt/conda/lib/python3.9/site-packages/lightgbm/sklearn.py:736: UserWarning: 'verbose' argument is deprecated and will be removed in a future release of LightGBM. Pass 'log_evaluation()' callback via 'callbacks' argument instead.\n",
      "  _log_warning(\"'verbose' argument is deprecated and will be removed in a future release of LightGBM. \"\n",
      "[I 2024-10-04 13:04:47,178] Trial 31 finished with value: 1729.1151757008504 and parameters: {'num_leaves': 79, 'learning_rate': 0.2699651287942578, 'n_estimators': 347, 'max_depth': 12, 'min_child_samples': 29, 'subsample': 0.8554991734722212, 'colsample_bytree': 0.6842755398550717}. Best is trial 25 with value: 1721.2601319388493.\n",
      "/opt/conda/lib/python3.9/site-packages/lightgbm/sklearn.py:726: UserWarning: 'early_stopping_rounds' argument is deprecated and will be removed in a future release of LightGBM. Pass 'early_stopping()' callback via 'callbacks' argument instead.\n",
      "  _log_warning(\"'early_stopping_rounds' argument is deprecated and will be removed in a future release of LightGBM. \"\n",
      "/opt/conda/lib/python3.9/site-packages/lightgbm/sklearn.py:736: UserWarning: 'verbose' argument is deprecated and will be removed in a future release of LightGBM. Pass 'log_evaluation()' callback via 'callbacks' argument instead.\n",
      "  _log_warning(\"'verbose' argument is deprecated and will be removed in a future release of LightGBM. \"\n",
      "[I 2024-10-04 13:05:12,885] Trial 32 finished with value: 1722.4706918132636 and parameters: {'num_leaves': 70, 'learning_rate': 0.24899741313920903, 'n_estimators': 346, 'max_depth': 11, 'min_child_samples': 10, 'subsample': 0.8149804646659269, 'colsample_bytree': 0.6555922632605171}. Best is trial 25 with value: 1721.2601319388493.\n",
      "/opt/conda/lib/python3.9/site-packages/lightgbm/sklearn.py:726: UserWarning: 'early_stopping_rounds' argument is deprecated and will be removed in a future release of LightGBM. Pass 'early_stopping()' callback via 'callbacks' argument instead.\n",
      "  _log_warning(\"'early_stopping_rounds' argument is deprecated and will be removed in a future release of LightGBM. \"\n",
      "/opt/conda/lib/python3.9/site-packages/lightgbm/sklearn.py:736: UserWarning: 'verbose' argument is deprecated and will be removed in a future release of LightGBM. Pass 'log_evaluation()' callback via 'callbacks' argument instead.\n",
      "  _log_warning(\"'verbose' argument is deprecated and will be removed in a future release of LightGBM. \"\n",
      "[I 2024-10-04 13:05:41,765] Trial 33 finished with value: 1721.3047648960612 and parameters: {'num_leaves': 86, 'learning_rate': 0.2410171308180484, 'n_estimators': 309, 'max_depth': 10, 'min_child_samples': 10, 'subsample': 0.8091667447884224, 'colsample_bytree': 0.5977145195088296}. Best is trial 25 with value: 1721.2601319388493.\n",
      "/opt/conda/lib/python3.9/site-packages/lightgbm/sklearn.py:726: UserWarning: 'early_stopping_rounds' argument is deprecated and will be removed in a future release of LightGBM. Pass 'early_stopping()' callback via 'callbacks' argument instead.\n",
      "  _log_warning(\"'early_stopping_rounds' argument is deprecated and will be removed in a future release of LightGBM. \"\n",
      "/opt/conda/lib/python3.9/site-packages/lightgbm/sklearn.py:736: UserWarning: 'verbose' argument is deprecated and will be removed in a future release of LightGBM. Pass 'log_evaluation()' callback via 'callbacks' argument instead.\n",
      "  _log_warning(\"'verbose' argument is deprecated and will be removed in a future release of LightGBM. \"\n",
      "[I 2024-10-04 13:06:08,473] Trial 34 finished with value: 1722.812299533177 and parameters: {'num_leaves': 86, 'learning_rate': 0.24504852027371182, 'n_estimators': 307, 'max_depth': 10, 'min_child_samples': 11, 'subsample': 0.8091812379819223, 'colsample_bytree': 0.5751062631993784}. Best is trial 25 with value: 1721.2601319388493.\n",
      "/opt/conda/lib/python3.9/site-packages/lightgbm/sklearn.py:726: UserWarning: 'early_stopping_rounds' argument is deprecated and will be removed in a future release of LightGBM. Pass 'early_stopping()' callback via 'callbacks' argument instead.\n",
      "  _log_warning(\"'early_stopping_rounds' argument is deprecated and will be removed in a future release of LightGBM. \"\n",
      "/opt/conda/lib/python3.9/site-packages/lightgbm/sklearn.py:736: UserWarning: 'verbose' argument is deprecated and will be removed in a future release of LightGBM. Pass 'log_evaluation()' callback via 'callbacks' argument instead.\n",
      "  _log_warning(\"'verbose' argument is deprecated and will be removed in a future release of LightGBM. \"\n",
      "[I 2024-10-04 13:06:38,097] Trial 35 finished with value: 1727.7238412476509 and parameters: {'num_leaves': 83, 'learning_rate': 0.25056467543806615, 'n_estimators': 308, 'max_depth': 8, 'min_child_samples': 19, 'subsample': 0.6862982919026832, 'colsample_bytree': 0.5418320891030423}. Best is trial 25 with value: 1721.2601319388493.\n",
      "/opt/conda/lib/python3.9/site-packages/lightgbm/sklearn.py:726: UserWarning: 'early_stopping_rounds' argument is deprecated and will be removed in a future release of LightGBM. Pass 'early_stopping()' callback via 'callbacks' argument instead.\n",
      "  _log_warning(\"'early_stopping_rounds' argument is deprecated and will be removed in a future release of LightGBM. \"\n",
      "/opt/conda/lib/python3.9/site-packages/lightgbm/sklearn.py:736: UserWarning: 'verbose' argument is deprecated and will be removed in a future release of LightGBM. Pass 'log_evaluation()' callback via 'callbacks' argument instead.\n",
      "  _log_warning(\"'verbose' argument is deprecated and will be removed in a future release of LightGBM. \"\n",
      "[I 2024-10-04 13:07:07,573] Trial 36 finished with value: 1739.5883484067995 and parameters: {'num_leaves': 51, 'learning_rate': 0.2109825529347899, 'n_estimators': 286, 'max_depth': 10, 'min_child_samples': 10, 'subsample': 0.7821577376847603, 'colsample_bytree': 0.5769634029194993}. Best is trial 25 with value: 1721.2601319388493.\n",
      "/opt/conda/lib/python3.9/site-packages/lightgbm/sklearn.py:726: UserWarning: 'early_stopping_rounds' argument is deprecated and will be removed in a future release of LightGBM. Pass 'early_stopping()' callback via 'callbacks' argument instead.\n",
      "  _log_warning(\"'early_stopping_rounds' argument is deprecated and will be removed in a future release of LightGBM. \"\n",
      "/opt/conda/lib/python3.9/site-packages/lightgbm/sklearn.py:736: UserWarning: 'verbose' argument is deprecated and will be removed in a future release of LightGBM. Pass 'log_evaluation()' callback via 'callbacks' argument instead.\n",
      "  _log_warning(\"'verbose' argument is deprecated and will be removed in a future release of LightGBM. \"\n",
      "[I 2024-10-04 13:07:30,166] Trial 37 finished with value: 1729.9736114095158 and parameters: {'num_leaves': 99, 'learning_rate': 0.28223856039699324, 'n_estimators': 226, 'max_depth': 10, 'min_child_samples': 16, 'subsample': 0.7264495865948114, 'colsample_bytree': 0.6154315834919265}. Best is trial 25 with value: 1721.2601319388493.\n",
      "/opt/conda/lib/python3.9/site-packages/lightgbm/sklearn.py:726: UserWarning: 'early_stopping_rounds' argument is deprecated and will be removed in a future release of LightGBM. Pass 'early_stopping()' callback via 'callbacks' argument instead.\n",
      "  _log_warning(\"'early_stopping_rounds' argument is deprecated and will be removed in a future release of LightGBM. \"\n",
      "/opt/conda/lib/python3.9/site-packages/lightgbm/sklearn.py:736: UserWarning: 'verbose' argument is deprecated and will be removed in a future release of LightGBM. Pass 'log_evaluation()' callback via 'callbacks' argument instead.\n",
      "  _log_warning(\"'verbose' argument is deprecated and will be removed in a future release of LightGBM. \"\n",
      "[I 2024-10-04 13:08:18,389] Trial 38 finished with value: 1730.3917761927864 and parameters: {'num_leaves': 110, 'learning_rate': 0.05258606429642394, 'n_estimators': 388, 'max_depth': 11, 'min_child_samples': 21, 'subsample': 0.8061567489434797, 'colsample_bytree': 0.6433583992689692}. Best is trial 25 with value: 1721.2601319388493.\n",
      "/opt/conda/lib/python3.9/site-packages/lightgbm/sklearn.py:726: UserWarning: 'early_stopping_rounds' argument is deprecated and will be removed in a future release of LightGBM. Pass 'early_stopping()' callback via 'callbacks' argument instead.\n",
      "  _log_warning(\"'early_stopping_rounds' argument is deprecated and will be removed in a future release of LightGBM. \"\n",
      "/opt/conda/lib/python3.9/site-packages/lightgbm/sklearn.py:736: UserWarning: 'verbose' argument is deprecated and will be removed in a future release of LightGBM. Pass 'log_evaluation()' callback via 'callbacks' argument instead.\n",
      "  _log_warning(\"'verbose' argument is deprecated and will be removed in a future release of LightGBM. \"\n",
      "[I 2024-10-04 13:08:46,774] Trial 39 finished with value: 1726.2066078020562 and parameters: {'num_leaves': 59, 'learning_rate': 0.24621606545720048, 'n_estimators': 315, 'max_depth': 8, 'min_child_samples': 14, 'subsample': 0.6051796725177533, 'colsample_bytree': 0.5013076295926835}. Best is trial 25 with value: 1721.2601319388493.\n",
      "/opt/conda/lib/python3.9/site-packages/lightgbm/sklearn.py:726: UserWarning: 'early_stopping_rounds' argument is deprecated and will be removed in a future release of LightGBM. Pass 'early_stopping()' callback via 'callbacks' argument instead.\n",
      "  _log_warning(\"'early_stopping_rounds' argument is deprecated and will be removed in a future release of LightGBM. \"\n",
      "/opt/conda/lib/python3.9/site-packages/lightgbm/sklearn.py:736: UserWarning: 'verbose' argument is deprecated and will be removed in a future release of LightGBM. Pass 'log_evaluation()' callback via 'callbacks' argument instead.\n",
      "  _log_warning(\"'verbose' argument is deprecated and will be removed in a future release of LightGBM. \"\n",
      "[I 2024-10-04 13:09:07,069] Trial 40 finished with value: 1728.4817479466092 and parameters: {'num_leaves': 86, 'learning_rate': 0.26165271837010556, 'n_estimators': 199, 'max_depth': 11, 'min_child_samples': 10, 'subsample': 0.8215299169318823, 'colsample_bytree': 0.5853456466545216}. Best is trial 25 with value: 1721.2601319388493.\n",
      "/opt/conda/lib/python3.9/site-packages/lightgbm/sklearn.py:726: UserWarning: 'early_stopping_rounds' argument is deprecated and will be removed in a future release of LightGBM. Pass 'early_stopping()' callback via 'callbacks' argument instead.\n",
      "  _log_warning(\"'early_stopping_rounds' argument is deprecated and will be removed in a future release of LightGBM. \"\n",
      "/opt/conda/lib/python3.9/site-packages/lightgbm/sklearn.py:736: UserWarning: 'verbose' argument is deprecated and will be removed in a future release of LightGBM. Pass 'log_evaluation()' callback via 'callbacks' argument instead.\n",
      "  _log_warning(\"'verbose' argument is deprecated and will be removed in a future release of LightGBM. \"\n",
      "[I 2024-10-04 13:09:41,469] Trial 41 finished with value: 1715.7217190027736 and parameters: {'num_leaves': 78, 'learning_rate': 0.23173277851928908, 'n_estimators': 338, 'max_depth': 10, 'min_child_samples': 14, 'subsample': 0.710899643352688, 'colsample_bytree': 0.5928292270118325}. Best is trial 41 with value: 1715.7217190027736.\n",
      "/opt/conda/lib/python3.9/site-packages/lightgbm/sklearn.py:726: UserWarning: 'early_stopping_rounds' argument is deprecated and will be removed in a future release of LightGBM. Pass 'early_stopping()' callback via 'callbacks' argument instead.\n",
      "  _log_warning(\"'early_stopping_rounds' argument is deprecated and will be removed in a future release of LightGBM. \"\n",
      "/opt/conda/lib/python3.9/site-packages/lightgbm/sklearn.py:736: UserWarning: 'verbose' argument is deprecated and will be removed in a future release of LightGBM. Pass 'log_evaluation()' callback via 'callbacks' argument instead.\n",
      "  _log_warning(\"'verbose' argument is deprecated and will be removed in a future release of LightGBM. \"\n",
      "[I 2024-10-04 13:10:10,455] Trial 42 finished with value: 1727.3173396645532 and parameters: {'num_leaves': 75, 'learning_rate': 0.2402531794372388, 'n_estimators': 324, 'max_depth': 10, 'min_child_samples': 16, 'subsample': 0.678395919258955, 'colsample_bytree': 0.5874937899030375}. Best is trial 41 with value: 1715.7217190027736.\n",
      "/opt/conda/lib/python3.9/site-packages/lightgbm/sklearn.py:726: UserWarning: 'early_stopping_rounds' argument is deprecated and will be removed in a future release of LightGBM. Pass 'early_stopping()' callback via 'callbacks' argument instead.\n",
      "  _log_warning(\"'early_stopping_rounds' argument is deprecated and will be removed in a future release of LightGBM. \"\n",
      "/opt/conda/lib/python3.9/site-packages/lightgbm/sklearn.py:736: UserWarning: 'verbose' argument is deprecated and will be removed in a future release of LightGBM. Pass 'log_evaluation()' callback via 'callbacks' argument instead.\n",
      "  _log_warning(\"'verbose' argument is deprecated and will be removed in a future release of LightGBM. \"\n",
      "[I 2024-10-04 13:10:46,381] Trial 43 finished with value: 1721.1179842770086 and parameters: {'num_leaves': 86, 'learning_rate': 0.20752755474838122, 'n_estimators': 399, 'max_depth': 9, 'min_child_samples': 20, 'subsample': 0.719937724114601, 'colsample_bytree': 0.6222201650707333}. Best is trial 41 with value: 1715.7217190027736.\n",
      "/opt/conda/lib/python3.9/site-packages/lightgbm/sklearn.py:726: UserWarning: 'early_stopping_rounds' argument is deprecated and will be removed in a future release of LightGBM. Pass 'early_stopping()' callback via 'callbacks' argument instead.\n",
      "  _log_warning(\"'early_stopping_rounds' argument is deprecated and will be removed in a future release of LightGBM. \"\n",
      "/opt/conda/lib/python3.9/site-packages/lightgbm/sklearn.py:736: UserWarning: 'verbose' argument is deprecated and will be removed in a future release of LightGBM. Pass 'log_evaluation()' callback via 'callbacks' argument instead.\n",
      "  _log_warning(\"'verbose' argument is deprecated and will be removed in a future release of LightGBM. \"\n",
      "[I 2024-10-04 13:11:16,578] Trial 44 finished with value: 1723.6034065965994 and parameters: {'num_leaves': 72, 'learning_rate': 0.17580446525604548, 'n_estimators': 394, 'max_depth': 9, 'min_child_samples': 31, 'subsample': 0.712589992898768, 'colsample_bytree': 0.6182991198774751}. Best is trial 41 with value: 1715.7217190027736.\n",
      "/opt/conda/lib/python3.9/site-packages/lightgbm/sklearn.py:726: UserWarning: 'early_stopping_rounds' argument is deprecated and will be removed in a future release of LightGBM. Pass 'early_stopping()' callback via 'callbacks' argument instead.\n",
      "  _log_warning(\"'early_stopping_rounds' argument is deprecated and will be removed in a future release of LightGBM. \"\n",
      "/opt/conda/lib/python3.9/site-packages/lightgbm/sklearn.py:736: UserWarning: 'verbose' argument is deprecated and will be removed in a future release of LightGBM. Pass 'log_evaluation()' callback via 'callbacks' argument instead.\n",
      "  _log_warning(\"'verbose' argument is deprecated and will be removed in a future release of LightGBM. \"\n",
      "[I 2024-10-04 13:11:44,201] Trial 45 finished with value: 1725.6531350684536 and parameters: {'num_leaves': 62, 'learning_rate': 0.20688667280665152, 'n_estimators': 371, 'max_depth': 8, 'min_child_samples': 20, 'subsample': 0.6627078932861273, 'colsample_bytree': 0.6425960322045531}. Best is trial 41 with value: 1715.7217190027736.\n",
      "/opt/conda/lib/python3.9/site-packages/lightgbm/sklearn.py:726: UserWarning: 'early_stopping_rounds' argument is deprecated and will be removed in a future release of LightGBM. Pass 'early_stopping()' callback via 'callbacks' argument instead.\n",
      "  _log_warning(\"'early_stopping_rounds' argument is deprecated and will be removed in a future release of LightGBM. \"\n",
      "/opt/conda/lib/python3.9/site-packages/lightgbm/sklearn.py:736: UserWarning: 'verbose' argument is deprecated and will be removed in a future release of LightGBM. Pass 'log_evaluation()' callback via 'callbacks' argument instead.\n",
      "  _log_warning(\"'verbose' argument is deprecated and will be removed in a future release of LightGBM. \"\n",
      "[I 2024-10-04 13:11:59,163] Trial 46 finished with value: 2977.8311312035344 and parameters: {'num_leaves': 79, 'learning_rate': 0.012952226624711682, 'n_estimators': 68, 'max_depth': 9, 'min_child_samples': 15, 'subsample': 0.7496250759406234, 'colsample_bytree': 0.5508771275689021}. Best is trial 41 with value: 1715.7217190027736.\n",
      "/opt/conda/lib/python3.9/site-packages/lightgbm/sklearn.py:726: UserWarning: 'early_stopping_rounds' argument is deprecated and will be removed in a future release of LightGBM. Pass 'early_stopping()' callback via 'callbacks' argument instead.\n",
      "  _log_warning(\"'early_stopping_rounds' argument is deprecated and will be removed in a future release of LightGBM. \"\n",
      "/opt/conda/lib/python3.9/site-packages/lightgbm/sklearn.py:736: UserWarning: 'verbose' argument is deprecated and will be removed in a future release of LightGBM. Pass 'log_evaluation()' callback via 'callbacks' argument instead.\n",
      "  _log_warning(\"'verbose' argument is deprecated and will be removed in a future release of LightGBM. \"\n",
      "[I 2024-10-04 13:12:38,066] Trial 47 finished with value: 1729.0725591932753 and parameters: {'num_leaves': 100, 'learning_rate': 0.21974696615099787, 'n_estimators': 434, 'max_depth': 8, 'min_child_samples': 79, 'subsample': 0.6463586970271031, 'colsample_bytree': 0.600966369279807}. Best is trial 41 with value: 1715.7217190027736.\n",
      "/opt/conda/lib/python3.9/site-packages/lightgbm/sklearn.py:726: UserWarning: 'early_stopping_rounds' argument is deprecated and will be removed in a future release of LightGBM. Pass 'early_stopping()' callback via 'callbacks' argument instead.\n",
      "  _log_warning(\"'early_stopping_rounds' argument is deprecated and will be removed in a future release of LightGBM. \"\n",
      "/opt/conda/lib/python3.9/site-packages/lightgbm/sklearn.py:736: UserWarning: 'verbose' argument is deprecated and will be removed in a future release of LightGBM. Pass 'log_evaluation()' callback via 'callbacks' argument instead.\n",
      "  _log_warning(\"'verbose' argument is deprecated and will be removed in a future release of LightGBM. \"\n",
      "[I 2024-10-04 13:12:47,280] Trial 48 finished with value: 1830.1620175217447 and parameters: {'num_leaves': 111, 'learning_rate': 0.1099388042872195, 'n_estimators': 118, 'max_depth': 6, 'min_child_samples': 18, 'subsample': 0.7220347750624887, 'colsample_bytree': 0.6401529073486121}. Best is trial 41 with value: 1715.7217190027736.\n",
      "/opt/conda/lib/python3.9/site-packages/lightgbm/sklearn.py:726: UserWarning: 'early_stopping_rounds' argument is deprecated and will be removed in a future release of LightGBM. Pass 'early_stopping()' callback via 'callbacks' argument instead.\n",
      "  _log_warning(\"'early_stopping_rounds' argument is deprecated and will be removed in a future release of LightGBM. \"\n",
      "/opt/conda/lib/python3.9/site-packages/lightgbm/sklearn.py:736: UserWarning: 'verbose' argument is deprecated and will be removed in a future release of LightGBM. Pass 'log_evaluation()' callback via 'callbacks' argument instead.\n",
      "  _log_warning(\"'verbose' argument is deprecated and will be removed in a future release of LightGBM. \"\n",
      "[I 2024-10-04 13:13:04,786] Trial 49 finished with value: 1740.515293133085 and parameters: {'num_leaves': 53, 'learning_rate': 0.19929863559746736, 'n_estimators': 247, 'max_depth': 9, 'min_child_samples': 26, 'subsample': 0.777229126151381, 'colsample_bytree': 0.6675438251843798}. Best is trial 41 with value: 1715.7217190027736.\n"
     ]
    },
    {
     "name": "stdout",
     "output_type": "stream",
     "text": [
      "Лучшие параметры: {'num_leaves': 78, 'learning_rate': 0.23173277851928908, 'n_estimators': 338, 'max_depth': 10, 'min_child_samples': 14, 'subsample': 0.710899643352688, 'colsample_bytree': 0.5928292270118325}\n",
      "RMSE для LightGBM с Optuna на валидационной выборке: 1729.2706618815748\n"
     ]
    }
   ],
   "source": [
    "# Категориальные столбцы\n",
    "categorical_columns = ['gearbox', 'model', 'fuel_type', 'repaired']\n",
    "\n",
    "# Преобразование категориальных признаков в категорию\n",
    "for column in categorical_columns:\n",
    "    X_train[column] = X_train[column].astype('category')\n",
    "    X_valid[column] = X_valid[column].astype('category')\n",
    "\n",
    "# Кодирование категориальных признаков с помощью OrdinalEncoder\n",
    "encoder = OrdinalEncoder(handle_unknown='use_encoded_value', unknown_value=-1)\n",
    "\n",
    "X_train_encoded = X_train.copy()\n",
    "X_valid_encoded = X_valid.copy()\n",
    "\n",
    "X_train_encoded[categorical_columns] = encoder.fit_transform(X_train[categorical_columns])\n",
    "X_valid_encoded[categorical_columns] = encoder.transform(X_valid[categorical_columns])\n",
    "\n",
    "# Функция для оптимизации с использованием валидационной выборки\n",
    "def objective(trial):\n",
    "    # Пространство гиперпараметров для поиска\n",
    "    param = {\n",
    "        'objective': 'regression',\n",
    "        'metric': 'rmse',\n",
    "        'random_state': 42,\n",
    "        'boosting_type': 'gbdt',\n",
    "        'num_leaves': trial.suggest_int('num_leaves', 20, 150),\n",
    "        'learning_rate': trial.suggest_float('learning_rate', 0.01, 0.3),\n",
    "        'n_estimators': trial.suggest_int('n_estimators', 50, 500),\n",
    "        'max_depth': trial.suggest_int('max_depth', 3, 15),\n",
    "        'min_child_samples': trial.suggest_int('min_child_samples', 10, 100),\n",
    "        'subsample': trial.suggest_float('subsample', 0.5, 1.0),\n",
    "        'colsample_bytree': trial.suggest_float('colsample_bytree', 0.5, 1.0)\n",
    "    }\n",
    "\n",
    "    # Обучение модели LightGBM\n",
    "    model = lgb.LGBMRegressor(**param)\n",
    "    model.fit(\n",
    "        X_train_encoded, y_train,\n",
    "        eval_set=[(X_valid_encoded, y_valid)],\n",
    "        eval_metric='rmse',\n",
    "        early_stopping_rounds=100,\n",
    "        verbose=0\n",
    "    )\n",
    "\n",
    "    # Предсказание и оценка модели на валидационной выборке\n",
    "    y_pred_valid = model.predict(X_valid_encoded)\n",
    "    rmse_valid = mean_squared_error(y_valid, y_pred_valid, squared=False)\n",
    "    return rmse_valid\n",
    "\n",
    "# Создание объекта исследования Optuna\n",
    "study = optuna.create_study(direction='minimize')\n",
    "study.optimize(objective, n_trials=50)\n",
    "\n",
    "# Вывод лучших гиперпараметров\n",
    "print(f\"Лучшие параметры: {study.best_params}\")\n",
    "\n",
    "# Обучение модели с лучшими гиперпараметрами на тренировочных данных\n",
    "best_params = study.best_params\n",
    "best_model = lgb.LGBMRegressor(**best_params)\n",
    "best_model.fit(X_train_encoded, y_train)\n",
    "\n",
    "# Оценка модели с лучшими параметрами на валидационной выборке\n",
    "y_pred_valid = best_model.predict(X_valid_encoded)\n",
    "rmse_valid = mean_squared_error(y_valid, y_pred_valid, squared=False)\n",
    "print(f\"RMSE для LightGBM с Optuna на валидационной выборке: {rmse_valid}\")"
   ]
  },
  {
   "cell_type": "code",
   "execution_count": 45,
   "id": "c836a24a",
   "metadata": {},
   "outputs": [
    {
     "name": "stdout",
     "output_type": "stream",
     "text": [
      "Среднее время обучения для лучшей модели: 21.09 секунд\n",
      "Среднее время предсказания для лучшей модели: 1.91 секунд\n",
      "Время подгонки (refit) модели с лучшими параметрами: 20.90 секунд\n"
     ]
    }
   ],
   "source": [
    "# Среднее время обучения и предсказания (mean_fit_time и mean_score_time)\n",
    "best_index = random_search_lgb.best_index_  # Индекс лучшей модели\n",
    "mean_fit_time = random_search_lgb.cv_results_['mean_fit_time'][best_index]\n",
    "mean_score_time = random_search_lgb.cv_results_['mean_score_time'][best_index]\n",
    "\n",
    "print(f\"Среднее время обучения для лучшей модели: {mean_fit_time:.2f} секунд\")\n",
    "print(f\"Среднее время предсказания для лучшей модели: {mean_score_time:.2f} секунд\")\n",
    "\n",
    "# Время на финальную подгонку модели (refit_time_)\n",
    "refit_time = random_search_lgb.refit_time_\n",
    "print(f\"Время подгонки (refit) модели с лучшими параметрами: {refit_time:.2f} секунд\")"
   ]
  },
  {
   "cell_type": "markdown",
   "id": "5d46e711-0eed-44eb-a8e1-e4304f1acfe1",
   "metadata": {},
   "source": [
    "### Random Forest"
   ]
  },
  {
   "cell_type": "code",
   "execution_count": 46,
   "id": "eb0641ef-308c-4bb1-ab19-e56b26292137",
   "metadata": {},
   "outputs": [
    {
     "name": "stdout",
     "output_type": "stream",
     "text": [
      "RMSE для модели Random Forest на валидационной выборке: 1838.4487657544635\n",
      "CPU times: user 1min 2s, sys: 1.02 s, total: 1min 3s\n",
      "Wall time: 1min 4s\n"
     ]
    }
   ],
   "source": [
    "%%time\n",
    "# Кодирование категориальных признаков с помощью OrdinalEncoder с обработкой неизвестных категорий\n",
    "encoder = OrdinalEncoder(handle_unknown='use_encoded_value', unknown_value=-1)\n",
    "X_train_encoded = X_train.copy()\n",
    "X_valid_encoded = X_valid.copy()\n",
    "X_test_encoded = X_test.copy()\n",
    "\n",
    "# Кодируем данные\n",
    "X_train_encoded[categorical_columns] = encoder.fit_transform(X_train[categorical_columns])\n",
    "X_valid_encoded[categorical_columns] = encoder.transform(X_valid[categorical_columns])\n",
    "X_test_encoded[categorical_columns] = encoder.transform(X_test[categorical_columns])\n",
    "\n",
    "# Инициализация модели случайного леса с указанием random_state\n",
    "rf_model = RandomForestRegressor(random_state=42)\n",
    "\n",
    "# Обучение модели на обучающих данных\n",
    "rf_model.fit(X_train_encoded, y_train)\n",
    "\n",
    "# Предсказание на валидационной выборке\n",
    "y_pred_rf_valid = rf_model.predict(X_valid_encoded)\n",
    "\n",
    "# Оценка модели с помощью RMSE\n",
    "rmse_rf_valid = mean_squared_error(y_valid, y_pred_rf_valid, squared=False)\n",
    "print(f\"RMSE для модели Random Forest на валидационной выборке: {rmse_rf_valid}\")"
   ]
  },
  {
   "cell_type": "code",
   "execution_count": 47,
   "id": "8f323574-35e7-4c50-a2c3-5a65db10621b",
   "metadata": {
    "collapsed": true
   },
   "outputs": [
    {
     "name": "stdout",
     "output_type": "stream",
     "text": [
      "Fitting 3 folds for each of 20 candidates, totalling 60 fits\n",
      "[CV] END max_depth=20, min_samples_leaf=1, min_samples_split=5, n_estimators=50; total time=  17.0s\n",
      "[CV] END max_depth=20, min_samples_leaf=1, min_samples_split=5, n_estimators=50; total time=  17.2s\n",
      "[CV] END max_depth=20, min_samples_leaf=1, min_samples_split=5, n_estimators=50; total time=  16.8s\n",
      "[CV] END max_depth=10, min_samples_leaf=1, min_samples_split=2, n_estimators=50; total time=  10.0s\n",
      "[CV] END max_depth=10, min_samples_leaf=1, min_samples_split=2, n_estimators=50; total time=   9.8s\n",
      "[CV] END max_depth=10, min_samples_leaf=1, min_samples_split=2, n_estimators=50; total time=   9.9s\n",
      "[CV] END max_depth=10, min_samples_leaf=4, min_samples_split=5, n_estimators=100; total time=  19.8s\n",
      "[CV] END max_depth=10, min_samples_leaf=4, min_samples_split=5, n_estimators=100; total time=  19.8s\n",
      "[CV] END max_depth=10, min_samples_leaf=4, min_samples_split=5, n_estimators=100; total time=  19.6s\n",
      "[CV] END max_depth=20, min_samples_leaf=1, min_samples_split=5, n_estimators=100; total time=  33.1s\n",
      "[CV] END max_depth=20, min_samples_leaf=1, min_samples_split=5, n_estimators=100; total time=  33.5s\n",
      "[CV] END max_depth=20, min_samples_leaf=1, min_samples_split=5, n_estimators=100; total time=  33.2s\n",
      "[CV] END max_depth=10, min_samples_leaf=4, min_samples_split=2, n_estimators=50; total time=   9.9s\n",
      "[CV] END max_depth=10, min_samples_leaf=4, min_samples_split=2, n_estimators=50; total time=  10.0s\n",
      "[CV] END max_depth=10, min_samples_leaf=4, min_samples_split=2, n_estimators=50; total time=  10.1s\n",
      "[CV] END max_depth=20, min_samples_leaf=1, min_samples_split=2, n_estimators=100; total time=  35.3s\n",
      "[CV] END max_depth=20, min_samples_leaf=1, min_samples_split=2, n_estimators=100; total time=  35.1s\n",
      "[CV] END max_depth=20, min_samples_leaf=1, min_samples_split=2, n_estimators=100; total time=  34.9s\n",
      "[CV] END max_depth=10, min_samples_leaf=2, min_samples_split=2, n_estimators=100; total time=  19.8s\n",
      "[CV] END max_depth=10, min_samples_leaf=2, min_samples_split=2, n_estimators=100; total time=  20.5s\n",
      "[CV] END max_depth=10, min_samples_leaf=2, min_samples_split=2, n_estimators=100; total time=  20.0s\n",
      "[CV] END max_depth=None, min_samples_leaf=2, min_samples_split=10, n_estimators=100; total time=  33.1s\n",
      "[CV] END max_depth=None, min_samples_leaf=2, min_samples_split=10, n_estimators=100; total time=  33.1s\n",
      "[CV] END max_depth=None, min_samples_leaf=2, min_samples_split=10, n_estimators=100; total time=  33.8s\n",
      "[CV] END max_depth=10, min_samples_leaf=1, min_samples_split=5, n_estimators=100; total time=  21.2s\n",
      "[CV] END max_depth=10, min_samples_leaf=1, min_samples_split=5, n_estimators=100; total time=  21.5s\n",
      "[CV] END max_depth=10, min_samples_leaf=1, min_samples_split=5, n_estimators=100; total time=  20.4s\n",
      "[CV] END max_depth=10, min_samples_leaf=2, min_samples_split=5, n_estimators=50; total time=  10.6s\n",
      "[CV] END max_depth=10, min_samples_leaf=2, min_samples_split=5, n_estimators=50; total time=  10.8s\n",
      "[CV] END max_depth=10, min_samples_leaf=2, min_samples_split=5, n_estimators=50; total time=  10.6s\n",
      "[CV] END max_depth=20, min_samples_leaf=4, min_samples_split=5, n_estimators=100; total time=  31.7s\n",
      "[CV] END max_depth=20, min_samples_leaf=4, min_samples_split=5, n_estimators=100; total time=  31.6s\n",
      "[CV] END max_depth=20, min_samples_leaf=4, min_samples_split=5, n_estimators=100; total time=  32.4s\n",
      "[CV] END max_depth=20, min_samples_leaf=1, min_samples_split=10, n_estimators=50; total time=  16.1s\n",
      "[CV] END max_depth=20, min_samples_leaf=1, min_samples_split=10, n_estimators=50; total time=  16.6s\n",
      "[CV] END max_depth=20, min_samples_leaf=1, min_samples_split=10, n_estimators=50; total time=  16.7s\n",
      "[CV] END max_depth=None, min_samples_leaf=2, min_samples_split=5, n_estimators=100; total time=  36.2s\n",
      "[CV] END max_depth=None, min_samples_leaf=2, min_samples_split=5, n_estimators=100; total time=  36.3s\n",
      "[CV] END max_depth=None, min_samples_leaf=2, min_samples_split=5, n_estimators=100; total time=  36.6s\n",
      "[CV] END max_depth=20, min_samples_leaf=1, min_samples_split=10, n_estimators=200; total time= 1.1min\n",
      "[CV] END max_depth=20, min_samples_leaf=1, min_samples_split=10, n_estimators=200; total time= 1.0min\n",
      "[CV] END max_depth=20, min_samples_leaf=1, min_samples_split=10, n_estimators=200; total time= 1.0min\n",
      "[CV] END max_depth=None, min_samples_leaf=2, min_samples_split=5, n_estimators=200; total time= 1.2min\n",
      "[CV] END max_depth=None, min_samples_leaf=2, min_samples_split=5, n_estimators=200; total time= 1.2min\n",
      "[CV] END max_depth=None, min_samples_leaf=2, min_samples_split=5, n_estimators=200; total time= 1.2min\n",
      "[CV] END max_depth=20, min_samples_leaf=4, min_samples_split=2, n_estimators=50; total time=  15.5s\n",
      "[CV] END max_depth=20, min_samples_leaf=4, min_samples_split=2, n_estimators=50; total time=  15.2s\n",
      "[CV] END max_depth=20, min_samples_leaf=4, min_samples_split=2, n_estimators=50; total time=  15.4s\n",
      "[CV] END max_depth=None, min_samples_leaf=4, min_samples_split=2, n_estimators=100; total time=  32.4s\n",
      "[CV] END max_depth=None, min_samples_leaf=4, min_samples_split=2, n_estimators=100; total time=  32.3s\n",
      "[CV] END max_depth=None, min_samples_leaf=4, min_samples_split=2, n_estimators=100; total time=  32.3s\n",
      "[CV] END max_depth=None, min_samples_leaf=1, min_samples_split=10, n_estimators=100; total time=  34.3s\n",
      "[CV] END max_depth=None, min_samples_leaf=1, min_samples_split=10, n_estimators=100; total time=  33.9s\n",
      "[CV] END max_depth=None, min_samples_leaf=1, min_samples_split=10, n_estimators=100; total time=  34.1s\n",
      "[CV] END max_depth=None, min_samples_leaf=1, min_samples_split=2, n_estimators=100; total time=  41.4s\n",
      "[CV] END max_depth=None, min_samples_leaf=1, min_samples_split=2, n_estimators=100; total time=  40.2s\n",
      "[CV] END max_depth=None, min_samples_leaf=1, min_samples_split=2, n_estimators=100; total time=  40.7s\n",
      "[CV] END max_depth=20, min_samples_leaf=2, min_samples_split=5, n_estimators=100; total time=  31.7s\n",
      "[CV] END max_depth=20, min_samples_leaf=2, min_samples_split=5, n_estimators=100; total time=  31.6s\n",
      "[CV] END max_depth=20, min_samples_leaf=2, min_samples_split=5, n_estimators=100; total time=  31.6s\n",
      "Лучшие параметры для Random Forest (RandomizedSearchCV): {'n_estimators': 200, 'min_samples_split': 10, 'min_samples_leaf': 1, 'max_depth': 20}\n",
      "RMSE для Random Forest с RandomizedSearchCV на валидационной выборке: 1812.627444015054\n",
      "Время подгонки (refit) модели с лучшими параметрами: 95.03 секунд\n",
      "CPU times: user 30min 33s, sys: 10.6 s, total: 30min 44s\n",
      "Wall time: 30min 45s\n"
     ]
    }
   ],
   "source": [
    "%%time\n",
    "# Параметры для случайного поиска\n",
    "param_dist_rf = {\n",
    "    'n_estimators': [50, 100, 200],\n",
    "    'max_depth': [10, 20, None],\n",
    "    'min_samples_split': [2, 5, 10],\n",
    "    'min_samples_leaf': [1, 2, 4]\n",
    "}\n",
    "\n",
    "# Настройка RandomizedSearchCV\n",
    "random_search_rf = RandomizedSearchCV(estimator=RandomForestRegressor(random_state=42), \n",
    "                                      param_distributions=param_dist_rf, \n",
    "                                      n_iter=20, \n",
    "                                      cv=3, \n",
    "                                      n_jobs=-1, \n",
    "                                      verbose=2, \n",
    "                                      random_state=42)\n",
    "\n",
    "# Выполнение случайного поиска\n",
    "random_search_rf.fit(X_train_encoded, y_train)\n",
    "\n",
    "# Получение лучших параметров\n",
    "best_params_rf_random = random_search_rf.best_params_\n",
    "print(f\"Лучшие параметры для Random Forest (RandomizedSearchCV): {best_params_rf_random}\")\n",
    "\n",
    "# Оценка модели с лучшими параметрами на валидационной выборке\n",
    "y_pred_rf_random = random_search_rf.predict(X_valid_encoded)\n",
    "rmse_rf_random = mean_squared_error(y_valid, y_pred_rf_random, squared=False)\n",
    "print(f\"RMSE для Random Forest с RandomizedSearchCV на валидационной выборке: {rmse_rf_random}\")\n",
    "\n",
    "# Время подгонки (refit) модели с лучшими параметрами\n",
    "refit_time_rf = random_search_rf.refit_time_\n",
    "print(f\"Время подгонки (refit) модели с лучшими параметрами: {refit_time_rf:.2f} секунд\")"
   ]
  },
  {
   "cell_type": "markdown",
   "id": "cb8267ea-daab-44dc-9bf6-b79bdbbf0a43",
   "metadata": {},
   "source": [
    "- Лучшие параметры для Random Forest (RandomizedSearchCV): {'n_estimators': 200, 'min_samples_split': 10, 'min_samples_leaf': 1, 'max_depth': 20}\n",
    "- RMSE для Random Forest с RandomizedSearchCV на валидационной выборке: 1812.627444015054\n",
    "- Время подгонки (refit) модели с лучшими параметрами: 95.12 секунд"
   ]
  },
  {
   "cell_type": "code",
   "execution_count": 48,
   "id": "fc59bd15-d0a8-4790-9a4a-d92aec831842",
   "metadata": {},
   "outputs": [
    {
     "name": "stdout",
     "output_type": "stream",
     "text": [
      "Среднее время обучения для Random Forest: 60.39 секунд\n",
      "Среднее время предсказания для Random Forest: 2.74 секунд\n",
      "Время подгонки (refit) модели с лучшими параметрами: 95.03 секунд\n"
     ]
    }
   ],
   "source": [
    "# Извлекаем индекс лучшей модели\n",
    "best_index_rf = random_search_rf.best_index_\n",
    "\n",
    "# Извлекаем среднее время обучения и предсказания для лучшей модели\n",
    "mean_fit_time_rf = random_search_rf.cv_results_['mean_fit_time'][best_index_rf]\n",
    "mean_score_time_rf = random_search_rf.cv_results_['mean_score_time'][best_index_rf]\n",
    "\n",
    "print(f\"Среднее время обучения для Random Forest: {mean_fit_time_rf:.2f} секунд\")\n",
    "print(f\"Среднее время предсказания для Random Forest: {mean_score_time_rf:.2f} секунд\")\n",
    "\n",
    "# Время на финальную подгонку модели (refit_time_)\n",
    "refit_time = random_search_rf.refit_time_\n",
    "print(f\"Время подгонки (refit) модели с лучшими параметрами: {refit_time:.2f} секунд\")"
   ]
  },
  {
   "cell_type": "code",
   "execution_count": 49,
   "id": "de438f7f-7bbe-412d-930e-7d71cb99adee",
   "metadata": {},
   "outputs": [
    {
     "name": "stdout",
     "output_type": "stream",
     "text": [
      "RMSE для LightGBM с гиперпараметрами, найденными через RandomizedSearchCV, на тестовой выборке: 1767.4203596159186\n",
      "CPU times: user 22 s, sys: 218 ms, total: 22.2 s\n",
      "Wall time: 22.3 s\n"
     ]
    }
   ],
   "source": [
    "%%time\n",
    "# Используем модель LightGBM с лучшими гиперпараметрами, найденными через RandomizedSearchCV\n",
    "best_lgb_model = lgb.LGBMRegressor(**random_search_lgb.best_params_, random_state=42)\n",
    "\n",
    "# Обучение модели на обучающих данных\n",
    "best_lgb_model.fit(X_train_encoded, y_train)\n",
    "\n",
    "# Предсказание на тестовых данных\n",
    "y_pred_best_lgb = best_lgb_model.predict(X_test_encoded)\n",
    "\n",
    "# Оценка модели с помощью RMSE на тестовой выборке\n",
    "rmse_best_lgb = mean_squared_error(y_test, y_pred_best_lgb, squared=False)\n",
    "print(f\"RMSE для LightGBM с гиперпараметрами, найденными через RandomizedSearchCV, на тестовой выборке: {rmse_best_lgb}\")"
   ]
  },
  {
   "cell_type": "markdown",
   "id": "ee295af0-43e8-4d45-9153-879e683d85fb",
   "metadata": {},
   "source": [
    "# Итог проекта\n",
    "\n",
    "Мы обучили модели для предсказания рыночной стоимости автомобилей на основе различных характеристик. Все критерии, указанные заказчиком — **качество предсказания**, **время обучения** и **время предсказания**, — были учтены.\n",
    "\n",
    "## 1. Подготовка данных:\n",
    "- Данные были очищены от пропусков и аномалий, а неинформативные признаки удалены. Для категориальных признаков использовалась техника кодирования OrdinalEncoder.\n",
    "\n",
    "## 2. Обучение и оптимизация моделей:\n",
    "\n",
    "### LightGBM:\n",
    "1. **Без подбора гиперпараметров:**\n",
    "   - **RMSE:** 1754.26\n",
    "   - **Время обучения:** 6.2 секунд\n",
    "   - **Время предсказания:** 0.5 секунд\n",
    "\n",
    "2. **С подбором гиперпараметров через GridSearchCV:**\n",
    "   - **Лучшие параметры:** `{'learning_rate': 0.1, 'max_depth': 20, 'n_estimators': 200, 'num_leaves': 100}`\n",
    "   - **RMSE:** 1699.48\n",
    "   - **Время обучения:** 38 минут\n",
    "   - **Время предсказания:** 0.5 секунд\n",
    "\n",
    "3. **С подбором гиперпараметров через RandomizedSearchCV:**\n",
    "   - **Лучшие параметры:** `{'num_leaves': 100, 'n_estimators': 200, 'max_depth': -1, 'learning_rate': 0.05}`\n",
    "   - **RMSE:** 1709.53\n",
    "   - **Время обучения:** 8 минут\n",
    "   - **Время предсказания:** 0.5 секунд\n",
    "   \n",
    "   \n",
    "4. **С подбором гиперпараметров через Optuna:**\n",
    "   - **Лучшие параметры:** `{'num_leaves': 144, 'learning_rate': 0.106, 'n_estimators': 485, 'max_depth': 11, 'min_child_samples': 12, 'subsample': 0.725, 'colsample_bytree': 0.502}`\n",
    "   - **RMSE на валидационной выборке:** 1714.56\n",
    "   - **Время обучения:** ~18 минут\n",
    "\n",
    "### Random Forest:\n",
    "1. **Без подбора гиперпараметров:**\n",
    "   - **RMSE:** 1838.45\n",
    "   - **Время обучения:** 1 минута 4 секунды\n",
    "   - **Время предсказания:** 1.1 секунды\n",
    "\n",
    "2. **С подбором гиперпараметров через RandomizedSearchCV:**\n",
    "   - **Лучшие параметры:** `{'n_estimators': 200, 'min_samples_split': 10, 'min_samples_leaf': 1, 'max_depth': 20}`\n",
    "   - **RMSE:** 1812.63\n",
    "   - **Время обучения:** 95.12 секунд (время подгонки модели)\n",
    "   - **Время предсказания:** 1.1 секунды\n",
    "\n",
    "\n",
    "## 3. Рекомендации:\n",
    "- Модель **LightGBM** с подобранными гиперпараметрами через **GridSearchCV** показала лучший результат (RMSE = **1699.48**) и демонстрирует высокую производительность.\n",
    "- **RandomizedSearchCV** значительно сократил время обучения, но результат RMSE оказался немного хуже.\n",
    "- Модель **Random Forest** показала более высокие значения RMSE и дольше обучалась по сравнению с LightGBM, что делает её менее подходящей для задачи.\n",
    "- **Optuna** дала результаты сравнимые с RandomizedSearchCV, но её время обучения также было значительным.\n",
    "\n",
    "## Заключение:\n",
    "- Модель **LightGBM** с подбором гиперпараметров через GridSearchCV остается самой точной, однако время обучения велико.\n",
    "- Для компромисса между временем и точностью можно использовать модель LightGBM с RandomizedSearchCV или Optuna, так как они показали близкие результаты, но обучались быстрее.\n"
   ]
  }
 ],
 "metadata": {
  "ExecuteTimeLog": [
   {
    "duration": 56,
    "start_time": "2024-10-03T18:26:45.676Z"
   },
   {
    "duration": 3128,
    "start_time": "2024-10-03T18:27:18.110Z"
   },
   {
    "duration": 2669,
    "start_time": "2024-10-03T18:27:21.241Z"
   },
   {
    "duration": 1728,
    "start_time": "2024-10-03T18:27:23.913Z"
   },
   {
    "duration": 3149,
    "start_time": "2024-10-03T18:27:25.643Z"
   },
   {
    "duration": 18,
    "start_time": "2024-10-03T18:27:28.794Z"
   },
   {
    "duration": 29,
    "start_time": "2024-10-03T18:27:28.813Z"
   },
   {
    "duration": 1756,
    "start_time": "2024-10-03T18:27:28.844Z"
   },
   {
    "duration": 649,
    "start_time": "2024-10-03T18:27:30.602Z"
   },
   {
    "duration": 12,
    "start_time": "2024-10-03T18:27:31.255Z"
   },
   {
    "duration": 323,
    "start_time": "2024-10-03T18:27:31.270Z"
   },
   {
    "duration": 157,
    "start_time": "2024-10-03T18:27:31.595Z"
   },
   {
    "duration": 45,
    "start_time": "2024-10-03T18:27:31.755Z"
   },
   {
    "duration": 20,
    "start_time": "2024-10-03T18:27:31.801Z"
   },
   {
    "duration": 3962,
    "start_time": "2024-10-03T18:27:31.826Z"
   },
   {
    "duration": 18,
    "start_time": "2024-10-03T18:27:35.790Z"
   },
   {
    "duration": 107,
    "start_time": "2024-10-03T18:27:35.810Z"
   },
   {
    "duration": 23,
    "start_time": "2024-10-03T18:27:35.918Z"
   },
   {
    "duration": 64,
    "start_time": "2024-10-03T18:27:35.943Z"
   },
   {
    "duration": 1287,
    "start_time": "2024-10-03T18:27:36.009Z"
   },
   {
    "duration": 3678,
    "start_time": "2024-10-03T18:27:37.298Z"
   },
   {
    "duration": 61,
    "start_time": "2024-10-03T18:27:40.979Z"
   },
   {
    "duration": 58,
    "start_time": "2024-10-03T18:27:41.041Z"
   },
   {
    "duration": 3978,
    "start_time": "2024-10-03T18:27:41.101Z"
   },
   {
    "duration": 35,
    "start_time": "2024-10-03T18:27:45.081Z"
   },
   {
    "duration": 80,
    "start_time": "2024-10-03T18:27:45.117Z"
   },
   {
    "duration": 8,
    "start_time": "2024-10-03T18:27:45.199Z"
   },
   {
    "duration": 63,
    "start_time": "2024-10-03T18:27:45.209Z"
   },
   {
    "duration": 253,
    "start_time": "2024-10-03T18:27:45.274Z"
   },
   {
    "duration": 3395,
    "start_time": "2024-10-03T18:27:45.529Z"
   },
   {
    "duration": 133,
    "start_time": "2024-10-03T18:27:48.926Z"
   },
   {
    "duration": 376,
    "start_time": "2024-10-03T18:27:49.061Z"
   },
   {
    "duration": 257,
    "start_time": "2024-10-03T18:27:49.439Z"
   },
   {
    "duration": 28,
    "start_time": "2024-10-03T18:27:49.698Z"
   },
   {
    "duration": 221,
    "start_time": "2024-10-03T18:27:49.727Z"
   },
   {
    "duration": 369727,
    "start_time": "2024-10-03T18:27:49.950Z"
   },
   {
    "duration": 2724,
    "start_time": "2024-10-03T18:47:22.046Z"
   },
   {
    "duration": 2623,
    "start_time": "2024-10-03T18:47:24.772Z"
   },
   {
    "duration": 3596,
    "start_time": "2024-10-03T18:47:27.397Z"
   },
   {
    "duration": 1744,
    "start_time": "2024-10-03T18:47:30.995Z"
   },
   {
    "duration": 1072,
    "start_time": "2024-10-03T18:47:32.742Z"
   },
   {
    "duration": 16,
    "start_time": "2024-10-03T18:47:33.816Z"
   },
   {
    "duration": 24,
    "start_time": "2024-10-03T18:47:33.834Z"
   },
   {
    "duration": 1686,
    "start_time": "2024-10-03T18:47:33.866Z"
   },
   {
    "duration": 572,
    "start_time": "2024-10-03T18:47:35.557Z"
   },
   {
    "duration": 5,
    "start_time": "2024-10-03T18:47:36.131Z"
   },
   {
    "duration": 358,
    "start_time": "2024-10-03T18:47:36.138Z"
   },
   {
    "duration": 126,
    "start_time": "2024-10-03T18:47:36.498Z"
   },
   {
    "duration": 114,
    "start_time": "2024-10-03T18:47:36.626Z"
   },
   {
    "duration": 5,
    "start_time": "2024-10-03T18:47:36.743Z"
   },
   {
    "duration": 3783,
    "start_time": "2024-10-03T18:47:36.749Z"
   },
   {
    "duration": 25,
    "start_time": "2024-10-03T18:47:40.534Z"
   },
   {
    "duration": 119,
    "start_time": "2024-10-03T18:47:40.561Z"
   },
   {
    "duration": 19,
    "start_time": "2024-10-03T18:47:40.682Z"
   },
   {
    "duration": 39,
    "start_time": "2024-10-03T18:47:40.703Z"
   },
   {
    "duration": 1214,
    "start_time": "2024-10-03T18:47:40.756Z"
   },
   {
    "duration": 3485,
    "start_time": "2024-10-03T18:47:41.972Z"
   },
   {
    "duration": 50,
    "start_time": "2024-10-03T18:47:45.464Z"
   },
   {
    "duration": 43,
    "start_time": "2024-10-03T18:47:45.516Z"
   },
   {
    "duration": 3696,
    "start_time": "2024-10-03T18:47:45.569Z"
   },
   {
    "duration": 47,
    "start_time": "2024-10-03T18:47:49.274Z"
   },
   {
    "duration": 57,
    "start_time": "2024-10-03T18:47:49.323Z"
   },
   {
    "duration": 9,
    "start_time": "2024-10-03T18:47:49.383Z"
   },
   {
    "duration": 49,
    "start_time": "2024-10-03T18:47:49.394Z"
   },
   {
    "duration": 371,
    "start_time": "2024-10-03T18:47:49.445Z"
   },
   {
    "duration": 3257,
    "start_time": "2024-10-03T18:47:49.817Z"
   },
   {
    "duration": 130,
    "start_time": "2024-10-03T18:47:53.076Z"
   },
   {
    "duration": 286,
    "start_time": "2024-10-03T18:47:53.218Z"
   },
   {
    "duration": 265,
    "start_time": "2024-10-03T18:47:53.506Z"
   },
   {
    "duration": 24,
    "start_time": "2024-10-03T18:47:53.773Z"
   },
   {
    "duration": 223,
    "start_time": "2024-10-03T18:47:53.799Z"
   },
   {
    "duration": 231533,
    "start_time": "2024-10-03T18:47:54.024Z"
   },
   {
    "duration": 1406102,
    "start_time": "2024-10-03T18:51:45.559Z"
   },
   {
    "duration": 875,
    "start_time": "2024-10-03T19:15:11.663Z"
   },
   {
    "duration": 37804,
    "start_time": "2024-10-03T19:15:12.540Z"
   },
   {
    "duration": 72,
    "start_time": "2024-10-03T19:15:50.346Z"
   },
   {
    "duration": 82376,
    "start_time": "2024-10-03T19:15:50.422Z"
   },
   {
    "duration": 0,
    "start_time": "2024-10-03T19:17:16.892Z"
   },
   {
    "duration": 0,
    "start_time": "2024-10-03T19:17:16.897Z"
   },
   {
    "duration": 4074,
    "start_time": "2024-10-03T19:17:29.233Z"
   },
   {
    "duration": 5350,
    "start_time": "2024-10-03T19:18:00.362Z"
   },
   {
    "duration": 126,
    "start_time": "2024-10-03T19:23:23.489Z"
   },
   {
    "duration": 71,
    "start_time": "2024-10-03T19:24:43.149Z"
   },
   {
    "duration": 757,
    "start_time": "2024-10-03T19:24:54.941Z"
   },
   {
    "duration": 686,
    "start_time": "2024-10-03T19:27:38.385Z"
   },
   {
    "duration": 22,
    "start_time": "2024-10-03T20:52:55.519Z"
   },
   {
    "duration": 306,
    "start_time": "2024-10-03T20:55:49.078Z"
   },
   {
    "duration": 56,
    "start_time": "2024-10-03T20:56:02.560Z"
   },
   {
    "duration": 5,
    "start_time": "2024-10-03T20:56:24.360Z"
   },
   {
    "duration": 1586,
    "start_time": "2024-10-03T20:56:33.883Z"
   },
   {
    "duration": 79,
    "start_time": "2024-10-03T21:22:25.024Z"
   },
   {
    "duration": 874,
    "start_time": "2024-10-03T21:25:31.131Z"
   },
   {
    "duration": 1230,
    "start_time": "2024-10-03T21:27:11.042Z"
   },
   {
    "duration": 59,
    "start_time": "2024-10-03T21:30:30.365Z"
   },
   {
    "duration": 2687,
    "start_time": "2024-10-03T21:31:38.581Z"
   },
   {
    "duration": 2603,
    "start_time": "2024-10-03T21:31:41.271Z"
   },
   {
    "duration": 2595,
    "start_time": "2024-10-03T21:31:43.877Z"
   },
   {
    "duration": 1853,
    "start_time": "2024-10-03T21:31:46.475Z"
   },
   {
    "duration": 1266,
    "start_time": "2024-10-03T21:31:48.330Z"
   },
   {
    "duration": 20,
    "start_time": "2024-10-03T21:31:49.598Z"
   },
   {
    "duration": 7,
    "start_time": "2024-10-03T21:32:03.147Z"
   },
   {
    "duration": 1061,
    "start_time": "2024-10-03T21:32:04.032Z"
   },
   {
    "duration": 394,
    "start_time": "2024-10-03T21:32:10.473Z"
   },
   {
    "duration": 5,
    "start_time": "2024-10-03T21:32:13.463Z"
   },
   {
    "duration": 281,
    "start_time": "2024-10-03T21:32:15.308Z"
   },
   {
    "duration": 119,
    "start_time": "2024-10-03T21:32:18.639Z"
   },
   {
    "duration": 32,
    "start_time": "2024-10-03T21:32:22.457Z"
   },
   {
    "duration": 4,
    "start_time": "2024-10-03T21:32:24.094Z"
   },
   {
    "duration": 3369,
    "start_time": "2024-10-03T21:32:25.280Z"
   },
   {
    "duration": 19,
    "start_time": "2024-10-03T21:32:33.665Z"
   },
   {
    "duration": 19,
    "start_time": "2024-10-03T21:34:42.208Z"
   },
   {
    "duration": 54,
    "start_time": "2024-10-03T21:34:44.946Z"
   },
   {
    "duration": 18,
    "start_time": "2024-10-03T21:34:46.512Z"
   },
   {
    "duration": 32,
    "start_time": "2024-10-03T21:34:47.358Z"
   },
   {
    "duration": 1149,
    "start_time": "2024-10-03T21:34:48.211Z"
   },
   {
    "duration": 3329,
    "start_time": "2024-10-03T21:34:50.602Z"
   },
   {
    "duration": 62,
    "start_time": "2024-10-03T21:34:57.649Z"
   },
   {
    "duration": 35,
    "start_time": "2024-10-03T21:34:59.245Z"
   },
   {
    "duration": 3590,
    "start_time": "2024-10-03T21:34:59.400Z"
   },
   {
    "duration": 34,
    "start_time": "2024-10-03T21:35:02.992Z"
   },
   {
    "duration": 62,
    "start_time": "2024-10-03T21:35:03.028Z"
   },
   {
    "duration": 7,
    "start_time": "2024-10-03T21:35:03.092Z"
   },
   {
    "duration": 41,
    "start_time": "2024-10-03T21:35:04.482Z"
   },
   {
    "duration": 251,
    "start_time": "2024-10-03T21:35:06.950Z"
   },
   {
    "duration": 3150,
    "start_time": "2024-10-03T21:35:07.368Z"
   },
   {
    "duration": 116,
    "start_time": "2024-10-03T21:35:10.521Z"
   },
   {
    "duration": 255,
    "start_time": "2024-10-03T21:35:10.639Z"
   },
   {
    "duration": 239,
    "start_time": "2024-10-03T21:35:11.368Z"
   },
   {
    "duration": 27,
    "start_time": "2024-10-03T21:35:13.029Z"
   },
   {
    "duration": 142,
    "start_time": "2024-10-03T21:35:17.408Z"
   },
   {
    "duration": 2660,
    "start_time": "2024-10-03T21:39:52.216Z"
   },
   {
    "duration": 20,
    "start_time": "2024-10-03T21:40:06.779Z"
   },
   {
    "duration": 2593,
    "start_time": "2024-10-03T21:40:18.458Z"
   },
   {
    "duration": 2678,
    "start_time": "2024-10-03T21:40:21.053Z"
   },
   {
    "duration": 2576,
    "start_time": "2024-10-03T21:40:23.733Z"
   },
   {
    "duration": 1791,
    "start_time": "2024-10-03T21:40:26.311Z"
   },
   {
    "duration": 1256,
    "start_time": "2024-10-03T21:40:28.105Z"
   },
   {
    "duration": 19,
    "start_time": "2024-10-03T21:40:29.362Z"
   },
   {
    "duration": 11,
    "start_time": "2024-10-03T21:40:29.383Z"
   },
   {
    "duration": 1099,
    "start_time": "2024-10-03T21:40:29.396Z"
   },
   {
    "duration": 392,
    "start_time": "2024-10-03T21:40:30.497Z"
   },
   {
    "duration": 5,
    "start_time": "2024-10-03T21:40:30.891Z"
   },
   {
    "duration": 316,
    "start_time": "2024-10-03T21:40:30.898Z"
   },
   {
    "duration": 141,
    "start_time": "2024-10-03T21:40:31.216Z"
   },
   {
    "duration": 35,
    "start_time": "2024-10-03T21:40:31.359Z"
   },
   {
    "duration": 10,
    "start_time": "2024-10-03T21:40:31.398Z"
   },
   {
    "duration": 3292,
    "start_time": "2024-10-03T21:40:31.410Z"
   },
   {
    "duration": 17,
    "start_time": "2024-10-03T21:40:34.704Z"
   },
   {
    "duration": 70,
    "start_time": "2024-10-03T21:40:34.723Z"
   },
   {
    "duration": 17,
    "start_time": "2024-10-03T21:40:34.795Z"
   },
   {
    "duration": 53,
    "start_time": "2024-10-03T21:40:34.813Z"
   },
   {
    "duration": 1144,
    "start_time": "2024-10-03T21:40:34.868Z"
   },
   {
    "duration": 3293,
    "start_time": "2024-10-03T21:40:36.014Z"
   },
   {
    "duration": 53,
    "start_time": "2024-10-03T21:40:39.309Z"
   },
   {
    "duration": 31,
    "start_time": "2024-10-03T21:40:39.364Z"
   },
   {
    "duration": 3508,
    "start_time": "2024-10-03T21:40:39.397Z"
   },
   {
    "duration": 35,
    "start_time": "2024-10-03T21:40:42.906Z"
   },
   {
    "duration": 35,
    "start_time": "2024-10-03T21:40:42.955Z"
   },
   {
    "duration": 7,
    "start_time": "2024-10-03T21:40:42.992Z"
   },
   {
    "duration": 30,
    "start_time": "2024-10-03T21:40:43.000Z"
   },
   {
    "duration": 289,
    "start_time": "2024-10-03T21:40:43.032Z"
   },
   {
    "duration": 3163,
    "start_time": "2024-10-03T21:40:43.322Z"
   },
   {
    "duration": 132,
    "start_time": "2024-10-03T21:40:46.487Z"
   },
   {
    "duration": 254,
    "start_time": "2024-10-03T21:40:46.621Z"
   },
   {
    "duration": 242,
    "start_time": "2024-10-03T21:40:46.877Z"
   },
   {
    "duration": 36,
    "start_time": "2024-10-03T21:40:47.121Z"
   },
   {
    "duration": 158,
    "start_time": "2024-10-03T21:40:47.159Z"
   },
   {
    "duration": 0,
    "start_time": "2024-10-03T21:40:47.319Z"
   },
   {
    "duration": 1,
    "start_time": "2024-10-03T21:40:47.320Z"
   },
   {
    "duration": 0,
    "start_time": "2024-10-03T21:40:47.322Z"
   },
   {
    "duration": 0,
    "start_time": "2024-10-03T21:40:47.323Z"
   },
   {
    "duration": 0,
    "start_time": "2024-10-03T21:40:47.325Z"
   },
   {
    "duration": 0,
    "start_time": "2024-10-03T21:40:47.326Z"
   },
   {
    "duration": 0,
    "start_time": "2024-10-03T21:40:47.327Z"
   },
   {
    "duration": 0,
    "start_time": "2024-10-03T21:40:47.329Z"
   },
   {
    "duration": 0,
    "start_time": "2024-10-03T21:40:47.331Z"
   },
   {
    "duration": 2597,
    "start_time": "2024-10-03T21:41:46.483Z"
   },
   {
    "duration": 2563,
    "start_time": "2024-10-03T21:42:04.707Z"
   },
   {
    "duration": 21,
    "start_time": "2024-10-03T21:42:20.014Z"
   },
   {
    "duration": 14,
    "start_time": "2024-10-03T21:45:02.091Z"
   },
   {
    "duration": 6284,
    "start_time": "2024-10-03T21:47:05.172Z"
   },
   {
    "duration": 860,
    "start_time": "2024-10-03T21:47:31.520Z"
   },
   {
    "duration": 706,
    "start_time": "2024-10-03T21:48:25.630Z"
   },
   {
    "duration": 2567,
    "start_time": "2024-10-03T21:49:28.474Z"
   },
   {
    "duration": 2602,
    "start_time": "2024-10-03T21:49:31.043Z"
   },
   {
    "duration": 2579,
    "start_time": "2024-10-03T21:49:33.647Z"
   },
   {
    "duration": 1886,
    "start_time": "2024-10-03T21:49:36.229Z"
   },
   {
    "duration": 1298,
    "start_time": "2024-10-03T21:49:38.118Z"
   },
   {
    "duration": 19,
    "start_time": "2024-10-03T21:49:39.418Z"
   },
   {
    "duration": 18,
    "start_time": "2024-10-03T21:49:39.438Z"
   },
   {
    "duration": 1125,
    "start_time": "2024-10-03T21:49:39.457Z"
   },
   {
    "duration": 394,
    "start_time": "2024-10-03T21:49:40.584Z"
   },
   {
    "duration": 5,
    "start_time": "2024-10-03T21:49:40.980Z"
   },
   {
    "duration": 304,
    "start_time": "2024-10-03T21:49:40.987Z"
   },
   {
    "duration": 131,
    "start_time": "2024-10-03T21:49:41.292Z"
   },
   {
    "duration": 43,
    "start_time": "2024-10-03T21:49:41.425Z"
   },
   {
    "duration": 4,
    "start_time": "2024-10-03T21:49:41.472Z"
   },
   {
    "duration": 3345,
    "start_time": "2024-10-03T21:49:41.478Z"
   },
   {
    "duration": 18,
    "start_time": "2024-10-03T21:49:44.825Z"
   },
   {
    "duration": 53,
    "start_time": "2024-10-03T21:49:44.855Z"
   },
   {
    "duration": 18,
    "start_time": "2024-10-03T21:49:44.910Z"
   },
   {
    "duration": 52,
    "start_time": "2024-10-03T21:49:44.930Z"
   },
   {
    "duration": 1132,
    "start_time": "2024-10-03T21:49:44.984Z"
   },
   {
    "duration": 3353,
    "start_time": "2024-10-03T21:49:46.119Z"
   },
   {
    "duration": 47,
    "start_time": "2024-10-03T21:49:49.474Z"
   },
   {
    "duration": 47,
    "start_time": "2024-10-03T21:49:49.523Z"
   },
   {
    "duration": 3509,
    "start_time": "2024-10-03T21:49:49.571Z"
   },
   {
    "duration": 35,
    "start_time": "2024-10-03T21:49:53.081Z"
   },
   {
    "duration": 54,
    "start_time": "2024-10-03T21:49:53.118Z"
   },
   {
    "duration": 21,
    "start_time": "2024-10-03T21:49:53.174Z"
   },
   {
    "duration": 64,
    "start_time": "2024-10-03T21:49:53.198Z"
   },
   {
    "duration": 264,
    "start_time": "2024-10-03T21:49:53.264Z"
   },
   {
    "duration": 3008,
    "start_time": "2024-10-03T21:49:53.530Z"
   },
   {
    "duration": 119,
    "start_time": "2024-10-03T21:49:56.539Z"
   },
   {
    "duration": 272,
    "start_time": "2024-10-03T21:49:56.660Z"
   },
   {
    "duration": 242,
    "start_time": "2024-10-03T21:49:56.934Z"
   },
   {
    "duration": 30,
    "start_time": "2024-10-03T21:49:57.178Z"
   },
   {
    "duration": 6247,
    "start_time": "2024-10-03T21:49:57.209Z"
   },
   {
    "duration": 808,
    "start_time": "2024-10-03T21:50:03.458Z"
   },
   {
    "duration": 1494,
    "start_time": "2024-10-03T21:50:04.268Z"
   },
   {
    "duration": 245,
    "start_time": "2024-10-03T21:50:05.765Z"
   },
   {
    "duration": 0,
    "start_time": "2024-10-03T21:50:06.012Z"
   },
   {
    "duration": 0,
    "start_time": "2024-10-03T21:50:06.013Z"
   },
   {
    "duration": 0,
    "start_time": "2024-10-03T21:50:06.014Z"
   },
   {
    "duration": 0,
    "start_time": "2024-10-03T21:50:06.016Z"
   },
   {
    "duration": 0,
    "start_time": "2024-10-03T21:50:06.017Z"
   },
   {
    "duration": 0,
    "start_time": "2024-10-03T21:50:06.018Z"
   },
   {
    "duration": 0,
    "start_time": "2024-10-03T21:50:06.019Z"
   },
   {
    "duration": 0,
    "start_time": "2024-10-03T21:50:06.020Z"
   },
   {
    "duration": 19,
    "start_time": "2024-10-03T21:51:55.653Z"
   },
   {
    "duration": 1005,
    "start_time": "2024-10-03T21:52:03.865Z"
   },
   {
    "duration": 977,
    "start_time": "2024-10-03T22:14:04.063Z"
   },
   {
    "duration": 1002,
    "start_time": "2024-10-03T22:18:46.024Z"
   },
   {
    "duration": 2607,
    "start_time": "2024-10-03T22:19:21.644Z"
   },
   {
    "duration": 2525,
    "start_time": "2024-10-03T22:19:24.253Z"
   },
   {
    "duration": 2603,
    "start_time": "2024-10-03T22:19:26.780Z"
   },
   {
    "duration": 1814,
    "start_time": "2024-10-03T22:19:29.386Z"
   },
   {
    "duration": 1306,
    "start_time": "2024-10-03T22:19:31.202Z"
   },
   {
    "duration": 21,
    "start_time": "2024-10-03T22:19:32.510Z"
   },
   {
    "duration": 23,
    "start_time": "2024-10-03T22:19:32.533Z"
   },
   {
    "duration": 1121,
    "start_time": "2024-10-03T22:19:32.557Z"
   },
   {
    "duration": 379,
    "start_time": "2024-10-03T22:19:33.680Z"
   },
   {
    "duration": 5,
    "start_time": "2024-10-03T22:19:34.061Z"
   },
   {
    "duration": 289,
    "start_time": "2024-10-03T22:19:34.067Z"
   },
   {
    "duration": 140,
    "start_time": "2024-10-03T22:19:34.358Z"
   },
   {
    "duration": 56,
    "start_time": "2024-10-03T22:19:34.501Z"
   },
   {
    "duration": 5,
    "start_time": "2024-10-03T22:19:34.560Z"
   },
   {
    "duration": 3301,
    "start_time": "2024-10-03T22:19:34.568Z"
   },
   {
    "duration": 19,
    "start_time": "2024-10-03T22:19:37.871Z"
   },
   {
    "duration": 81,
    "start_time": "2024-10-03T22:19:37.892Z"
   },
   {
    "duration": 18,
    "start_time": "2024-10-03T22:19:37.975Z"
   },
   {
    "duration": 34,
    "start_time": "2024-10-03T22:19:37.995Z"
   },
   {
    "duration": 1178,
    "start_time": "2024-10-03T22:19:38.030Z"
   },
   {
    "duration": 3219,
    "start_time": "2024-10-03T22:19:39.210Z"
   },
   {
    "duration": 60,
    "start_time": "2024-10-03T22:19:42.431Z"
   },
   {
    "duration": 33,
    "start_time": "2024-10-03T22:19:42.493Z"
   },
   {
    "duration": 3533,
    "start_time": "2024-10-03T22:19:42.528Z"
   },
   {
    "duration": 35,
    "start_time": "2024-10-03T22:19:46.062Z"
   },
   {
    "duration": 50,
    "start_time": "2024-10-03T22:19:46.099Z"
   },
   {
    "duration": 9,
    "start_time": "2024-10-03T22:19:46.155Z"
   },
   {
    "duration": 35,
    "start_time": "2024-10-03T22:19:46.165Z"
   },
   {
    "duration": 269,
    "start_time": "2024-10-03T22:19:46.201Z"
   },
   {
    "duration": 3062,
    "start_time": "2024-10-03T22:19:46.472Z"
   },
   {
    "duration": 147,
    "start_time": "2024-10-03T22:19:49.536Z"
   },
   {
    "duration": 262,
    "start_time": "2024-10-03T22:19:49.685Z"
   },
   {
    "duration": 243,
    "start_time": "2024-10-03T22:19:49.949Z"
   },
   {
    "duration": 26,
    "start_time": "2024-10-03T22:19:50.195Z"
   },
   {
    "duration": 6276,
    "start_time": "2024-10-03T22:19:50.223Z"
   },
   {
    "duration": 836,
    "start_time": "2024-10-03T22:19:56.501Z"
   },
   {
    "duration": 23,
    "start_time": "2024-10-03T22:19:57.339Z"
   },
   {
    "duration": 1500,
    "start_time": "2024-10-03T22:19:57.364Z"
   },
   {
    "duration": 151,
    "start_time": "2024-10-03T22:19:58.956Z"
   },
   {
    "duration": 0,
    "start_time": "2024-10-03T22:19:59.109Z"
   },
   {
    "duration": 0,
    "start_time": "2024-10-03T22:19:59.111Z"
   },
   {
    "duration": 0,
    "start_time": "2024-10-03T22:19:59.112Z"
   },
   {
    "duration": 0,
    "start_time": "2024-10-03T22:19:59.114Z"
   },
   {
    "duration": 0,
    "start_time": "2024-10-03T22:19:59.115Z"
   },
   {
    "duration": 0,
    "start_time": "2024-10-03T22:19:59.116Z"
   },
   {
    "duration": 0,
    "start_time": "2024-10-03T22:19:59.117Z"
   },
   {
    "duration": 0,
    "start_time": "2024-10-03T22:19:59.119Z"
   },
   {
    "duration": 1000,
    "start_time": "2024-10-03T22:24:17.926Z"
   },
   {
    "duration": 66,
    "start_time": "2024-10-03T22:24:31.138Z"
   },
   {
    "duration": 59,
    "start_time": "2024-10-03T22:55:42.655Z"
   },
   {
    "duration": 6825,
    "start_time": "2024-10-03T22:58:01.450Z"
   },
   {
    "duration": 84,
    "start_time": "2024-10-03T22:59:19.639Z"
   },
   {
    "duration": 6188,
    "start_time": "2024-10-03T23:04:44.488Z"
   },
   {
    "duration": 2300912,
    "start_time": "2024-10-03T23:05:27.159Z"
   },
   {
    "duration": 480638,
    "start_time": "2024-10-03T23:59:06.034Z"
   },
   {
    "duration": 17,
    "start_time": "2024-10-04T00:29:39.047Z"
   },
   {
    "duration": 6,
    "start_time": "2024-10-04T00:32:39.813Z"
   },
   {
    "duration": 81,
    "start_time": "2024-10-04T00:56:25.267Z"
   },
   {
    "duration": 5,
    "start_time": "2024-10-04T01:06:41.470Z"
   },
   {
    "duration": 488,
    "start_time": "2024-10-04T01:22:53.948Z"
   },
   {
    "duration": 465,
    "start_time": "2024-10-04T01:23:21.616Z"
   },
   {
    "duration": 24,
    "start_time": "2024-10-04T01:23:39.597Z"
   },
   {
    "duration": 64977,
    "start_time": "2024-10-04T01:26:14.371Z"
   },
   {
    "duration": 64421,
    "start_time": "2024-10-04T01:28:07.574Z"
   },
   {
    "duration": 1864513,
    "start_time": "2024-10-04T01:34:37.420Z"
   },
   {
    "duration": 4,
    "start_time": "2024-10-04T02:09:00.341Z"
   },
   {
    "duration": 4,
    "start_time": "2024-10-04T02:09:23.735Z"
   },
   {
    "duration": 4,
    "start_time": "2024-10-04T02:11:48.133Z"
   },
   {
    "duration": 3,
    "start_time": "2024-10-04T02:12:23.556Z"
   },
   {
    "duration": 4,
    "start_time": "2024-10-04T02:13:45.086Z"
   },
   {
    "duration": 5,
    "start_time": "2024-10-04T02:14:26.936Z"
   },
   {
    "duration": 4,
    "start_time": "2024-10-04T02:16:43.287Z"
   },
   {
    "duration": 104,
    "start_time": "2024-10-04T02:26:06.064Z"
   },
   {
    "duration": 3048,
    "start_time": "2024-10-04T02:27:25.916Z"
   },
   {
    "duration": 21,
    "start_time": "2024-10-04T02:35:04.173Z"
   },
   {
    "duration": 1396,
    "start_time": "2024-10-04T02:35:36.201Z"
   },
   {
    "duration": 3936,
    "start_time": "2024-10-04T02:35:43.585Z"
   },
   {
    "duration": 517,
    "start_time": "2024-10-04T02:35:49.788Z"
   },
   {
    "duration": 3400,
    "start_time": "2024-10-04T02:36:13.308Z"
   },
   {
    "duration": 2256094,
    "start_time": "2024-10-04T02:36:21.362Z"
   },
   {
    "duration": 85,
    "start_time": "2024-10-04T03:13:57.458Z"
   },
   {
    "duration": 6280,
    "start_time": "2024-10-04T03:18:06.599Z"
   },
   {
    "duration": 91,
    "start_time": "2024-10-04T03:24:53.412Z"
   },
   {
    "duration": 18687,
    "start_time": "2024-10-04T03:27:30.291Z"
   },
   {
    "duration": 4,
    "start_time": "2024-10-04T03:30:01.143Z"
   },
   {
    "duration": 4,
    "start_time": "2024-10-04T03:31:02.229Z"
   },
   {
    "duration": 2724,
    "start_time": "2024-10-04T03:32:17.849Z"
   },
   {
    "duration": 2690,
    "start_time": "2024-10-04T03:32:20.576Z"
   },
   {
    "duration": 2708,
    "start_time": "2024-10-04T03:32:23.269Z"
   },
   {
    "duration": 2677,
    "start_time": "2024-10-04T03:32:25.980Z"
   },
   {
    "duration": 2853,
    "start_time": "2024-10-04T03:32:28.659Z"
   },
   {
    "duration": 1392992,
    "start_time": "2024-10-04T03:40:37.208Z"
   },
   {
    "duration": 59,
    "start_time": "2024-10-04T10:40:14.129Z"
   },
   {
    "duration": 2784,
    "start_time": "2024-10-04T10:40:43.908Z"
   },
   {
    "duration": 2636,
    "start_time": "2024-10-04T10:40:46.694Z"
   },
   {
    "duration": 2677,
    "start_time": "2024-10-04T10:40:49.333Z"
   },
   {
    "duration": 2689,
    "start_time": "2024-10-04T10:40:52.012Z"
   },
   {
    "duration": 2654,
    "start_time": "2024-10-04T10:40:54.704Z"
   },
   {
    "duration": 1774,
    "start_time": "2024-10-04T10:40:57.360Z"
   },
   {
    "duration": 1246,
    "start_time": "2024-10-04T10:40:59.136Z"
   },
   {
    "duration": 19,
    "start_time": "2024-10-04T10:41:00.384Z"
   },
   {
    "duration": 42,
    "start_time": "2024-10-04T10:41:00.405Z"
   },
   {
    "duration": 1182,
    "start_time": "2024-10-04T10:41:00.449Z"
   },
   {
    "duration": 409,
    "start_time": "2024-10-04T10:41:01.633Z"
   },
   {
    "duration": 12,
    "start_time": "2024-10-04T10:41:02.043Z"
   },
   {
    "duration": 278,
    "start_time": "2024-10-04T10:41:02.057Z"
   },
   {
    "duration": 124,
    "start_time": "2024-10-04T10:41:02.338Z"
   },
   {
    "duration": 31,
    "start_time": "2024-10-04T10:41:02.463Z"
   },
   {
    "duration": 4,
    "start_time": "2024-10-04T10:41:02.496Z"
   },
   {
    "duration": 3287,
    "start_time": "2024-10-04T10:41:02.501Z"
   },
   {
    "duration": 17,
    "start_time": "2024-10-04T10:41:05.790Z"
   },
   {
    "duration": 64,
    "start_time": "2024-10-04T10:41:05.809Z"
   },
   {
    "duration": 18,
    "start_time": "2024-10-04T10:41:05.875Z"
   },
   {
    "duration": 44,
    "start_time": "2024-10-04T10:41:05.895Z"
   },
   {
    "duration": 1144,
    "start_time": "2024-10-04T10:41:05.940Z"
   },
   {
    "duration": 3329,
    "start_time": "2024-10-04T10:41:07.087Z"
   },
   {
    "duration": 51,
    "start_time": "2024-10-04T10:41:10.418Z"
   },
   {
    "duration": 42,
    "start_time": "2024-10-04T10:41:10.471Z"
   },
   {
    "duration": 3555,
    "start_time": "2024-10-04T10:41:10.515Z"
   },
   {
    "duration": 39,
    "start_time": "2024-10-04T10:41:14.071Z"
   },
   {
    "duration": 54,
    "start_time": "2024-10-04T10:41:14.113Z"
   },
   {
    "duration": 13,
    "start_time": "2024-10-04T10:41:14.169Z"
   },
   {
    "duration": 67,
    "start_time": "2024-10-04T10:41:14.183Z"
   },
   {
    "duration": 248,
    "start_time": "2024-10-04T10:41:14.252Z"
   },
   {
    "duration": 3086,
    "start_time": "2024-10-04T10:41:14.502Z"
   },
   {
    "duration": 145,
    "start_time": "2024-10-04T10:41:17.590Z"
   },
   {
    "duration": 250,
    "start_time": "2024-10-04T10:41:17.737Z"
   },
   {
    "duration": 242,
    "start_time": "2024-10-04T10:41:17.989Z"
   },
   {
    "duration": 36,
    "start_time": "2024-10-04T10:41:18.233Z"
   },
   {
    "duration": 6284,
    "start_time": "2024-10-04T10:41:18.271Z"
   },
   {
    "duration": 828,
    "start_time": "2024-10-04T10:41:24.557Z"
   },
   {
    "duration": 15,
    "start_time": "2024-10-04T10:41:25.386Z"
   },
   {
    "duration": 1556,
    "start_time": "2024-10-04T10:41:25.403Z"
   },
   {
    "duration": 149,
    "start_time": "2024-10-04T10:41:27.055Z"
   },
   {
    "duration": 407771,
    "start_time": "2024-10-04T10:41:27.206Z"
   },
   {
    "duration": 794994,
    "start_time": "2024-10-04T10:48:14.980Z"
   },
   {
    "duration": 325,
    "start_time": "2024-10-04T11:01:29.976Z"
   },
   {
    "duration": 5,
    "start_time": "2024-10-04T11:01:30.302Z"
   },
   {
    "duration": 65367,
    "start_time": "2024-10-04T11:01:30.308Z"
   },
   {
    "duration": 1862171,
    "start_time": "2024-10-04T11:02:35.677Z"
   },
   {
    "duration": 8,
    "start_time": "2024-10-04T11:33:37.849Z"
   },
   {
    "duration": 93,
    "start_time": "2024-10-04T11:33:37.859Z"
   },
   {
    "duration": 2257326,
    "start_time": "2024-10-04T11:33:37.954Z"
   },
   {
    "duration": 95,
    "start_time": "2024-10-04T12:11:15.283Z"
   },
   {
    "duration": 197902,
    "start_time": "2024-10-04T12:18:43.170Z"
   },
   {
    "duration": 2588,
    "start_time": "2024-10-04T12:40:45.855Z"
   },
   {
    "duration": 2505,
    "start_time": "2024-10-04T12:40:48.445Z"
   },
   {
    "duration": 2508,
    "start_time": "2024-10-04T12:40:50.952Z"
   },
   {
    "duration": 2534,
    "start_time": "2024-10-04T12:40:53.462Z"
   },
   {
    "duration": 3852,
    "start_time": "2024-10-04T12:40:55.999Z"
   },
   {
    "duration": 1821,
    "start_time": "2024-10-04T12:40:59.853Z"
   },
   {
    "duration": 1228,
    "start_time": "2024-10-04T12:41:01.676Z"
   },
   {
    "duration": 18,
    "start_time": "2024-10-04T12:41:02.906Z"
   },
   {
    "duration": 47,
    "start_time": "2024-10-04T12:41:02.926Z"
   },
   {
    "duration": 1102,
    "start_time": "2024-10-04T12:41:02.975Z"
   },
   {
    "duration": 397,
    "start_time": "2024-10-04T12:41:04.079Z"
   },
   {
    "duration": 5,
    "start_time": "2024-10-04T12:41:04.478Z"
   },
   {
    "duration": 263,
    "start_time": "2024-10-04T12:41:04.485Z"
   },
   {
    "duration": 122,
    "start_time": "2024-10-04T12:41:04.751Z"
   },
   {
    "duration": 29,
    "start_time": "2024-10-04T12:41:04.874Z"
   },
   {
    "duration": 81,
    "start_time": "2024-10-04T12:41:04.904Z"
   },
   {
    "duration": 3169,
    "start_time": "2024-10-04T12:41:04.987Z"
   },
   {
    "duration": 18,
    "start_time": "2024-10-04T12:41:08.157Z"
   },
   {
    "duration": 64,
    "start_time": "2024-10-04T12:41:08.176Z"
   },
   {
    "duration": 21,
    "start_time": "2024-10-04T12:41:08.241Z"
   },
   {
    "duration": 31,
    "start_time": "2024-10-04T12:41:08.264Z"
   },
   {
    "duration": 1123,
    "start_time": "2024-10-04T12:41:08.297Z"
   },
   {
    "duration": 3113,
    "start_time": "2024-10-04T12:41:09.422Z"
   },
   {
    "duration": 52,
    "start_time": "2024-10-04T12:41:12.537Z"
   },
   {
    "duration": 30,
    "start_time": "2024-10-04T12:41:12.591Z"
   },
   {
    "duration": 3419,
    "start_time": "2024-10-04T12:41:12.623Z"
   },
   {
    "duration": 37,
    "start_time": "2024-10-04T12:41:16.043Z"
   },
   {
    "duration": 51,
    "start_time": "2024-10-04T12:41:16.081Z"
   },
   {
    "duration": 7,
    "start_time": "2024-10-04T12:41:16.133Z"
   },
   {
    "duration": 47,
    "start_time": "2024-10-04T12:41:16.142Z"
   },
   {
    "duration": 237,
    "start_time": "2024-10-04T12:41:16.191Z"
   },
   {
    "duration": 2904,
    "start_time": "2024-10-04T12:41:16.429Z"
   },
   {
    "duration": 115,
    "start_time": "2024-10-04T12:41:19.335Z"
   },
   {
    "duration": 253,
    "start_time": "2024-10-04T12:41:19.454Z"
   },
   {
    "duration": 229,
    "start_time": "2024-10-04T12:41:19.709Z"
   },
   {
    "duration": 46,
    "start_time": "2024-10-04T12:41:19.940Z"
   },
   {
    "duration": 6031,
    "start_time": "2024-10-04T12:41:19.988Z"
   },
   {
    "duration": 779,
    "start_time": "2024-10-04T12:41:26.020Z"
   },
   {
    "duration": 14,
    "start_time": "2024-10-04T12:41:26.800Z"
   },
   {
    "duration": 1545,
    "start_time": "2024-10-04T12:41:26.816Z"
   },
   {
    "duration": 223,
    "start_time": "2024-10-04T12:41:28.368Z"
   },
   {
    "duration": 6890,
    "start_time": "2024-10-04T12:41:28.593Z"
   },
   {
    "duration": 578576,
    "start_time": "2024-10-04T12:41:35.486Z"
   },
   {
    "duration": 1337712,
    "start_time": "2024-10-04T12:51:14.064Z"
   },
   {
    "duration": 5,
    "start_time": "2024-10-04T13:13:31.778Z"
   },
   {
    "duration": 64038,
    "start_time": "2024-10-04T13:13:31.784Z"
   },
   {
    "duration": 1845230,
    "start_time": "2024-10-04T13:14:35.824Z"
   },
   {
    "duration": 4,
    "start_time": "2024-10-04T13:45:21.056Z"
   },
   {
    "duration": 22300,
    "start_time": "2024-10-04T13:45:21.062Z"
   }
  ],
  "kernelspec": {
   "display_name": "Python 3 (ipykernel)",
   "language": "python",
   "name": "python3"
  },
  "language_info": {
   "codemirror_mode": {
    "name": "ipython",
    "version": 3
   },
   "file_extension": ".py",
   "mimetype": "text/x-python",
   "name": "python",
   "nbconvert_exporter": "python",
   "pygments_lexer": "ipython3",
   "version": "3.11.4"
  },
  "toc": {
   "base_numbering": 1,
   "nav_menu": {},
   "number_sections": true,
   "sideBar": true,
   "skip_h1_title": true,
   "title_cell": "Table of Contents",
   "title_sidebar": "Contents",
   "toc_cell": false,
   "toc_position": {},
   "toc_section_display": true,
   "toc_window_display": false
  }
 },
 "nbformat": 4,
 "nbformat_minor": 5
}
